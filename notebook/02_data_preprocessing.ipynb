{
 "cells": [
  {
   "cell_type": "code",
   "execution_count": 1,
   "metadata": {},
   "outputs": [],
   "source": [
    "import pandas as pd\n",
    "import numpy as np\n",
    "import os\n",
    "from sklearn.model_selection import train_test_split"
   ]
  },
  {
   "cell_type": "code",
   "execution_count": 2,
   "id": "aa767191",
   "metadata": {},
   "outputs": [
    {
     "data": {
      "application/vnd.microsoft.datawrangler.viewer.v0+json": {
       "columns": [
        {
         "name": "index",
         "rawType": "int64",
         "type": "integer"
        },
        {
         "name": "Age",
         "rawType": "float64",
         "type": "float"
        },
        {
         "name": "Gender",
         "rawType": "object",
         "type": "string"
        },
        {
         "name": "Weight (kg)",
         "rawType": "float64",
         "type": "float"
        },
        {
         "name": "Height (m)",
         "rawType": "float64",
         "type": "float"
        },
        {
         "name": "Max_BPM",
         "rawType": "float64",
         "type": "float"
        },
        {
         "name": "Avg_BPM",
         "rawType": "float64",
         "type": "float"
        },
        {
         "name": "Resting_BPM",
         "rawType": "float64",
         "type": "float"
        },
        {
         "name": "Session_Duration (hours)",
         "rawType": "float64",
         "type": "float"
        },
        {
         "name": "Calories_Burned",
         "rawType": "float64",
         "type": "float"
        },
        {
         "name": "Workout_Type",
         "rawType": "object",
         "type": "string"
        },
        {
         "name": "Fat_Percentage",
         "rawType": "float64",
         "type": "float"
        },
        {
         "name": "Water_Intake (liters)",
         "rawType": "float64",
         "type": "float"
        },
        {
         "name": "Workout_Frequency (days/week)",
         "rawType": "float64",
         "type": "float"
        },
        {
         "name": "Experience_Level",
         "rawType": "float64",
         "type": "float"
        },
        {
         "name": "BMI",
         "rawType": "float64",
         "type": "float"
        },
        {
         "name": "Daily meals frequency",
         "rawType": "float64",
         "type": "float"
        },
        {
         "name": "Physical exercise",
         "rawType": "float64",
         "type": "float"
        },
        {
         "name": "Carbs",
         "rawType": "float64",
         "type": "float"
        },
        {
         "name": "Proteins",
         "rawType": "float64",
         "type": "float"
        },
        {
         "name": "Fats",
         "rawType": "float64",
         "type": "float"
        },
        {
         "name": "Calories",
         "rawType": "float64",
         "type": "float"
        },
        {
         "name": "meal_name",
         "rawType": "object",
         "type": "string"
        },
        {
         "name": "meal_type",
         "rawType": "object",
         "type": "string"
        },
        {
         "name": "diet_type",
         "rawType": "object",
         "type": "string"
        },
        {
         "name": "sugar_g",
         "rawType": "float64",
         "type": "float"
        },
        {
         "name": "sodium_mg",
         "rawType": "float64",
         "type": "float"
        },
        {
         "name": "cholesterol_mg",
         "rawType": "float64",
         "type": "float"
        },
        {
         "name": "serving_size_g",
         "rawType": "float64",
         "type": "float"
        },
        {
         "name": "cooking_method",
         "rawType": "object",
         "type": "string"
        },
        {
         "name": "prep_time_min",
         "rawType": "float64",
         "type": "float"
        },
        {
         "name": "cook_time_min",
         "rawType": "float64",
         "type": "float"
        },
        {
         "name": "rating",
         "rawType": "float64",
         "type": "float"
        },
        {
         "name": "is_healthy",
         "rawType": "float64",
         "type": "float"
        },
        {
         "name": "Name of Exercise",
         "rawType": "object",
         "type": "string"
        },
        {
         "name": "Sets",
         "rawType": "float64",
         "type": "float"
        },
        {
         "name": "Reps",
         "rawType": "float64",
         "type": "float"
        },
        {
         "name": "Benefit",
         "rawType": "object",
         "type": "string"
        },
        {
         "name": "Burns Calories (per 30 min)",
         "rawType": "float64",
         "type": "float"
        },
        {
         "name": "Target Muscle Group",
         "rawType": "object",
         "type": "string"
        },
        {
         "name": "Equipment Needed",
         "rawType": "object",
         "type": "string"
        },
        {
         "name": "Difficulty Level",
         "rawType": "object",
         "type": "string"
        },
        {
         "name": "Body Part",
         "rawType": "object",
         "type": "string"
        },
        {
         "name": "Type of Muscle",
         "rawType": "object",
         "type": "string"
        },
        {
         "name": "Workout",
         "rawType": "object",
         "type": "string"
        },
        {
         "name": "BMI_calc",
         "rawType": "float64",
         "type": "float"
        },
        {
         "name": "cal_from_macros",
         "rawType": "float64",
         "type": "float"
        },
        {
         "name": "pct_carbs",
         "rawType": "float64",
         "type": "float"
        },
        {
         "name": "protein_per_kg",
         "rawType": "float64",
         "type": "float"
        },
        {
         "name": "pct_HRR",
         "rawType": "float64",
         "type": "float"
        },
        {
         "name": "pct_maxHR",
         "rawType": "float64",
         "type": "float"
        },
        {
         "name": "cal_balance",
         "rawType": "float64",
         "type": "float"
        },
        {
         "name": "lean_mass_kg",
         "rawType": "float64",
         "type": "float"
        },
        {
         "name": "expected_burn",
         "rawType": "float64",
         "type": "float"
        }
       ],
       "ref": "8326eabf-42ef-4746-9b09-8b87efc209dd",
       "rows": [
        [
         "0",
         "34.91",
         "Male",
         "65.27",
         "1.62",
         "188.58",
         "157.65",
         "69.05",
         "1.0",
         "1080.9",
         "Strength",
         "26.800377179186803",
         "1.5",
         "3.99",
         "2.01",
         "24.87",
         "2.99",
         "0.01",
         "267.68",
         "106.05",
         "71.63",
         "1806.0",
         "Affect Stew",
         "Lunch",
         "Vegan",
         "31.77",
         "1729.94",
         "285.05",
         "120.47",
         "Grilled",
         "16.24",
         "110.79",
         "1.31",
         "-0.0",
         "Decline Push-ups",
         "4.99",
         "20.91",
         "Improves shoulder health and posture",
         "342.58",
         "Shoulders, Triceps",
         "Cable Machine",
         "Advanced",
         "Legs",
         "Lats",
         "Dumbbell flyes",
         "24.8704465782655",
         "2139.59",
         "0.5004323258194326",
         "1.624789336601808",
         "0.7412365096628462",
         "0.8359847279669106",
         "725.0999999999999",
         "47.77739381514478",
         "685.16"
        ],
        [
         "1",
         "23.37",
         "Female",
         "56.41",
         "1.55",
         "179.43",
         "131.75",
         "73.18",
         "1.37",
         "1809.91",
         "HIIT",
         "27.65502094955822",
         "1.9",
         "4.0",
         "2.01",
         "23.48",
         "3.01",
         "0.97",
         "214.32",
         "85.41",
         "56.97",
         "1577.0",
         "Writer Rice",
         "Lunch",
         "Vegetarian",
         "12.34",
         "693.08",
         "300.61",
         "109.15",
         "Fried",
         "16.47",
         "12.01",
         "1.92",
         "0.01",
         "Bear Crawls",
         "4.01",
         "16.15",
         "Strengthens lower abs",
         "357.16",
         "Back, Core, Shoulders",
         "Step or Box",
         "Intermediate",
         "Chest",
         "Lats",
         "Lateral raises",
         "23.479708636836623",
         "1711.65",
         "0.5008500569625799",
         "1.5140932458783904",
         "0.5512470588235293",
         "0.7342696316112133",
         "-232.91000000000008",
         "40.8098026823542",
         "978.6184000000002"
        ],
        [
         "2",
         "33.2",
         "Female",
         "58.98",
         "1.67",
         "175.04",
         "123.95",
         "54.96",
         "0.91",
         "802.26",
         "Cardio",
         "24.32082112410528",
         "1.88",
         "2.99",
         "1.02",
         "21.15",
         "1.99",
         "-0.02",
         "246.04",
         "98.11",
         "65.48",
         "1608.0",
         "Television Stew",
         "Breakfast",
         "Paleo",
         "42.81",
         "2142.48",
         "215.42",
         "399.43",
         "Boiled",
         "54.35",
         "6.09",
         "4.7",
         "0.0",
         "Dips",
         "5.0",
         "21.9",
         "Builds chest strength",
         "359.63",
         "Quadriceps, Glutes",
         "Step or Box",
         "Intermediate",
         "Arms",
         "Grip Strength",
         "Standing calf raises",
         "21.148122915844954",
         "1965.92",
         "0.5006104012370798",
         "1.6634452356731095",
         "0.5745336442371753",
         "0.708123857404022",
         "805.74",
         "44.63557970100271",
         "654.5266"
        ],
        [
         "3",
         "38.69",
         "Female",
         "93.78",
         "1.7",
         "191.21",
         "155.1",
         "50.07",
         "1.1",
         "1450.79",
         "HIIT",
         "32.81357178608907",
         "2.5",
         "3.99",
         "1.99",
         "32.45",
         "3.0",
         "0.04",
         "203.22",
         "80.84",
         "54.56",
         "2657.0",
         "Plant Curry",
         "Lunch",
         "Paleo",
         "9.34",
         "123.2",
         "9.7",
         "314.31",
         "Fried",
         "27.73",
         "103.72",
         "4.85",
         "0.01",
         "Mountain Climbers",
         "4.01",
         "16.92",
         "Improves coordination and cardiovascular health",
         "351.65",
         "Biceps, Forearms",
         "Parallel Bars or Chair",
         "Advanced",
         "Shoulders",
         "Upper",
         "Incline dumbbell flyes",
         "32.44982698961938",
         "1627.28",
         "0.499532962981171",
         "0.8620174877372574",
         "0.7441547399744933",
         "0.811150044453742",
         "1206.21",
         "63.00743237900567",
         "773.63"
        ],
        [
         "4",
         "45.09",
         "Male",
         "52.42",
         "1.88",
         "193.58",
         "152.88",
         "70.84",
         "1.08",
         "1166.4",
         "Strength",
         "17.307318603384633",
         "2.91",
         "4.0",
         "2.0",
         "14.83",
         "3.0",
         "3.0",
         "332.79",
         "133.05",
         "88.43",
         "1470.0",
         "Her Stew",
         "Breakfast",
         "Vegan",
         "23.78",
         "1935.11",
         "116.89",
         "99.22",
         "Baked",
         "34.16",
         "46.55",
         "3.07",
         "0.01",
         "Bicep Curls",
         "4.99",
         "15.01",
         "Targets obliques and improves core rotation",
         "329.36",
         "Chest, Triceps",
         "Wall",
         "Advanced",
         "Abs",
         "Wrist Flexors",
         "Military press",
         "14.831371661385244",
         "2659.2300000000005",
         "0.5005809952505048",
         "2.538153376573827",
         "0.6684047580250936",
         "0.7897510073354684",
         "303.5999999999999",
         "43.34750358810577",
         "711.4176000000001"
        ]
       ],
       "shape": {
        "columns": 53,
        "rows": 5
       }
      },
      "text/html": [
       "<div>\n",
       "<style scoped>\n",
       "    .dataframe tbody tr th:only-of-type {\n",
       "        vertical-align: middle;\n",
       "    }\n",
       "\n",
       "    .dataframe tbody tr th {\n",
       "        vertical-align: top;\n",
       "    }\n",
       "\n",
       "    .dataframe thead th {\n",
       "        text-align: right;\n",
       "    }\n",
       "</style>\n",
       "<table border=\"1\" class=\"dataframe\">\n",
       "  <thead>\n",
       "    <tr style=\"text-align: right;\">\n",
       "      <th></th>\n",
       "      <th>Age</th>\n",
       "      <th>Gender</th>\n",
       "      <th>Weight (kg)</th>\n",
       "      <th>Height (m)</th>\n",
       "      <th>Max_BPM</th>\n",
       "      <th>Avg_BPM</th>\n",
       "      <th>Resting_BPM</th>\n",
       "      <th>Session_Duration (hours)</th>\n",
       "      <th>Calories_Burned</th>\n",
       "      <th>Workout_Type</th>\n",
       "      <th>...</th>\n",
       "      <th>Workout</th>\n",
       "      <th>BMI_calc</th>\n",
       "      <th>cal_from_macros</th>\n",
       "      <th>pct_carbs</th>\n",
       "      <th>protein_per_kg</th>\n",
       "      <th>pct_HRR</th>\n",
       "      <th>pct_maxHR</th>\n",
       "      <th>cal_balance</th>\n",
       "      <th>lean_mass_kg</th>\n",
       "      <th>expected_burn</th>\n",
       "    </tr>\n",
       "  </thead>\n",
       "  <tbody>\n",
       "    <tr>\n",
       "      <th>0</th>\n",
       "      <td>34.91</td>\n",
       "      <td>Male</td>\n",
       "      <td>65.27</td>\n",
       "      <td>1.62</td>\n",
       "      <td>188.58</td>\n",
       "      <td>157.65</td>\n",
       "      <td>69.05</td>\n",
       "      <td>1.00</td>\n",
       "      <td>1080.90</td>\n",
       "      <td>Strength</td>\n",
       "      <td>...</td>\n",
       "      <td>Dumbbell flyes</td>\n",
       "      <td>24.870447</td>\n",
       "      <td>2139.59</td>\n",
       "      <td>0.500432</td>\n",
       "      <td>1.624789</td>\n",
       "      <td>0.741237</td>\n",
       "      <td>0.835985</td>\n",
       "      <td>725.10</td>\n",
       "      <td>47.777394</td>\n",
       "      <td>685.1600</td>\n",
       "    </tr>\n",
       "    <tr>\n",
       "      <th>1</th>\n",
       "      <td>23.37</td>\n",
       "      <td>Female</td>\n",
       "      <td>56.41</td>\n",
       "      <td>1.55</td>\n",
       "      <td>179.43</td>\n",
       "      <td>131.75</td>\n",
       "      <td>73.18</td>\n",
       "      <td>1.37</td>\n",
       "      <td>1809.91</td>\n",
       "      <td>HIIT</td>\n",
       "      <td>...</td>\n",
       "      <td>Lateral raises</td>\n",
       "      <td>23.479709</td>\n",
       "      <td>1711.65</td>\n",
       "      <td>0.500850</td>\n",
       "      <td>1.514093</td>\n",
       "      <td>0.551247</td>\n",
       "      <td>0.734270</td>\n",
       "      <td>-232.91</td>\n",
       "      <td>40.809803</td>\n",
       "      <td>978.6184</td>\n",
       "    </tr>\n",
       "    <tr>\n",
       "      <th>2</th>\n",
       "      <td>33.20</td>\n",
       "      <td>Female</td>\n",
       "      <td>58.98</td>\n",
       "      <td>1.67</td>\n",
       "      <td>175.04</td>\n",
       "      <td>123.95</td>\n",
       "      <td>54.96</td>\n",
       "      <td>0.91</td>\n",
       "      <td>802.26</td>\n",
       "      <td>Cardio</td>\n",
       "      <td>...</td>\n",
       "      <td>Standing calf raises</td>\n",
       "      <td>21.148123</td>\n",
       "      <td>1965.92</td>\n",
       "      <td>0.500610</td>\n",
       "      <td>1.663445</td>\n",
       "      <td>0.574534</td>\n",
       "      <td>0.708124</td>\n",
       "      <td>805.74</td>\n",
       "      <td>44.635580</td>\n",
       "      <td>654.5266</td>\n",
       "    </tr>\n",
       "    <tr>\n",
       "      <th>3</th>\n",
       "      <td>38.69</td>\n",
       "      <td>Female</td>\n",
       "      <td>93.78</td>\n",
       "      <td>1.70</td>\n",
       "      <td>191.21</td>\n",
       "      <td>155.10</td>\n",
       "      <td>50.07</td>\n",
       "      <td>1.10</td>\n",
       "      <td>1450.79</td>\n",
       "      <td>HIIT</td>\n",
       "      <td>...</td>\n",
       "      <td>Incline dumbbell flyes</td>\n",
       "      <td>32.449827</td>\n",
       "      <td>1627.28</td>\n",
       "      <td>0.499533</td>\n",
       "      <td>0.862017</td>\n",
       "      <td>0.744155</td>\n",
       "      <td>0.811150</td>\n",
       "      <td>1206.21</td>\n",
       "      <td>63.007432</td>\n",
       "      <td>773.6300</td>\n",
       "    </tr>\n",
       "    <tr>\n",
       "      <th>4</th>\n",
       "      <td>45.09</td>\n",
       "      <td>Male</td>\n",
       "      <td>52.42</td>\n",
       "      <td>1.88</td>\n",
       "      <td>193.58</td>\n",
       "      <td>152.88</td>\n",
       "      <td>70.84</td>\n",
       "      <td>1.08</td>\n",
       "      <td>1166.40</td>\n",
       "      <td>Strength</td>\n",
       "      <td>...</td>\n",
       "      <td>Military press</td>\n",
       "      <td>14.831372</td>\n",
       "      <td>2659.23</td>\n",
       "      <td>0.500581</td>\n",
       "      <td>2.538153</td>\n",
       "      <td>0.668405</td>\n",
       "      <td>0.789751</td>\n",
       "      <td>303.60</td>\n",
       "      <td>43.347504</td>\n",
       "      <td>711.4176</td>\n",
       "    </tr>\n",
       "  </tbody>\n",
       "</table>\n",
       "<p>5 rows × 53 columns</p>\n",
       "</div>"
      ],
      "text/plain": [
       "     Age  Gender  Weight (kg)  Height (m)  Max_BPM  Avg_BPM  Resting_BPM  \\\n",
       "0  34.91    Male        65.27        1.62   188.58   157.65        69.05   \n",
       "1  23.37  Female        56.41        1.55   179.43   131.75        73.18   \n",
       "2  33.20  Female        58.98        1.67   175.04   123.95        54.96   \n",
       "3  38.69  Female        93.78        1.70   191.21   155.10        50.07   \n",
       "4  45.09    Male        52.42        1.88   193.58   152.88        70.84   \n",
       "\n",
       "   Session_Duration (hours)  Calories_Burned Workout_Type  ...  \\\n",
       "0                      1.00          1080.90     Strength  ...   \n",
       "1                      1.37          1809.91         HIIT  ...   \n",
       "2                      0.91           802.26       Cardio  ...   \n",
       "3                      1.10          1450.79         HIIT  ...   \n",
       "4                      1.08          1166.40     Strength  ...   \n",
       "\n",
       "                  Workout   BMI_calc  cal_from_macros  pct_carbs  \\\n",
       "0          Dumbbell flyes  24.870447          2139.59   0.500432   \n",
       "1          Lateral raises  23.479709          1711.65   0.500850   \n",
       "2    Standing calf raises  21.148123          1965.92   0.500610   \n",
       "3  Incline dumbbell flyes  32.449827          1627.28   0.499533   \n",
       "4          Military press  14.831372          2659.23   0.500581   \n",
       "\n",
       "   protein_per_kg   pct_HRR  pct_maxHR  cal_balance  lean_mass_kg  \\\n",
       "0        1.624789  0.741237   0.835985       725.10     47.777394   \n",
       "1        1.514093  0.551247   0.734270      -232.91     40.809803   \n",
       "2        1.663445  0.574534   0.708124       805.74     44.635580   \n",
       "3        0.862017  0.744155   0.811150      1206.21     63.007432   \n",
       "4        2.538153  0.668405   0.789751       303.60     43.347504   \n",
       "\n",
       "   expected_burn  \n",
       "0       685.1600  \n",
       "1       978.6184  \n",
       "2       654.5266  \n",
       "3       773.6300  \n",
       "4       711.4176  \n",
       "\n",
       "[5 rows x 53 columns]"
      ]
     },
     "execution_count": 2,
     "metadata": {},
     "output_type": "execute_result"
    }
   ],
   "source": [
    "# load dataset\n",
    "df = pd.read_csv(\"../data/raw/life_style.csv\")\n",
    "# display first few rows\n",
    "df.head()"
   ]
  },
  {
   "cell_type": "code",
   "execution_count": 3,
   "id": "f0a53f8c",
   "metadata": {},
   "outputs": [
    {
     "data": {
      "text/plain": [
       "Index(['Age', 'Gender', 'Weight (kg)', 'Height (m)', 'Max_BPM', 'Avg_BPM',\n",
       "       'Resting_BPM', 'Session_Duration (hours)', 'Calories_Burned',\n",
       "       'Workout_Type', 'Fat_Percentage', 'Water_Intake (liters)',\n",
       "       'Workout_Frequency (days/week)', 'Experience_Level', 'BMI',\n",
       "       'Daily meals frequency', 'Physical exercise', 'Carbs', 'Proteins',\n",
       "       'Fats', 'Calories', 'meal_name', 'meal_type', 'diet_type', 'sugar_g',\n",
       "       'sodium_mg', 'cholesterol_mg', 'serving_size_g', 'cooking_method',\n",
       "       'prep_time_min', 'cook_time_min', 'rating', 'is_healthy',\n",
       "       'Name of Exercise', 'Sets', 'Reps', 'Benefit',\n",
       "       'Burns Calories (per 30 min)', 'Target Muscle Group',\n",
       "       'Equipment Needed', 'Difficulty Level', 'Body Part', 'Type of Muscle',\n",
       "       'Workout', 'BMI_calc', 'cal_from_macros', 'pct_carbs', 'protein_per_kg',\n",
       "       'pct_HRR', 'pct_maxHR', 'cal_balance', 'lean_mass_kg', 'expected_burn'],\n",
       "      dtype='object')"
      ]
     },
     "execution_count": 3,
     "metadata": {},
     "output_type": "execute_result"
    }
   ],
   "source": [
    "df.columns"
   ]
  },
  {
   "cell_type": "code",
   "execution_count": null,
   "id": "ed575aa1",
   "metadata": {},
   "outputs": [],
   "source": [
    "# replacing space in column names with underscore and making lowercase\n",
    "# preprocessing column names\n",
    "df.columns = df.columns.str.replace(' ', '_').str.lower()"
   ]
  },
  {
   "cell_type": "code",
   "execution_count": 8,
   "id": "8382c8bc",
   "metadata": {},
   "outputs": [
    {
     "data": {
      "text/plain": [
       "Index(['age', 'gender', 'weight_(kg)', 'height_(m)', 'max_bpm', 'avg_bpm',\n",
       "       'resting_bpm', 'session_duration_(hours)', 'calories_burned',\n",
       "       'workout_type', 'fat_percentage', 'water_intake_(liters)',\n",
       "       'workout_frequency_(days/week)', 'experience_level', 'bmi',\n",
       "       'daily_meals_frequency', 'physical_exercise', 'carbs', 'proteins',\n",
       "       'fats', 'calories', 'meal_name', 'meal_type', 'diet_type', 'sugar_g',\n",
       "       'sodium_mg', 'cholesterol_mg', 'serving_size_g', 'cooking_method',\n",
       "       'prep_time_min', 'cook_time_min', 'rating', 'is_healthy',\n",
       "       'name_of_exercise', 'sets', 'reps', 'benefit',\n",
       "       'burns_calories_(per_30_min)', 'target_muscle_group',\n",
       "       'equipment_needed', 'difficulty_level', 'body_part', 'type_of_muscle',\n",
       "       'workout', 'bmi_calc', 'cal_from_macros', 'pct_carbs', 'protein_per_kg',\n",
       "       'pct_hrr', 'pct_maxhr', 'cal_balance', 'lean_mass_kg', 'expected_burn'],\n",
       "      dtype='object')"
      ]
     },
     "execution_count": 8,
     "metadata": {},
     "output_type": "execute_result"
    }
   ],
   "source": [
    "# let's see the updated column names\n",
    "df.columns\n"
   ]
  },
  {
   "cell_type": "code",
   "execution_count": 10,
   "id": "ebc68221",
   "metadata": {},
   "outputs": [],
   "source": [
    "# saving preprocessing dataset\n",
    "os.makedirs(\"../data/processed/\", exist_ok=True)\n",
    "df.to_csv(\"../data/processed/life_style_cleaned.csv\", index=False)"
   ]
  },
  {
   "cell_type": "code",
   "execution_count": 11,
   "id": "044a0292",
   "metadata": {},
   "outputs": [],
   "source": [
    "# splitting the dataset into training and testing sets and save them to interim folder\n",
    "train_set, test_set = train_test_split(df, test_size=0.2, random_state=42)\n",
    "os.makedirs('../data/interim', exist_ok=True)\n",
    "train_set.to_csv('../data/interim/train_set.csv', index=False)\n",
    "test_set.to_csv('../data/interim/test_set.csv', index=False)"
   ]
  },
  {
   "cell_type": "code",
   "execution_count": 13,
   "id": "fbe6de07",
   "metadata": {},
   "outputs": [
    {
     "data": {
      "text/plain": [
       "((16000, 53), (4000, 53))"
      ]
     },
     "execution_count": 13,
     "metadata": {},
     "output_type": "execute_result"
    }
   ],
   "source": [
    "# working with the training set for further preprocessing\n",
    "train_set.shape, test_set.shape"
   ]
  },
  {
   "cell_type": "code",
   "execution_count": 14,
   "id": "91a48b5e",
   "metadata": {},
   "outputs": [
    {
     "data": {
      "text/plain": [
       "Index(['age', 'gender', 'weight_(kg)', 'height_(m)', 'max_bpm', 'avg_bpm',\n",
       "       'resting_bpm', 'session_duration_(hours)', 'calories_burned',\n",
       "       'workout_type', 'fat_percentage', 'water_intake_(liters)',\n",
       "       'workout_frequency_(days/week)', 'experience_level', 'bmi',\n",
       "       'daily_meals_frequency', 'physical_exercise', 'carbs', 'proteins',\n",
       "       'fats', 'calories', 'meal_name', 'meal_type', 'diet_type', 'sugar_g',\n",
       "       'sodium_mg', 'cholesterol_mg', 'serving_size_g', 'cooking_method',\n",
       "       'prep_time_min', 'cook_time_min', 'rating', 'is_healthy',\n",
       "       'name_of_exercise', 'sets', 'reps', 'benefit',\n",
       "       'burns_calories_(per_30_min)', 'target_muscle_group',\n",
       "       'equipment_needed', 'difficulty_level', 'body_part', 'type_of_muscle',\n",
       "       'workout', 'bmi_calc', 'cal_from_macros', 'pct_carbs', 'protein_per_kg',\n",
       "       'pct_hrr', 'pct_maxhr', 'cal_balance', 'lean_mass_kg', 'expected_burn'],\n",
       "      dtype='object')"
      ]
     },
     "execution_count": 14,
     "metadata": {},
     "output_type": "execute_result"
    }
   ],
   "source": [
    "train_set.columns"
   ]
  },
  {
   "cell_type": "code",
   "execution_count": null,
   "id": "0b4a73b3",
   "metadata": {},
   "outputs": [],
   "source": [
    "# working with the training set for further preprocessing\n",
    "# select the features needed from the training set\n",
    "attribute_list = ['calories', 'weight_(kg)', 'lean_mass_kg', 'bmi','fat_percentage','protein_per_kg', 'benefit', 'body_part', 'equipment_needed', '']\n",
    "\n",
    "# selecting the attributes from the training set\n",
    "data = train_set[attribute_list]"
   ]
  },
  {
   "cell_type": "code",
   "execution_count": null,
   "id": "99a7aa77",
   "metadata": {},
   "outputs": [],
   "source": []
  }
 ],
 "metadata": {
  "kernelspec": {
   "display_name": "mlops",
   "language": "python",
   "name": "python3"
  },
  "language_info": {
   "codemirror_mode": {
    "name": "ipython",
    "version": 3
   },
   "file_extension": ".py",
   "mimetype": "text/x-python",
   "name": "python",
   "nbconvert_exporter": "python",
   "pygments_lexer": "ipython3",
   "version": "3.10.16"
  }
 },
 "nbformat": 4,
 "nbformat_minor": 5
}
