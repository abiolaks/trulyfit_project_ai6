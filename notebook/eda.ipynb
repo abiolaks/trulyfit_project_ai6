{
 "cells": [
  {
   "cell_type": "code",
   "execution_count": 2,
   "id": "5602eab8",
   "metadata": {},
   "outputs": [],
   "source": [
    "import pandas as pd\n",
    "import numpy as np\n",
    "import matplotlib.pyplot as plt\n",
    "import seaborn as sns"
   ]
  },
  {
   "cell_type": "code",
   "execution_count": 3,
   "id": "c5a1eefb",
   "metadata": {},
   "outputs": [
    {
     "data": {
      "text/plain": [
       "((2598, 10), (80000, 5))"
      ]
     },
     "execution_count": 3,
     "metadata": {},
     "output_type": "execute_result"
    }
   ],
   "source": [
    "# load data\n",
    "df1 = pd.read_csv(\"../data/fitness_and_workout_dataset.csv\")\n",
    "df2 = pd.read_csv(\"../data/GYM.csv\")\n",
    "\n",
    "df1.shape, df2.shape    "
   ]
  },
  {
   "cell_type": "code",
   "execution_count": 4,
   "id": "8dac57e9",
   "metadata": {},
   "outputs": [
    {
     "data": {
      "application/vnd.microsoft.datawrangler.viewer.v0+json": {
       "columns": [
        {
         "name": "index",
         "rawType": "int64",
         "type": "integer"
        },
        {
         "name": "title",
         "rawType": "object",
         "type": "string"
        },
        {
         "name": "description",
         "rawType": "object",
         "type": "string"
        },
        {
         "name": "level",
         "rawType": "object",
         "type": "string"
        },
        {
         "name": "goal",
         "rawType": "object",
         "type": "string"
        },
        {
         "name": "equipment",
         "rawType": "object",
         "type": "string"
        },
        {
         "name": "program_length",
         "rawType": "float64",
         "type": "float"
        },
        {
         "name": "time_per_workout",
         "rawType": "float64",
         "type": "float"
        },
        {
         "name": "total_exercises",
         "rawType": "int64",
         "type": "integer"
        },
        {
         "name": "created",
         "rawType": "object",
         "type": "string"
        },
        {
         "name": "last_edit",
         "rawType": "object",
         "type": "string"
        }
       ],
       "ref": "8ca45193-4685-4813-90b6-4fc887900cc1",
       "rows": [
        [
         "0",
         "(MASS MONSTER) High Intensity 4 Day Upper Lower Program",
         "Build tones of muscular with this high intensity 4 day upper lower workout routine.\n\nWeekly Setup:\nDay 1 - Upper Push Focus\nDay 2 - Lower Quad Focus\nDay 3 - Rest/Active Recovery\nDay 4 - Upper Pull Focus\nDay 5 - Rest/Active Recovery\nDay 6 - Lower Hamstring Focus\nDay 7 - Rest/Active Recovery \n\nMuscle Groups |Sets Per Week\nBack - 10\nShoulders - 10\nChest - 9\nQuads - 9\nHamstrings - 9\nGlutes - 9\nBiceps - 7\nTriceps - 7\nLower Back - 4\nCalves - 4\nAbs - 4",
         "['Intermediate']",
         "['Muscle & Sculpting', 'Bodyweight Fitness']",
         "Full Gym",
         "12.0",
         "90.0",
         "384",
         "2024-01-20 10:23:00",
         "2025-06-29 12:39:00"
        ],
        [
         "1",
         "(NOT MY PROGRAM)SHJ Jotaro",
         "Build strength and size",
         "['Advanced', 'Intermediate']",
         "['Bodybuilding']",
         "Full Gym",
         "8.0",
         "60.0",
         "224",
         "2024-07-08 02:28:00",
         "2025-06-18 09:15:00"
        ],
        [
         "2",
         "1 PowerLift Per Day Powerbuilding 5 Day Bro Split",
         "Based off of Andy Baker's KCS (Kingwood Strength & Conditioning) Powerbuilding program.\n\nIt focuses on increasing strength on one lift per day, including squat, deadlift, bench press, overhead press, and pull-up. Rest days are after squat and deadlift days.\n\n1 - Shoulders & Triceps\n2 - Back\n3 - Quads & Calves\nRest\n4 - Chest & Biceps\n5 - Posterior Chain\nRest\n\nFit in Abs, extra calves & Cardio wherever you like.\n\nAt some point in a lifter's career, typically after the novice or early intermediate phase, the most reliable way to get stronger is to become more muscular, i.e. build muscle mass. To that end, the term \"powerbuilding\" has emerged to describe a hybrid approach of training the main barbell lifts (like a powerlifter) alongside a selection of supplemental lifts done for higher reps aimed at increasing muscular size (like a bodybuilder). \n\nWhile some people knock powerbuilding as merely a clever marketing term, a suboptimal way to train, the fact is that many of the strongest powerlifters of all time have trained with this approach: Ed Coan, Dan Green, Kirk Karwoski, and many others..  This uses gradually decreasing reps like 8/5/2  or 5/4/3 or 6/4/2, whatever you prefer for progressing the main lifts in the context of a five-day body part split.  Repeat the 3 week cycle and increase your weight by at least 5 or 10 pounds.",
         "['Beginner', 'Novice', 'Intermediate']",
         "['Athletics', 'Powerlifting', 'Powerbuilding']",
         "Full Gym",
         "6.0",
         "90.0",
         "237",
         "2025-04-23 09:21:00",
         "2025-06-18 11:55:00"
        ],
        [
         "3",
         "10 Week Mass Building Program",
         "This workout is designed to increase your muscle mass as much as possible in 10 weeks. Works each muscle group hard once per week using mostly heavy compound exercises.\n\nhttps://www.muscleandstrength.com/workouts/10-week-mass-building-program.html",
         "['Intermediate', 'Advanced']",
         "['Powerbuilding']",
         "Garage Gym",
         "10.0",
         "70.0",
         "280",
         "2024-09-07 03:44:00",
         "2025-06-18 08:01:00"
        ],
        [
         "4",
         "10 week deadlift focus",
         "Increase deadlift",
         "['Intermediate', 'Advanced']",
         "['Powerbuilding', 'Powerlifting', 'Bodybuilding', 'Muscle & Sculpting']",
         "Full Gym",
         "10.0",
         "80.0",
         "356",
         "2024-12-23 03:13:00",
         "2025-06-18 12:19:00"
        ]
       ],
       "shape": {
        "columns": 10,
        "rows": 5
       }
      },
      "text/html": [
       "<div>\n",
       "<style scoped>\n",
       "    .dataframe tbody tr th:only-of-type {\n",
       "        vertical-align: middle;\n",
       "    }\n",
       "\n",
       "    .dataframe tbody tr th {\n",
       "        vertical-align: top;\n",
       "    }\n",
       "\n",
       "    .dataframe thead th {\n",
       "        text-align: right;\n",
       "    }\n",
       "</style>\n",
       "<table border=\"1\" class=\"dataframe\">\n",
       "  <thead>\n",
       "    <tr style=\"text-align: right;\">\n",
       "      <th></th>\n",
       "      <th>title</th>\n",
       "      <th>description</th>\n",
       "      <th>level</th>\n",
       "      <th>goal</th>\n",
       "      <th>equipment</th>\n",
       "      <th>program_length</th>\n",
       "      <th>time_per_workout</th>\n",
       "      <th>total_exercises</th>\n",
       "      <th>created</th>\n",
       "      <th>last_edit</th>\n",
       "    </tr>\n",
       "  </thead>\n",
       "  <tbody>\n",
       "    <tr>\n",
       "      <th>0</th>\n",
       "      <td>(MASS MONSTER) High Intensity 4 Day Upper Lowe...</td>\n",
       "      <td>Build tones of muscular with this high intensi...</td>\n",
       "      <td>['Intermediate']</td>\n",
       "      <td>['Muscle &amp; Sculpting', 'Bodyweight Fitness']</td>\n",
       "      <td>Full Gym</td>\n",
       "      <td>12.0</td>\n",
       "      <td>90.0</td>\n",
       "      <td>384</td>\n",
       "      <td>2024-01-20 10:23:00</td>\n",
       "      <td>2025-06-29 12:39:00</td>\n",
       "    </tr>\n",
       "    <tr>\n",
       "      <th>1</th>\n",
       "      <td>(NOT MY PROGRAM)SHJ Jotaro</td>\n",
       "      <td>Build strength and size</td>\n",
       "      <td>['Advanced', 'Intermediate']</td>\n",
       "      <td>['Bodybuilding']</td>\n",
       "      <td>Full Gym</td>\n",
       "      <td>8.0</td>\n",
       "      <td>60.0</td>\n",
       "      <td>224</td>\n",
       "      <td>2024-07-08 02:28:00</td>\n",
       "      <td>2025-06-18 09:15:00</td>\n",
       "    </tr>\n",
       "    <tr>\n",
       "      <th>2</th>\n",
       "      <td>1 PowerLift Per Day Powerbuilding 5 Day Bro Split</td>\n",
       "      <td>Based off of Andy Baker's KCS (Kingwood Streng...</td>\n",
       "      <td>['Beginner', 'Novice', 'Intermediate']</td>\n",
       "      <td>['Athletics', 'Powerlifting', 'Powerbuilding']</td>\n",
       "      <td>Full Gym</td>\n",
       "      <td>6.0</td>\n",
       "      <td>90.0</td>\n",
       "      <td>237</td>\n",
       "      <td>2025-04-23 09:21:00</td>\n",
       "      <td>2025-06-18 11:55:00</td>\n",
       "    </tr>\n",
       "    <tr>\n",
       "      <th>3</th>\n",
       "      <td>10 Week Mass Building Program</td>\n",
       "      <td>This workout is designed to increase your musc...</td>\n",
       "      <td>['Intermediate', 'Advanced']</td>\n",
       "      <td>['Powerbuilding']</td>\n",
       "      <td>Garage Gym</td>\n",
       "      <td>10.0</td>\n",
       "      <td>70.0</td>\n",
       "      <td>280</td>\n",
       "      <td>2024-09-07 03:44:00</td>\n",
       "      <td>2025-06-18 08:01:00</td>\n",
       "    </tr>\n",
       "    <tr>\n",
       "      <th>4</th>\n",
       "      <td>10 week deadlift focus</td>\n",
       "      <td>Increase deadlift</td>\n",
       "      <td>['Intermediate', 'Advanced']</td>\n",
       "      <td>['Powerbuilding', 'Powerlifting', 'Bodybuildin...</td>\n",
       "      <td>Full Gym</td>\n",
       "      <td>10.0</td>\n",
       "      <td>80.0</td>\n",
       "      <td>356</td>\n",
       "      <td>2024-12-23 03:13:00</td>\n",
       "      <td>2025-06-18 12:19:00</td>\n",
       "    </tr>\n",
       "  </tbody>\n",
       "</table>\n",
       "</div>"
      ],
      "text/plain": [
       "                                               title  \\\n",
       "0  (MASS MONSTER) High Intensity 4 Day Upper Lowe...   \n",
       "1                         (NOT MY PROGRAM)SHJ Jotaro   \n",
       "2  1 PowerLift Per Day Powerbuilding 5 Day Bro Split   \n",
       "3                      10 Week Mass Building Program   \n",
       "4                             10 week deadlift focus   \n",
       "\n",
       "                                         description  \\\n",
       "0  Build tones of muscular with this high intensi...   \n",
       "1                            Build strength and size   \n",
       "2  Based off of Andy Baker's KCS (Kingwood Streng...   \n",
       "3  This workout is designed to increase your musc...   \n",
       "4                                  Increase deadlift   \n",
       "\n",
       "                                    level  \\\n",
       "0                        ['Intermediate']   \n",
       "1            ['Advanced', 'Intermediate']   \n",
       "2  ['Beginner', 'Novice', 'Intermediate']   \n",
       "3            ['Intermediate', 'Advanced']   \n",
       "4            ['Intermediate', 'Advanced']   \n",
       "\n",
       "                                                goal   equipment  \\\n",
       "0       ['Muscle & Sculpting', 'Bodyweight Fitness']    Full Gym   \n",
       "1                                   ['Bodybuilding']    Full Gym   \n",
       "2     ['Athletics', 'Powerlifting', 'Powerbuilding']    Full Gym   \n",
       "3                                  ['Powerbuilding']  Garage Gym   \n",
       "4  ['Powerbuilding', 'Powerlifting', 'Bodybuildin...    Full Gym   \n",
       "\n",
       "   program_length  time_per_workout  total_exercises              created  \\\n",
       "0            12.0              90.0              384  2024-01-20 10:23:00   \n",
       "1             8.0              60.0              224  2024-07-08 02:28:00   \n",
       "2             6.0              90.0              237  2025-04-23 09:21:00   \n",
       "3            10.0              70.0              280  2024-09-07 03:44:00   \n",
       "4            10.0              80.0              356  2024-12-23 03:13:00   \n",
       "\n",
       "             last_edit  \n",
       "0  2025-06-29 12:39:00  \n",
       "1  2025-06-18 09:15:00  \n",
       "2  2025-06-18 11:55:00  \n",
       "3  2025-06-18 08:01:00  \n",
       "4  2025-06-18 12:19:00  "
      ]
     },
     "execution_count": 4,
     "metadata": {},
     "output_type": "execute_result"
    }
   ],
   "source": [
    "df1.head()"
   ]
  },
  {
   "cell_type": "code",
   "execution_count": 5,
   "id": "4b3b8a48",
   "metadata": {},
   "outputs": [
    {
     "data": {
      "application/vnd.microsoft.datawrangler.viewer.v0+json": {
       "columns": [
        {
         "name": "index",
         "rawType": "int64",
         "type": "integer"
        },
        {
         "name": "title",
         "rawType": "object",
         "type": "string"
        },
        {
         "name": "description",
         "rawType": "object",
         "type": "string"
        },
        {
         "name": "level",
         "rawType": "object",
         "type": "string"
        },
        {
         "name": "goal",
         "rawType": "object",
         "type": "string"
        },
        {
         "name": "equipment",
         "rawType": "object",
         "type": "string"
        },
        {
         "name": "program_length",
         "rawType": "float64",
         "type": "float"
        },
        {
         "name": "time_per_workout",
         "rawType": "float64",
         "type": "float"
        },
        {
         "name": "total_exercises",
         "rawType": "int64",
         "type": "integer"
        },
        {
         "name": "created",
         "rawType": "object",
         "type": "string"
        },
        {
         "name": "last_edit",
         "rawType": "object",
         "type": "string"
        }
       ],
       "ref": "334bc94b-a549-4c04-a870-6ba5e9e2be36",
       "rows": [
        [
         "2593",
         "🎧",
         "Lihaskasvu",
         "['Intermediate', 'Advanced']",
         "['Bodybuilding']",
         "Garage Gym",
         "12.0",
         "90.0",
         "228",
         "2024-10-10 04:20:00",
         "2025-06-18 11:32:00"
        ],
        [
         "2594",
         "👾Reza's Routine👾",
         "This is a beginner friendly routine made for me and my friends to follow and get some top notch gains. 💪",
         "['Beginner', 'Intermediate']",
         "['Muscle & Sculpting']",
         "Dumbbell Only",
         "1.0",
         "60.0",
         "60",
         "2024-09-15 08:45:00",
         "2025-06-18 07:48:00"
        ],
        [
         "2595",
         "🔥 \"Upper Body Dominance: 3-Day Growth System\" 🔥",
         "\"Upper Body Dominance: A science-based 3-day workout plan designed for maximum muscle growth. Featuring supersets, myo-reps, drop sets, and lengthened partials, this program prioritizes upper body hypertrophy while maintaining lower body balance. Perfect for those looking to build strength and size efficiently in just one hour per session.\" 💪🔥",
         "['Intermediate', 'Novice']",
         "['Muscle & Sculpting']",
         "Full Gym",
         "6.0",
         "60.0",
         "96",
         "2025-02-15 08:18:00",
         "2025-06-18 07:48:00"
        ],
        [
         "2596",
         "🙈🙉🙊🐵",
         "Muscle Memory Training",
         "['Intermediate']",
         "['Bodybuilding']",
         "Full Gym",
         "8.0",
         "90.0",
         "211",
         "2024-12-08 01:04:00",
         "2025-06-18 11:35:00"
        ],
        [
         "2597",
         "🥷🥷🥷",
         "To become stronger without becoming “bulky”",
         "['Intermediate', 'Novice']",
         "['Bodybuilding', 'Powerbuilding']",
         "Garage Gym",
         "9.0",
         "100.0",
         "216",
         "2025-05-15 10:44:00",
         "2025-06-18 12:08:00"
        ]
       ],
       "shape": {
        "columns": 10,
        "rows": 5
       }
      },
      "text/html": [
       "<div>\n",
       "<style scoped>\n",
       "    .dataframe tbody tr th:only-of-type {\n",
       "        vertical-align: middle;\n",
       "    }\n",
       "\n",
       "    .dataframe tbody tr th {\n",
       "        vertical-align: top;\n",
       "    }\n",
       "\n",
       "    .dataframe thead th {\n",
       "        text-align: right;\n",
       "    }\n",
       "</style>\n",
       "<table border=\"1\" class=\"dataframe\">\n",
       "  <thead>\n",
       "    <tr style=\"text-align: right;\">\n",
       "      <th></th>\n",
       "      <th>title</th>\n",
       "      <th>description</th>\n",
       "      <th>level</th>\n",
       "      <th>goal</th>\n",
       "      <th>equipment</th>\n",
       "      <th>program_length</th>\n",
       "      <th>time_per_workout</th>\n",
       "      <th>total_exercises</th>\n",
       "      <th>created</th>\n",
       "      <th>last_edit</th>\n",
       "    </tr>\n",
       "  </thead>\n",
       "  <tbody>\n",
       "    <tr>\n",
       "      <th>2593</th>\n",
       "      <td>🎧</td>\n",
       "      <td>Lihaskasvu</td>\n",
       "      <td>['Intermediate', 'Advanced']</td>\n",
       "      <td>['Bodybuilding']</td>\n",
       "      <td>Garage Gym</td>\n",
       "      <td>12.0</td>\n",
       "      <td>90.0</td>\n",
       "      <td>228</td>\n",
       "      <td>2024-10-10 04:20:00</td>\n",
       "      <td>2025-06-18 11:32:00</td>\n",
       "    </tr>\n",
       "    <tr>\n",
       "      <th>2594</th>\n",
       "      <td>👾Reza's Routine👾</td>\n",
       "      <td>This is a beginner friendly routine made for m...</td>\n",
       "      <td>['Beginner', 'Intermediate']</td>\n",
       "      <td>['Muscle &amp; Sculpting']</td>\n",
       "      <td>Dumbbell Only</td>\n",
       "      <td>1.0</td>\n",
       "      <td>60.0</td>\n",
       "      <td>60</td>\n",
       "      <td>2024-09-15 08:45:00</td>\n",
       "      <td>2025-06-18 07:48:00</td>\n",
       "    </tr>\n",
       "    <tr>\n",
       "      <th>2595</th>\n",
       "      <td>🔥 \"Upper Body Dominance: 3-Day Growth System\" 🔥</td>\n",
       "      <td>\"Upper Body Dominance: A science-based 3-day w...</td>\n",
       "      <td>['Intermediate', 'Novice']</td>\n",
       "      <td>['Muscle &amp; Sculpting']</td>\n",
       "      <td>Full Gym</td>\n",
       "      <td>6.0</td>\n",
       "      <td>60.0</td>\n",
       "      <td>96</td>\n",
       "      <td>2025-02-15 08:18:00</td>\n",
       "      <td>2025-06-18 07:48:00</td>\n",
       "    </tr>\n",
       "    <tr>\n",
       "      <th>2596</th>\n",
       "      <td>🙈🙉🙊🐵</td>\n",
       "      <td>Muscle Memory Training</td>\n",
       "      <td>['Intermediate']</td>\n",
       "      <td>['Bodybuilding']</td>\n",
       "      <td>Full Gym</td>\n",
       "      <td>8.0</td>\n",
       "      <td>90.0</td>\n",
       "      <td>211</td>\n",
       "      <td>2024-12-08 01:04:00</td>\n",
       "      <td>2025-06-18 11:35:00</td>\n",
       "    </tr>\n",
       "    <tr>\n",
       "      <th>2597</th>\n",
       "      <td>🥷🥷🥷</td>\n",
       "      <td>To become stronger without becoming “bulky”</td>\n",
       "      <td>['Intermediate', 'Novice']</td>\n",
       "      <td>['Bodybuilding', 'Powerbuilding']</td>\n",
       "      <td>Garage Gym</td>\n",
       "      <td>9.0</td>\n",
       "      <td>100.0</td>\n",
       "      <td>216</td>\n",
       "      <td>2025-05-15 10:44:00</td>\n",
       "      <td>2025-06-18 12:08:00</td>\n",
       "    </tr>\n",
       "  </tbody>\n",
       "</table>\n",
       "</div>"
      ],
      "text/plain": [
       "                                                title  \\\n",
       "2593                                                🎧   \n",
       "2594                                 👾Reza's Routine👾   \n",
       "2595  🔥 \"Upper Body Dominance: 3-Day Growth System\" 🔥   \n",
       "2596                                             🙈🙉🙊🐵   \n",
       "2597                                              🥷🥷🥷   \n",
       "\n",
       "                                            description  \\\n",
       "2593                                         Lihaskasvu   \n",
       "2594  This is a beginner friendly routine made for m...   \n",
       "2595  \"Upper Body Dominance: A science-based 3-day w...   \n",
       "2596                             Muscle Memory Training   \n",
       "2597        To become stronger without becoming “bulky”   \n",
       "\n",
       "                             level                               goal  \\\n",
       "2593  ['Intermediate', 'Advanced']                   ['Bodybuilding']   \n",
       "2594  ['Beginner', 'Intermediate']             ['Muscle & Sculpting']   \n",
       "2595    ['Intermediate', 'Novice']             ['Muscle & Sculpting']   \n",
       "2596              ['Intermediate']                   ['Bodybuilding']   \n",
       "2597    ['Intermediate', 'Novice']  ['Bodybuilding', 'Powerbuilding']   \n",
       "\n",
       "          equipment  program_length  time_per_workout  total_exercises  \\\n",
       "2593     Garage Gym            12.0              90.0              228   \n",
       "2594  Dumbbell Only             1.0              60.0               60   \n",
       "2595       Full Gym             6.0              60.0               96   \n",
       "2596       Full Gym             8.0              90.0              211   \n",
       "2597     Garage Gym             9.0             100.0              216   \n",
       "\n",
       "                  created            last_edit  \n",
       "2593  2024-10-10 04:20:00  2025-06-18 11:32:00  \n",
       "2594  2024-09-15 08:45:00  2025-06-18 07:48:00  \n",
       "2595  2025-02-15 08:18:00  2025-06-18 07:48:00  \n",
       "2596  2024-12-08 01:04:00  2025-06-18 11:35:00  \n",
       "2597  2025-05-15 10:44:00  2025-06-18 12:08:00  "
      ]
     },
     "execution_count": 5,
     "metadata": {},
     "output_type": "execute_result"
    }
   ],
   "source": [
    "df1.tail()"
   ]
  },
  {
   "cell_type": "code",
   "execution_count": 6,
   "id": "5b6324ca",
   "metadata": {},
   "outputs": [
    {
     "data": {
      "application/vnd.microsoft.datawrangler.viewer.v0+json": {
       "columns": [
        {
         "name": "index",
         "rawType": "int64",
         "type": "integer"
        },
        {
         "name": "Gender",
         "rawType": "object",
         "type": "string"
        },
        {
         "name": "Goal",
         "rawType": "object",
         "type": "string"
        },
        {
         "name": "BMI Category",
         "rawType": "object",
         "type": "string"
        },
        {
         "name": "Exercise Schedule",
         "rawType": "object",
         "type": "string"
        },
        {
         "name": "Meal Plan",
         "rawType": "object",
         "type": "string"
        }
       ],
       "ref": "81fab25b-a807-477f-8171-daf6f1c01271",
       "rows": [
        [
         "0",
         "Female",
         "muscle_gain",
         "Normal weight",
         "Moderate cardio, Strength training, and 5000 steps walking",
         "Balanced diet with moderate protein and carbohydrates: Chicken breast, brown rice, spinach, eggs, apple"
        ],
        [
         "1",
         "Male",
         "fat_burn",
         "Underweight",
         "Light weightlifting, Yoga, and 2000 steps walking",
         "High-calorie, protein-rich diet: Whole milk, peanut butter, eggs, salmon, sweet potatoes"
        ],
        [
         "2",
         "Male",
         "muscle_gain",
         "Normal weight",
         "Moderate cardio, Strength training, and 5000 steps walking",
         "Balanced diet with moderate protein and carbohydrates: Chicken breast, brown rice, spinach, eggs, apple"
        ],
        [
         "3",
         "Male",
         "muscle_gain",
         "Overweight",
         "High-intensity interval training (HIIT), Cardio, and 8000 steps walking",
         "Low-carb, high-fiber diet: Avocado, grilled fish, broccoli, almonds, leafy greens"
        ],
        [
         "4",
         "Female",
         "muscle_gain",
         "Normal weight",
         "Moderate cardio, Strength training, and 5000 steps walking",
         "Balanced diet with moderate protein and carbohydrates: Chicken breast, brown rice, spinach, eggs, apple"
        ]
       ],
       "shape": {
        "columns": 5,
        "rows": 5
       }
      },
      "text/html": [
       "<div>\n",
       "<style scoped>\n",
       "    .dataframe tbody tr th:only-of-type {\n",
       "        vertical-align: middle;\n",
       "    }\n",
       "\n",
       "    .dataframe tbody tr th {\n",
       "        vertical-align: top;\n",
       "    }\n",
       "\n",
       "    .dataframe thead th {\n",
       "        text-align: right;\n",
       "    }\n",
       "</style>\n",
       "<table border=\"1\" class=\"dataframe\">\n",
       "  <thead>\n",
       "    <tr style=\"text-align: right;\">\n",
       "      <th></th>\n",
       "      <th>Gender</th>\n",
       "      <th>Goal</th>\n",
       "      <th>BMI Category</th>\n",
       "      <th>Exercise Schedule</th>\n",
       "      <th>Meal Plan</th>\n",
       "    </tr>\n",
       "  </thead>\n",
       "  <tbody>\n",
       "    <tr>\n",
       "      <th>0</th>\n",
       "      <td>Female</td>\n",
       "      <td>muscle_gain</td>\n",
       "      <td>Normal weight</td>\n",
       "      <td>Moderate cardio, Strength training, and 5000 s...</td>\n",
       "      <td>Balanced diet with moderate protein and carboh...</td>\n",
       "    </tr>\n",
       "    <tr>\n",
       "      <th>1</th>\n",
       "      <td>Male</td>\n",
       "      <td>fat_burn</td>\n",
       "      <td>Underweight</td>\n",
       "      <td>Light weightlifting, Yoga, and 2000 steps walking</td>\n",
       "      <td>High-calorie, protein-rich diet: Whole milk, p...</td>\n",
       "    </tr>\n",
       "    <tr>\n",
       "      <th>2</th>\n",
       "      <td>Male</td>\n",
       "      <td>muscle_gain</td>\n",
       "      <td>Normal weight</td>\n",
       "      <td>Moderate cardio, Strength training, and 5000 s...</td>\n",
       "      <td>Balanced diet with moderate protein and carboh...</td>\n",
       "    </tr>\n",
       "    <tr>\n",
       "      <th>3</th>\n",
       "      <td>Male</td>\n",
       "      <td>muscle_gain</td>\n",
       "      <td>Overweight</td>\n",
       "      <td>High-intensity interval training (HIIT), Cardi...</td>\n",
       "      <td>Low-carb, high-fiber diet: Avocado, grilled fi...</td>\n",
       "    </tr>\n",
       "    <tr>\n",
       "      <th>4</th>\n",
       "      <td>Female</td>\n",
       "      <td>muscle_gain</td>\n",
       "      <td>Normal weight</td>\n",
       "      <td>Moderate cardio, Strength training, and 5000 s...</td>\n",
       "      <td>Balanced diet with moderate protein and carboh...</td>\n",
       "    </tr>\n",
       "  </tbody>\n",
       "</table>\n",
       "</div>"
      ],
      "text/plain": [
       "   Gender         Goal   BMI Category  \\\n",
       "0  Female  muscle_gain  Normal weight   \n",
       "1    Male     fat_burn    Underweight   \n",
       "2    Male  muscle_gain  Normal weight   \n",
       "3    Male  muscle_gain     Overweight   \n",
       "4  Female  muscle_gain  Normal weight   \n",
       "\n",
       "                                   Exercise Schedule  \\\n",
       "0  Moderate cardio, Strength training, and 5000 s...   \n",
       "1  Light weightlifting, Yoga, and 2000 steps walking   \n",
       "2  Moderate cardio, Strength training, and 5000 s...   \n",
       "3  High-intensity interval training (HIIT), Cardi...   \n",
       "4  Moderate cardio, Strength training, and 5000 s...   \n",
       "\n",
       "                                           Meal Plan  \n",
       "0  Balanced diet with moderate protein and carboh...  \n",
       "1  High-calorie, protein-rich diet: Whole milk, p...  \n",
       "2  Balanced diet with moderate protein and carboh...  \n",
       "3  Low-carb, high-fiber diet: Avocado, grilled fi...  \n",
       "4  Balanced diet with moderate protein and carboh...  "
      ]
     },
     "execution_count": 6,
     "metadata": {},
     "output_type": "execute_result"
    }
   ],
   "source": [
    "df2.head()"
   ]
  },
  {
   "cell_type": "code",
   "execution_count": 8,
   "id": "979c3458",
   "metadata": {},
   "outputs": [
    {
     "data": {
      "text/plain": [
       "(Index(['title', 'description', 'level', 'goal', 'equipment', 'program_length',\n",
       "        'time_per_workout', 'total_exercises', 'created', 'last_edit'],\n",
       "       dtype='object'),\n",
       " Index(['Gender', 'Goal', 'BMI Category', 'Exercise Schedule', 'Meal Plan'], dtype='object'))"
      ]
     },
     "execution_count": 8,
     "metadata": {},
     "output_type": "execute_result"
    }
   ],
   "source": [
    "df1.columns, df2.columns"
   ]
  },
  {
   "cell_type": "code",
   "execution_count": 9,
   "id": "077033d1",
   "metadata": {},
   "outputs": [
    {
     "name": "stdout",
     "output_type": "stream",
     "text": [
      "<class 'pandas.core.frame.DataFrame'>\n",
      "RangeIndex: 2598 entries, 0 to 2597\n",
      "Data columns (total 10 columns):\n",
      " #   Column            Non-Null Count  Dtype  \n",
      "---  ------            --------------  -----  \n",
      " 0   title             2598 non-null   object \n",
      " 1   description       2594 non-null   object \n",
      " 2   level             2598 non-null   object \n",
      " 3   goal              2598 non-null   object \n",
      " 4   equipment         2597 non-null   object \n",
      " 5   program_length    2597 non-null   float64\n",
      " 6   time_per_workout  2598 non-null   float64\n",
      " 7   total_exercises   2598 non-null   int64  \n",
      " 8   created           2597 non-null   object \n",
      " 9   last_edit         2596 non-null   object \n",
      "dtypes: float64(2), int64(1), object(7)\n",
      "memory usage: 203.1+ KB\n"
     ]
    }
   ],
   "source": [
    "df1.info()"
   ]
  },
  {
   "cell_type": "code",
   "execution_count": 10,
   "id": "8bc4fedf",
   "metadata": {},
   "outputs": [
    {
     "data": {
      "application/vnd.microsoft.datawrangler.viewer.v0+json": {
       "columns": [
        {
         "name": "index",
         "rawType": "object",
         "type": "string"
        },
        {
         "name": "0",
         "rawType": "int64",
         "type": "integer"
        }
       ],
       "ref": "a29c2000-398c-4a9a-8cfd-0559de9c3849",
       "rows": [
        [
         "title",
         "0"
        ],
        [
         "description",
         "4"
        ],
        [
         "level",
         "0"
        ],
        [
         "goal",
         "0"
        ],
        [
         "equipment",
         "1"
        ],
        [
         "program_length",
         "1"
        ],
        [
         "time_per_workout",
         "0"
        ],
        [
         "total_exercises",
         "0"
        ],
        [
         "created",
         "1"
        ],
        [
         "last_edit",
         "2"
        ]
       ],
       "shape": {
        "columns": 1,
        "rows": 10
       }
      },
      "text/plain": [
       "title               0\n",
       "description         4\n",
       "level               0\n",
       "goal                0\n",
       "equipment           1\n",
       "program_length      1\n",
       "time_per_workout    0\n",
       "total_exercises     0\n",
       "created             1\n",
       "last_edit           2\n",
       "dtype: int64"
      ]
     },
     "execution_count": 10,
     "metadata": {},
     "output_type": "execute_result"
    }
   ],
   "source": [
    "df1.isnull().sum()"
   ]
  },
  {
   "cell_type": "code",
   "execution_count": 11,
   "id": "17749018",
   "metadata": {},
   "outputs": [
    {
     "name": "stdout",
     "output_type": "stream",
     "text": [
      "<class 'pandas.core.frame.DataFrame'>\n",
      "RangeIndex: 80000 entries, 0 to 79999\n",
      "Data columns (total 5 columns):\n",
      " #   Column             Non-Null Count  Dtype \n",
      "---  ------             --------------  ----- \n",
      " 0   Gender             80000 non-null  object\n",
      " 1   Goal               80000 non-null  object\n",
      " 2   BMI Category       80000 non-null  object\n",
      " 3   Exercise Schedule  80000 non-null  object\n",
      " 4   Meal Plan          80000 non-null  object\n",
      "dtypes: object(5)\n",
      "memory usage: 3.1+ MB\n"
     ]
    }
   ],
   "source": [
    "df2.info()"
   ]
  },
  {
   "cell_type": "code",
   "execution_count": 12,
   "id": "aa71d43d",
   "metadata": {},
   "outputs": [
    {
     "data": {
      "application/vnd.microsoft.datawrangler.viewer.v0+json": {
       "columns": [
        {
         "name": "index",
         "rawType": "object",
         "type": "string"
        },
        {
         "name": "0",
         "rawType": "int64",
         "type": "integer"
        }
       ],
       "ref": "c261c957-bb11-4598-82a7-a440471f1a52",
       "rows": [
        [
         "Gender",
         "0"
        ],
        [
         "Goal",
         "0"
        ],
        [
         "BMI Category",
         "0"
        ],
        [
         "Exercise Schedule",
         "0"
        ],
        [
         "Meal Plan",
         "0"
        ]
       ],
       "shape": {
        "columns": 1,
        "rows": 5
       }
      },
      "text/plain": [
       "Gender               0\n",
       "Goal                 0\n",
       "BMI Category         0\n",
       "Exercise Schedule    0\n",
       "Meal Plan            0\n",
       "dtype: int64"
      ]
     },
     "execution_count": 12,
     "metadata": {},
     "output_type": "execute_result"
    }
   ],
   "source": [
    "df2.isnull().sum()"
   ]
  },
  {
   "cell_type": "code",
   "execution_count": 13,
   "id": "5fcfc355",
   "metadata": {},
   "outputs": [
    {
     "data": {
      "application/vnd.microsoft.datawrangler.viewer.v0+json": {
       "columns": [
        {
         "name": "index",
         "rawType": "object",
         "type": "string"
        },
        {
         "name": "0",
         "rawType": "object",
         "type": "unknown"
        }
       ],
       "ref": "9d5dbe60-cfbe-47b5-9bcc-a2a823cc678d",
       "rows": [
        [
         "title",
         "object"
        ],
        [
         "description",
         "object"
        ],
        [
         "level",
         "object"
        ],
        [
         "goal",
         "object"
        ],
        [
         "equipment",
         "object"
        ],
        [
         "program_length",
         "float64"
        ],
        [
         "time_per_workout",
         "float64"
        ],
        [
         "total_exercises",
         "int64"
        ],
        [
         "created",
         "object"
        ],
        [
         "last_edit",
         "object"
        ]
       ],
       "shape": {
        "columns": 1,
        "rows": 10
       }
      },
      "text/plain": [
       "title                object\n",
       "description          object\n",
       "level                object\n",
       "goal                 object\n",
       "equipment            object\n",
       "program_length      float64\n",
       "time_per_workout    float64\n",
       "total_exercises       int64\n",
       "created              object\n",
       "last_edit            object\n",
       "dtype: object"
      ]
     },
     "execution_count": 13,
     "metadata": {},
     "output_type": "execute_result"
    }
   ],
   "source": [
    "df1.dtypes"
   ]
  },
  {
   "cell_type": "code",
   "execution_count": 15,
   "id": "f70b58c8",
   "metadata": {},
   "outputs": [
    {
     "data": {
      "application/vnd.microsoft.datawrangler.viewer.v0+json": {
       "columns": [
        {
         "name": "index",
         "rawType": "object",
         "type": "unknown"
        },
        {
         "name": "count",
         "rawType": "int64",
         "type": "integer"
        }
       ],
       "ref": "9caacf8a-b382-4f7d-9f24-6e57710c0925",
       "rows": [
        [
         "object",
         "7"
        ],
        [
         "float64",
         "2"
        ],
        [
         "int64",
         "1"
        ]
       ],
       "shape": {
        "columns": 1,
        "rows": 3
       }
      },
      "text/plain": [
       "object     7\n",
       "float64    2\n",
       "int64      1\n",
       "Name: count, dtype: int64"
      ]
     },
     "execution_count": 15,
     "metadata": {},
     "output_type": "execute_result"
    }
   ],
   "source": [
    "df1.dtypes.value_counts()"
   ]
  },
  {
   "cell_type": "markdown",
   "id": "1efffe06",
   "metadata": {},
   "source": [
    "# Task - Carry out futher exploratory data analysis (EDA) on the datasetmmm"
   ]
  },
  {
   "cell_type": "markdown",
   "id": "357822d4",
   "metadata": {},
   "source": []
  }
 ],
 "metadata": {
  "kernelspec": {
   "display_name": "homl3",
   "language": "python",
   "name": "python3"
  },
  "language_info": {
   "codemirror_mode": {
    "name": "ipython",
    "version": 3
   },
   "file_extension": ".py",
   "mimetype": "text/x-python",
   "name": "python",
   "nbconvert_exporter": "python",
   "pygments_lexer": "ipython3",
   "version": "3.10.17"
  }
 },
 "nbformat": 4,
 "nbformat_minor": 5
}
