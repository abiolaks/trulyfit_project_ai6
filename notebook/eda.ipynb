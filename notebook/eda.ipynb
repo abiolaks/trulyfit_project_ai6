{
 "cells": [
  {
   "cell_type": "code",
   "execution_count": 1,
   "id": "5602eab8",
   "metadata": {},
   "outputs": [],
   "source": [
    "import pandas as pd\n",
    "import numpy as np\n",
    "import matplotlib.pyplot as plt\n",
    "import seaborn as sns"
   ]
  },
  {
   "cell_type": "code",
   "execution_count": 2,
   "id": "c5a1eefb",
   "metadata": {},
   "outputs": [
    {
     "data": {
      "text/plain": [
       "((2598, 10), (80000, 5))"
      ]
     },
     "execution_count": 2,
     "metadata": {},
     "output_type": "execute_result"
    }
   ],
   "source": [
    "# load data\n",
    "df1 = pd.read_csv(\"../data/fitness_and_workout_dataset.csv\")\n",
    "df2 = pd.read_csv(\"../data/GYM.csv\")\n",
    "\n",
    "df1.shape, df2.shape    "
   ]
  },
  {
   "cell_type": "code",
   "execution_count": 3,
   "id": "8dac57e9",
   "metadata": {},
   "outputs": [
    {
     "data": {
      "application/vnd.microsoft.datawrangler.viewer.v0+json": {
       "columns": [
        {
         "name": "index",
         "rawType": "int64",
         "type": "integer"
        },
        {
         "name": "title",
         "rawType": "object",
         "type": "string"
        },
        {
         "name": "description",
         "rawType": "object",
         "type": "string"
        },
        {
         "name": "level",
         "rawType": "object",
         "type": "string"
        },
        {
         "name": "goal",
         "rawType": "object",
         "type": "string"
        },
        {
         "name": "equipment",
         "rawType": "object",
         "type": "string"
        },
        {
         "name": "program_length",
         "rawType": "float64",
         "type": "float"
        },
        {
         "name": "time_per_workout",
         "rawType": "float64",
         "type": "float"
        },
        {
         "name": "total_exercises",
         "rawType": "int64",
         "type": "integer"
        },
        {
         "name": "created",
         "rawType": "object",
         "type": "string"
        },
        {
         "name": "last_edit",
         "rawType": "object",
         "type": "string"
        }
       ],
       "ref": "02d64144-701d-496f-895a-fba5f9e0891d",
       "rows": [
        [
         "0",
         "(MASS MONSTER) High Intensity 4 Day Upper Lower Program",
         "Build tones of muscular with this high intensity 4 day upper lower workout routine.\n\nWeekly Setup:\nDay 1 - Upper Push Focus\nDay 2 - Lower Quad Focus\nDay 3 - Rest/Active Recovery\nDay 4 - Upper Pull Focus\nDay 5 - Rest/Active Recovery\nDay 6 - Lower Hamstring Focus\nDay 7 - Rest/Active Recovery \n\nMuscle Groups |Sets Per Week\nBack - 10\nShoulders - 10\nChest - 9\nQuads - 9\nHamstrings - 9\nGlutes - 9\nBiceps - 7\nTriceps - 7\nLower Back - 4\nCalves - 4\nAbs - 4",
         "['Intermediate']",
         "['Muscle & Sculpting', 'Bodyweight Fitness']",
         "Full Gym",
         "12.0",
         "90.0",
         "384",
         "2024-01-20 10:23:00",
         "2025-06-29 12:39:00"
        ],
        [
         "1",
         "(NOT MY PROGRAM)SHJ Jotaro",
         "Build strength and size",
         "['Advanced', 'Intermediate']",
         "['Bodybuilding']",
         "Full Gym",
         "8.0",
         "60.0",
         "224",
         "2024-07-08 02:28:00",
         "2025-06-18 09:15:00"
        ],
        [
         "2",
         "1 PowerLift Per Day Powerbuilding 5 Day Bro Split",
         "Based off of Andy Baker's KCS (Kingwood Strength & Conditioning) Powerbuilding program.\n\nIt focuses on increasing strength on one lift per day, including squat, deadlift, bench press, overhead press, and pull-up. Rest days are after squat and deadlift days.\n\n1 - Shoulders & Triceps\n2 - Back\n3 - Quads & Calves\nRest\n4 - Chest & Biceps\n5 - Posterior Chain\nRest\n\nFit in Abs, extra calves & Cardio wherever you like.\n\nAt some point in a lifter's career, typically after the novice or early intermediate phase, the most reliable way to get stronger is to become more muscular, i.e. build muscle mass. To that end, the term \"powerbuilding\" has emerged to describe a hybrid approach of training the main barbell lifts (like a powerlifter) alongside a selection of supplemental lifts done for higher reps aimed at increasing muscular size (like a bodybuilder). \n\nWhile some people knock powerbuilding as merely a clever marketing term, a suboptimal way to train, the fact is that many of the strongest powerlifters of all time have trained with this approach: Ed Coan, Dan Green, Kirk Karwoski, and many others..  This uses gradually decreasing reps like 8/5/2  or 5/4/3 or 6/4/2, whatever you prefer for progressing the main lifts in the context of a five-day body part split.  Repeat the 3 week cycle and increase your weight by at least 5 or 10 pounds.",
         "['Beginner', 'Novice', 'Intermediate']",
         "['Athletics', 'Powerlifting', 'Powerbuilding']",
         "Full Gym",
         "6.0",
         "90.0",
         "237",
         "2025-04-23 09:21:00",
         "2025-06-18 11:55:00"
        ],
        [
         "3",
         "10 Week Mass Building Program",
         "This workout is designed to increase your muscle mass as much as possible in 10 weeks. Works each muscle group hard once per week using mostly heavy compound exercises.\n\nhttps://www.muscleandstrength.com/workouts/10-week-mass-building-program.html",
         "['Intermediate', 'Advanced']",
         "['Powerbuilding']",
         "Garage Gym",
         "10.0",
         "70.0",
         "280",
         "2024-09-07 03:44:00",
         "2025-06-18 08:01:00"
        ],
        [
         "4",
         "10 week deadlift focus",
         "Increase deadlift",
         "['Intermediate', 'Advanced']",
         "['Powerbuilding', 'Powerlifting', 'Bodybuilding', 'Muscle & Sculpting']",
         "Full Gym",
         "10.0",
         "80.0",
         "356",
         "2024-12-23 03:13:00",
         "2025-06-18 12:19:00"
        ]
       ],
       "shape": {
        "columns": 10,
        "rows": 5
       }
      },
      "text/html": [
       "<div>\n",
       "<style scoped>\n",
       "    .dataframe tbody tr th:only-of-type {\n",
       "        vertical-align: middle;\n",
       "    }\n",
       "\n",
       "    .dataframe tbody tr th {\n",
       "        vertical-align: top;\n",
       "    }\n",
       "\n",
       "    .dataframe thead th {\n",
       "        text-align: right;\n",
       "    }\n",
       "</style>\n",
       "<table border=\"1\" class=\"dataframe\">\n",
       "  <thead>\n",
       "    <tr style=\"text-align: right;\">\n",
       "      <th></th>\n",
       "      <th>title</th>\n",
       "      <th>description</th>\n",
       "      <th>level</th>\n",
       "      <th>goal</th>\n",
       "      <th>equipment</th>\n",
       "      <th>program_length</th>\n",
       "      <th>time_per_workout</th>\n",
       "      <th>total_exercises</th>\n",
       "      <th>created</th>\n",
       "      <th>last_edit</th>\n",
       "    </tr>\n",
       "  </thead>\n",
       "  <tbody>\n",
       "    <tr>\n",
       "      <th>0</th>\n",
       "      <td>(MASS MONSTER) High Intensity 4 Day Upper Lowe...</td>\n",
       "      <td>Build tones of muscular with this high intensi...</td>\n",
       "      <td>['Intermediate']</td>\n",
       "      <td>['Muscle &amp; Sculpting', 'Bodyweight Fitness']</td>\n",
       "      <td>Full Gym</td>\n",
       "      <td>12.0</td>\n",
       "      <td>90.0</td>\n",
       "      <td>384</td>\n",
       "      <td>2024-01-20 10:23:00</td>\n",
       "      <td>2025-06-29 12:39:00</td>\n",
       "    </tr>\n",
       "    <tr>\n",
       "      <th>1</th>\n",
       "      <td>(NOT MY PROGRAM)SHJ Jotaro</td>\n",
       "      <td>Build strength and size</td>\n",
       "      <td>['Advanced', 'Intermediate']</td>\n",
       "      <td>['Bodybuilding']</td>\n",
       "      <td>Full Gym</td>\n",
       "      <td>8.0</td>\n",
       "      <td>60.0</td>\n",
       "      <td>224</td>\n",
       "      <td>2024-07-08 02:28:00</td>\n",
       "      <td>2025-06-18 09:15:00</td>\n",
       "    </tr>\n",
       "    <tr>\n",
       "      <th>2</th>\n",
       "      <td>1 PowerLift Per Day Powerbuilding 5 Day Bro Split</td>\n",
       "      <td>Based off of Andy Baker's KCS (Kingwood Streng...</td>\n",
       "      <td>['Beginner', 'Novice', 'Intermediate']</td>\n",
       "      <td>['Athletics', 'Powerlifting', 'Powerbuilding']</td>\n",
       "      <td>Full Gym</td>\n",
       "      <td>6.0</td>\n",
       "      <td>90.0</td>\n",
       "      <td>237</td>\n",
       "      <td>2025-04-23 09:21:00</td>\n",
       "      <td>2025-06-18 11:55:00</td>\n",
       "    </tr>\n",
       "    <tr>\n",
       "      <th>3</th>\n",
       "      <td>10 Week Mass Building Program</td>\n",
       "      <td>This workout is designed to increase your musc...</td>\n",
       "      <td>['Intermediate', 'Advanced']</td>\n",
       "      <td>['Powerbuilding']</td>\n",
       "      <td>Garage Gym</td>\n",
       "      <td>10.0</td>\n",
       "      <td>70.0</td>\n",
       "      <td>280</td>\n",
       "      <td>2024-09-07 03:44:00</td>\n",
       "      <td>2025-06-18 08:01:00</td>\n",
       "    </tr>\n",
       "    <tr>\n",
       "      <th>4</th>\n",
       "      <td>10 week deadlift focus</td>\n",
       "      <td>Increase deadlift</td>\n",
       "      <td>['Intermediate', 'Advanced']</td>\n",
       "      <td>['Powerbuilding', 'Powerlifting', 'Bodybuildin...</td>\n",
       "      <td>Full Gym</td>\n",
       "      <td>10.0</td>\n",
       "      <td>80.0</td>\n",
       "      <td>356</td>\n",
       "      <td>2024-12-23 03:13:00</td>\n",
       "      <td>2025-06-18 12:19:00</td>\n",
       "    </tr>\n",
       "  </tbody>\n",
       "</table>\n",
       "</div>"
      ],
      "text/plain": [
       "                                               title  \\\n",
       "0  (MASS MONSTER) High Intensity 4 Day Upper Lowe...   \n",
       "1                         (NOT MY PROGRAM)SHJ Jotaro   \n",
       "2  1 PowerLift Per Day Powerbuilding 5 Day Bro Split   \n",
       "3                      10 Week Mass Building Program   \n",
       "4                             10 week deadlift focus   \n",
       "\n",
       "                                         description  \\\n",
       "0  Build tones of muscular with this high intensi...   \n",
       "1                            Build strength and size   \n",
       "2  Based off of Andy Baker's KCS (Kingwood Streng...   \n",
       "3  This workout is designed to increase your musc...   \n",
       "4                                  Increase deadlift   \n",
       "\n",
       "                                    level  \\\n",
       "0                        ['Intermediate']   \n",
       "1            ['Advanced', 'Intermediate']   \n",
       "2  ['Beginner', 'Novice', 'Intermediate']   \n",
       "3            ['Intermediate', 'Advanced']   \n",
       "4            ['Intermediate', 'Advanced']   \n",
       "\n",
       "                                                goal   equipment  \\\n",
       "0       ['Muscle & Sculpting', 'Bodyweight Fitness']    Full Gym   \n",
       "1                                   ['Bodybuilding']    Full Gym   \n",
       "2     ['Athletics', 'Powerlifting', 'Powerbuilding']    Full Gym   \n",
       "3                                  ['Powerbuilding']  Garage Gym   \n",
       "4  ['Powerbuilding', 'Powerlifting', 'Bodybuildin...    Full Gym   \n",
       "\n",
       "   program_length  time_per_workout  total_exercises              created  \\\n",
       "0            12.0              90.0              384  2024-01-20 10:23:00   \n",
       "1             8.0              60.0              224  2024-07-08 02:28:00   \n",
       "2             6.0              90.0              237  2025-04-23 09:21:00   \n",
       "3            10.0              70.0              280  2024-09-07 03:44:00   \n",
       "4            10.0              80.0              356  2024-12-23 03:13:00   \n",
       "\n",
       "             last_edit  \n",
       "0  2025-06-29 12:39:00  \n",
       "1  2025-06-18 09:15:00  \n",
       "2  2025-06-18 11:55:00  \n",
       "3  2025-06-18 08:01:00  \n",
       "4  2025-06-18 12:19:00  "
      ]
     },
     "execution_count": 3,
     "metadata": {},
     "output_type": "execute_result"
    }
   ],
   "source": [
    "df1.head()"
   ]
  },
  {
   "cell_type": "code",
   "execution_count": 4,
   "id": "bc71a85a",
   "metadata": {},
   "outputs": [
    {
     "data": {
      "application/vnd.microsoft.datawrangler.viewer.v0+json": {
       "columns": [
        {
         "name": "goal",
         "rawType": "object",
         "type": "string"
        },
        {
         "name": "count",
         "rawType": "int64",
         "type": "integer"
        }
       ],
       "ref": "3be469fc-43d2-4c01-9287-a6ac7cc64d88",
       "rows": [
        [
         "['Bodybuilding']",
         "574"
        ],
        [
         "['Bodybuilding', 'Muscle & Sculpting']",
         "285"
        ],
        [
         "['Powerbuilding']",
         "173"
        ],
        [
         "['Muscle & Sculpting']",
         "145"
        ],
        [
         "['Bodybuilding', 'Powerbuilding']",
         "136"
        ],
        [
         "['Athletics']",
         "91"
        ],
        [
         "['Powerlifting']",
         "73"
        ],
        [
         "['Powerlifting', 'Powerbuilding']",
         "65"
        ],
        [
         "['Bodybuilding', 'Powerlifting', 'Powerbuilding']",
         "60"
        ],
        [
         "['Muscle & Sculpting', 'Bodybuilding']",
         "47"
        ],
        [
         "['Bodybuilding', 'Powerbuilding', 'Muscle & Sculpting']",
         "41"
        ],
        [
         "['Powerbuilding', 'Bodybuilding']",
         "41"
        ],
        [
         "['Powerbuilding', 'Powerlifting']",
         "39"
        ],
        [
         "['Athletics', 'Bodybuilding']",
         "35"
        ],
        [
         "['Bodyweight Fitness']",
         "31"
        ],
        [
         "['Bodybuilding', 'Powerlifting']",
         "30"
        ],
        [
         "['Athletics', 'Muscle & Sculpting', 'Bodyweight Fitness']",
         "30"
        ],
        [
         "['Athletics', 'Bodybuilding', 'Muscle & Sculpting']",
         "28"
        ],
        [
         "['Athletics', 'Muscle & Sculpting']",
         "26"
        ],
        [
         "['Athletics', 'Powerbuilding']",
         "24"
        ],
        [
         "['Bodybuilding', 'Muscle & Sculpting', 'Bodyweight Fitness']",
         "23"
        ],
        [
         "['Bodybuilding', 'Athletics']",
         "22"
        ],
        [
         "['Powerbuilding', 'Powerlifting', 'Bodybuilding']",
         "19"
        ],
        [
         "['Athletics', 'Bodyweight Fitness']",
         "18"
        ],
        [
         "['Bodybuilding', 'Muscle & Sculpting', 'Athletics']",
         "18"
        ],
        [
         "['Bodybuilding', 'Bodyweight Fitness']",
         "18"
        ],
        [
         "['Bodybuilding', 'Muscle & Sculpting', 'Powerbuilding']",
         "17"
        ],
        [
         "['Muscle & Sculpting', 'Bodyweight Fitness']",
         "15"
        ],
        [
         "['Bodyweight Fitness', 'Muscle & Sculpting']",
         "14"
        ],
        [
         "['Powerbuilding', 'Athletics']",
         "13"
        ],
        [
         "['Bodyweight Fitness', 'Bodybuilding']",
         "13"
        ],
        [
         "['Powerlifting', 'Bodybuilding']",
         "11"
        ],
        [
         "['Powerlifting', 'Bodybuilding', 'Powerbuilding']",
         "11"
        ],
        [
         "['Powerbuilding', 'Bodybuilding', 'Athletics']",
         "10"
        ],
        [
         "['Bodybuilding', 'Athletics', 'Muscle & Sculpting']",
         "9"
        ],
        [
         "['Muscle & Sculpting', 'Athletics']",
         "9"
        ],
        [
         "['Bodybuilding', 'Bodyweight Fitness', 'Muscle & Sculpting']",
         "9"
        ],
        [
         "['Muscle & Sculpting', 'Bodybuilding', 'Powerbuilding']",
         "9"
        ],
        [
         "['Powerbuilding', 'Bodybuilding', 'Powerlifting']",
         "8"
        ],
        [
         "['Athletics', 'Bodybuilding', 'Powerbuilding']",
         "8"
        ],
        [
         "['Athletics', 'Bodybuilding', 'Bodyweight Fitness']",
         "8"
        ],
        [
         "['Muscle & Sculpting', 'Powerbuilding']",
         "8"
        ],
        [
         "[]",
         "8"
        ],
        [
         "['Bodybuilding', 'Powerbuilding', 'Powerlifting']",
         "8"
        ],
        [
         "['Athletics', 'Powerlifting']",
         "8"
        ],
        [
         "['Powerbuilding', 'Bodybuilding', 'Muscle & Sculpting']",
         "8"
        ],
        [
         "['Bodybuilding', 'Powerlifting', 'Muscle & Sculpting']",
         "7"
        ],
        [
         "['Powerbuilding', 'Muscle & Sculpting', 'Powerlifting']",
         "7"
        ],
        [
         "['Athletics', 'Bodybuilding', 'Powerbuilding', 'Muscle & Sculpting']",
         "6"
        ],
        [
         "['Powerlifting', 'Powerbuilding', 'Bodybuilding']",
         "6"
        ]
       ],
       "shape": {
        "columns": 1,
        "rows": 179
       }
      },
      "text/plain": [
       "goal\n",
       "['Bodybuilding']                                                                        574\n",
       "['Bodybuilding', 'Muscle & Sculpting']                                                  285\n",
       "['Powerbuilding']                                                                       173\n",
       "['Muscle & Sculpting']                                                                  145\n",
       "['Bodybuilding', 'Powerbuilding']                                                       136\n",
       "                                                                                       ... \n",
       "['Athletics', 'Powerbuilding', 'Muscle & Sculpting']                                      1\n",
       "['Bodybuilding', 'Powerlifting', 'Bodyweight Fitness']                                    1\n",
       "['Powerlifting', 'Powerbuilding', 'Bodybuilding', 'Muscle & Sculpting']                   1\n",
       "['Bodybuilding', 'Athletics', 'Powerlifting', 'Muscle & Sculpting']                       1\n",
       "['Athletics', 'Bodybuilding', 'Powerlifting', 'Powerbuilding', 'Muscle & Sculpting']      1\n",
       "Name: count, Length: 179, dtype: int64"
      ]
     },
     "execution_count": 4,
     "metadata": {},
     "output_type": "execute_result"
    }
   ],
   "source": [
    "df1.goal.value_counts()"
   ]
  },
  {
   "cell_type": "code",
   "execution_count": 5,
   "id": "008294d2",
   "metadata": {},
   "outputs": [
    {
     "data": {
      "text/plain": [
       "array([\"['Muscle & Sculpting', 'Bodyweight Fitness']\", \"['Bodybuilding']\",\n",
       "       \"['Athletics', 'Powerlifting', 'Powerbuilding']\",\n",
       "       \"['Powerbuilding']\",\n",
       "       \"['Powerbuilding', 'Powerlifting', 'Bodybuilding', 'Muscle & Sculpting']\",\n",
       "       \"['Bodybuilding', 'Muscle & Sculpting']\",\n",
       "       \"['Powerlifting', 'Powerbuilding']\", \"['Muscle & Sculpting']\",\n",
       "       \"['Bodybuilding', 'Athletics', 'Muscle & Sculpting']\",\n",
       "       \"['Powerlifting', 'Athletics']\", \"['Athletics', 'Powerbuilding']\",\n",
       "       \"['Athletics', 'Bodybuilding', 'Powerbuilding', 'Muscle & Sculpting']\",\n",
       "       \"['Athletics', 'Bodyweight Fitness']\",\n",
       "       \"['Athletics', 'Bodybuilding', 'Powerbuilding']\",\n",
       "       \"['Muscle & Sculpting', 'Bodybuilding', 'Powerbuilding']\",\n",
       "       \"['Bodybuilding', 'Bodyweight Fitness', 'Muscle & Sculpting']\",\n",
       "       \"['Powerlifting']\", \"['Bodybuilding', 'Athletics']\",\n",
       "       \"['Powerlifting', 'Bodyweight Fitness']\",\n",
       "       \"['Powerbuilding', 'Bodybuilding']\",\n",
       "       \"['Athletics', 'Bodybuilding', 'Muscle & Sculpting']\",\n",
       "       \"['Bodybuilding', 'Powerbuilding']\",\n",
       "       \"['Bodybuilding', 'Powerlifting']\",\n",
       "       \"['Bodybuilding', 'Muscle & Sculpting', 'Bodyweight Fitness']\",\n",
       "       \"['Muscle & Sculpting', 'Bodybuilding']\", \"['Athletics']\",\n",
       "       \"['Muscle & Sculpting', 'Powerbuilding']\",\n",
       "       \"['Muscle & Sculpting', 'Athletics', 'Bodyweight Fitness', 'Bodybuilding', 'Olympic Weightlifting', 'Powerbuilding', 'Powerlifting']\",\n",
       "       \"['Athletics', 'Powerbuilding', 'Muscle & Sculpting', 'Bodyweight Fitness', 'Bodybuilding']\",\n",
       "       \"['Powerbuilding', 'Muscle & Sculpting']\",\n",
       "       \"['Bodyweight Fitness']\",\n",
       "       \"['Bodybuilding', 'Powerlifting', 'Athletics', 'Powerbuilding']\",\n",
       "       \"['Bodybuilding', 'Powerbuilding', 'Muscle & Sculpting']\",\n",
       "       \"['Athletics', 'Bodybuilding']\",\n",
       "       \"['Bodybuilding', 'Bodyweight Fitness', 'Athletics']\",\n",
       "       \"['Bodybuilding', 'Athletics', 'Bodyweight Fitness', 'Muscle & Sculpting']\",\n",
       "       \"['Powerbuilding', 'Bodybuilding', 'Athletics']\",\n",
       "       \"['Athletics', 'Bodybuilding', 'Powerlifting', 'Powerbuilding', 'Bodyweight Fitness', 'Olympic Weightlifting']\",\n",
       "       \"['Athletics', 'Powerbuilding', 'Bodyweight Fitness']\",\n",
       "       \"['Bodyweight Fitness', 'Powerbuilding']\",\n",
       "       \"['Muscle & Sculpting', 'Bodyweight Fitness', 'Athletics']\",\n",
       "       \"['Athletics', 'Bodybuilding', 'Muscle & Sculpting', 'Powerbuilding']\",\n",
       "       \"['Powerlifting', 'Powerbuilding', 'Bodybuilding', 'Muscle & Sculpting']\",\n",
       "       \"['Powerbuilding', 'Powerlifting']\",\n",
       "       \"['Powerbuilding', 'Bodybuilding', 'Powerlifting']\",\n",
       "       \"['Bodybuilding', 'Powerbuilding', 'Athletics']\",\n",
       "       \"['Powerbuilding', 'Powerlifting', 'Bodyweight Fitness', 'Bodybuilding', 'Athletics']\",\n",
       "       \"['Bodybuilding', 'Muscle & Sculpting', 'Powerbuilding']\",\n",
       "       \"['Bodybuilding', 'Bodyweight Fitness']\",\n",
       "       \"['Bodyweight Fitness', 'Athletics']\",\n",
       "       \"['Powerlifting', 'Bodybuilding', 'Muscle & Sculpting']\",\n",
       "       \"['Powerbuilding', 'Olympic Weightlifting', 'Bodybuilding']\",\n",
       "       \"['Athletics', 'Muscle & Sculpting', 'Bodyweight Fitness']\",\n",
       "       \"['Bodyweight Fitness', 'Bodybuilding', 'Athletics']\",\n",
       "       \"['Athletics', 'Powerbuilding', 'Bodybuilding', 'Muscle & Sculpting', 'Powerlifting']\",\n",
       "       \"['Bodybuilding', 'Powerlifting', 'Powerbuilding']\",\n",
       "       \"['Athletics', 'Muscle & Sculpting', 'Bodyweight Fitness', 'Olympic Weightlifting', 'Bodybuilding', 'Powerlifting', 'Powerbuilding']\",\n",
       "       \"['Bodybuilding', 'Powerlifting', 'Powerbuilding', 'Muscle & Sculpting', 'Bodyweight Fitness']\",\n",
       "       \"['Powerbuilding', 'Muscle & Sculpting', 'Powerlifting']\",\n",
       "       \"['Powerbuilding', 'Muscle & Sculpting', 'Athletics']\",\n",
       "       \"['Muscle & Sculpting', 'Powerlifting', 'Powerbuilding', 'Bodybuilding']\",\n",
       "       \"['Muscle & Sculpting', 'Powerbuilding', 'Bodybuilding']\",\n",
       "       \"['Athletics', 'Muscle & Sculpting']\",\n",
       "       \"['Athletics', 'Bodybuilding', 'Powerlifting', 'Powerbuilding']\",\n",
       "       \"['Bodyweight Fitness', 'Bodybuilding']\",\n",
       "       \"['Athletics', 'Bodybuilding', 'Powerlifting', 'Powerbuilding', 'Muscle & Sculpting', 'Bodyweight Fitness']\",\n",
       "       \"['Powerbuilding', 'Bodybuilding', 'Powerlifting', 'Muscle & Sculpting']\",\n",
       "       \"['Bodybuilding', 'Powerlifting', 'Powerbuilding', 'Muscle & Sculpting']\",\n",
       "       \"['Olympic Weightlifting', 'Muscle & Sculpting', 'Bodybuilding', 'Powerlifting', 'Athletics', 'Powerbuilding', 'Bodyweight Fitness']\",\n",
       "       \"['Athletics', 'Bodyweight Fitness', 'Muscle & Sculpting']\",\n",
       "       \"['Powerlifting', 'Powerbuilding', 'Muscle & Sculpting', 'Bodyweight Fitness', 'Olympic Weightlifting', 'Athletics', 'Bodybuilding']\",\n",
       "       \"['Powerlifting', 'Bodybuilding']\",\n",
       "       \"['Bodybuilding', 'Powerlifting', 'Muscle & Sculpting']\",\n",
       "       \"['Powerlifting', 'Powerbuilding', 'Bodybuilding', 'Athletics']\",\n",
       "       \"['Bodybuilding', 'Muscle & Sculpting', 'Athletics']\",\n",
       "       \"['Olympic Weightlifting']\",\n",
       "       \"['Bodyweight Fitness', 'Muscle & Sculpting']\",\n",
       "       \"['Athletics', 'Powerbuilding', 'Muscle & Sculpting', 'Bodybuilding', 'Powerlifting']\",\n",
       "       \"['Athletics', 'Powerbuilding', 'Olympic Weightlifting']\",\n",
       "       \"['Powerbuilding', 'Athletics']\",\n",
       "       \"['Bodybuilding', 'Powerbuilding', 'Muscle & Sculpting', 'Bodyweight Fitness']\",\n",
       "       \"['Athletics', 'Muscle & Sculpting', 'Bodybuilding']\",\n",
       "       \"['Bodyweight Fitness', 'Athletics', 'Powerbuilding']\",\n",
       "       \"['Muscle & Sculpting', 'Athletics']\",\n",
       "       \"['Powerbuilding', 'Powerlifting', 'Bodybuilding']\",\n",
       "       \"['Bodybuilding', 'Powerlifting', 'Powerbuilding', 'Bodyweight Fitness']\",\n",
       "       \"['Powerbuilding', 'Bodybuilding', 'Muscle & Sculpting']\",\n",
       "       \"['Bodybuilding', 'Powerbuilding', 'Powerlifting', 'Bodyweight Fitness']\",\n",
       "       \"['Bodybuilding', 'Powerbuilding', 'Powerlifting']\",\n",
       "       \"['Bodybuilding', 'Muscle & Sculpting', 'Powerlifting']\",\n",
       "       \"['Muscle & Sculpting', 'Bodybuilding', 'Bodyweight Fitness']\",\n",
       "       \"['Bodybuilding', 'Athletics', 'Powerlifting', 'Powerbuilding', 'Muscle & Sculpting']\",\n",
       "       \"['Athletics', 'Bodybuilding', 'Powerlifting', 'Bodyweight Fitness', 'Muscle & Sculpting']\",\n",
       "       \"['Bodyweight Fitness', 'Bodybuilding', 'Powerbuilding', 'Muscle & Sculpting', 'Athletics']\",\n",
       "       \"['Athletics', 'Bodybuilding', 'Powerlifting']\",\n",
       "       \"['Powerlifting', 'Powerbuilding', 'Bodybuilding']\",\n",
       "       \"['Muscle & Sculpting', 'Athletics', 'Bodyweight Fitness', 'Bodybuilding']\",\n",
       "       \"['Athletics', 'Powerlifting']\",\n",
       "       \"['Powerlifting', 'Muscle & Sculpting']\",\n",
       "       \"['Bodybuilding', 'Powerlifting', 'Powerbuilding', 'Bodyweight Fitness', 'Muscle & Sculpting']\",\n",
       "       \"['Powerbuilding', 'Powerlifting', 'Athletics']\",\n",
       "       \"['Muscle & Sculpting', 'Bodybuilding', 'Powerbuilding', 'Bodyweight Fitness', 'Athletics']\",\n",
       "       \"['Powerbuilding', 'Olympic Weightlifting', 'Bodyweight Fitness']\",\n",
       "       \"['Athletics', 'Bodybuilding', 'Bodyweight Fitness']\",\n",
       "       \"['Powerlifting', 'Bodybuilding', 'Powerbuilding']\",\n",
       "       \"['Bodybuilding', 'Powerbuilding', 'Powerlifting', 'Muscle & Sculpting']\",\n",
       "       \"['Bodybuilding', 'Powerbuilding', 'Bodyweight Fitness']\",\n",
       "       \"['Bodybuilding', 'Athletics', 'Powerlifting', 'Muscle & Sculpting', 'Powerbuilding']\",\n",
       "       \"['Bodyweight Fitness', 'Bodybuilding', 'Athletics', 'Muscle & Sculpting']\",\n",
       "       \"['Muscle & Sculpting', 'Bodybuilding', 'Powerbuilding', 'Athletics']\",\n",
       "       \"['Powerlifting', 'Bodybuilding', 'Powerbuilding', 'Muscle & Sculpting']\",\n",
       "       \"['Athletics', 'Bodybuilding', 'Powerlifting', 'Powerbuilding', 'Muscle & Sculpting', 'Bodyweight Fitness', 'Olympic Weightlifting']\",\n",
       "       \"['Bodyweight Fitness', 'Athletics', 'Bodybuilding']\",\n",
       "       \"['Athletics', 'Bodybuilding', 'Powerlifting', 'Muscle & Sculpting', 'Bodyweight Fitness', 'Powerbuilding']\",\n",
       "       \"['Athletics', 'Bodybuilding', 'Muscle & Sculpting', 'Bodyweight Fitness']\",\n",
       "       \"['Powerbuilding', 'Muscle & Sculpting', 'Powerlifting', 'Bodybuilding']\",\n",
       "       \"['Muscle & Sculpting', 'Athletics', 'Bodybuilding']\",\n",
       "       \"['Powerlifting', 'Athletics', 'Powerbuilding']\",\n",
       "       \"['Bodyweight Fitness', 'Muscle & Sculpting', 'Athletics']\",\n",
       "       \"['Powerbuilding', 'Bodyweight Fitness']\",\n",
       "       \"['Bodyweight Fitness', 'Powerlifting', 'Bodybuilding']\",\n",
       "       \"['Athletics', 'Bodybuilding', 'Muscle & Sculpting', 'Bodyweight Fitness', 'Powerbuilding', 'Powerlifting']\",\n",
       "       \"['Athletics', 'Olympic Weightlifting', 'Powerbuilding']\",\n",
       "       \"['Bodybuilding', 'Athletics', 'Powerlifting', 'Muscle & Sculpting']\",\n",
       "       \"['Powerlifting', 'Bodybuilding', 'Muscle & Sculpting', 'Powerbuilding']\",\n",
       "       \"['Bodybuilding', 'Powerlifting', 'Athletics', 'Olympic Weightlifting', 'Muscle & Sculpting']\",\n",
       "       \"['Bodybuilding', 'Powerlifting', 'Powerbuilding', 'Olympic Weightlifting']\",\n",
       "       \"['Bodybuilding', 'Powerlifting', 'Bodyweight Fitness', 'Powerbuilding']\",\n",
       "       \"['Muscle & Sculpting', 'Bodyweight Fitness', 'Powerbuilding']\",\n",
       "       \"['Powerbuilding', 'Muscle & Sculpting', 'Bodybuilding', 'Powerlifting']\",\n",
       "       \"['Bodybuilding', 'Powerbuilding', 'Muscle & Sculpting', 'Powerlifting']\",\n",
       "       \"['Muscle & Sculpting', 'Bodybuilding', 'Powerlifting']\",\n",
       "       \"['Powerbuilding', 'Bodybuilding', 'Athletics', 'Muscle & Sculpting']\",\n",
       "       \"['Bodybuilding', 'Powerbuilding', 'Muscle & Sculpting', 'Athletics']\",\n",
       "       \"['Bodybuilding', 'Powerbuilding', 'Powerlifting', 'Muscle & Sculpting', 'Athletics']\",\n",
       "       \"['Bodybuilding', 'Powerlifting', 'Muscle & Sculpting', 'Olympic Weightlifting']\",\n",
       "       \"['Bodybuilding', 'Athletics', 'Powerlifting']\",\n",
       "       \"['Athletics', 'Bodybuilding', 'Olympic Weightlifting', 'Powerbuilding']\",\n",
       "       \"['Athletics', 'Muscle & Sculpting', 'Powerbuilding', 'Bodybuilding']\",\n",
       "       \"['Athletics', 'Bodybuilding', 'Muscle & Sculpting', 'Bodyweight Fitness', 'Powerbuilding']\",\n",
       "       \"['Bodybuilding', 'Muscle & Sculpting', 'Powerlifting', 'Powerbuilding']\",\n",
       "       \"['Bodybuilding', 'Powerbuilding', 'Olympic Weightlifting', 'Bodyweight Fitness']\",\n",
       "       \"['Athletics', 'Bodyweight Fitness', 'Powerbuilding']\",\n",
       "       \"['Bodyweight Fitness', 'Athletics', 'Muscle & Sculpting']\",\n",
       "       \"['Athletics', 'Powerlifting', 'Powerbuilding', 'Olympic Weightlifting']\",\n",
       "       \"['Powerbuilding', 'Muscle & Sculpting', 'Bodyweight Fitness']\",\n",
       "       \"['Powerlifting', 'Powerbuilding', 'Athletics']\",\n",
       "       \"['Athletics', 'Powerbuilding', 'Muscle & Sculpting']\",\n",
       "       \"['Bodybuilding', 'Powerlifting', 'Bodyweight Fitness']\", '[]',\n",
       "       \"['Athletics', 'Powerlifting', 'Powerbuilding', 'Bodybuilding', 'Muscle & Sculpting']\",\n",
       "       \"['Powerlifting', 'Powerbuilding', 'Muscle & Sculpting', 'Bodybuilding', 'Athletics']\",\n",
       "       \"['Athletics', 'Bodybuilding', 'Powerlifting', 'Muscle & Sculpting', 'Bodyweight Fitness', 'Olympic Weightlifting', 'Powerbuilding']\",\n",
       "       \"['Muscle & Sculpting', 'Bodybuilding', 'Athletics']\",\n",
       "       \"['Athletics', 'Bodybuilding', 'Powerbuilding', 'Muscle & Sculpting', 'Powerlifting']\",\n",
       "       \"['Athletics', 'Bodyweight Fitness', 'Olympic Weightlifting']\",\n",
       "       \"['Bodybuilding', 'Powerlifting', 'Muscle & Sculpting', 'Bodyweight Fitness']\",\n",
       "       \"['Athletics', 'Bodybuilding', 'Powerbuilding', 'Powerlifting', 'Bodyweight Fitness']\",\n",
       "       \"['Athletics', 'Bodybuilding', 'Powerlifting', 'Muscle & Sculpting', 'Bodyweight Fitness']\",\n",
       "       \"['Muscle & Sculpting', 'Powerlifting', 'Bodybuilding', 'Bodyweight Fitness', 'Athletics']\",\n",
       "       \"['Powerlifting', 'Powerbuilding', 'Muscle & Sculpting']\",\n",
       "       \"['Powerlifting', 'Powerbuilding', 'Muscle & Sculpting', 'Bodybuilding']\",\n",
       "       \"['Powerlifting', 'Bodybuilding', 'Powerbuilding', 'Athletics']\",\n",
       "       \"['Bodyweight Fitness', 'Powerbuilding', 'Muscle & Sculpting']\",\n",
       "       \"['Athletics', 'Bodybuilding', 'Powerbuilding', 'Bodyweight Fitness', 'Muscle & Sculpting']\",\n",
       "       \"['Athletics', 'Olympic Weightlifting', 'Powerlifting']\",\n",
       "       \"['Powerbuilding', 'Athletics', 'Powerlifting']\",\n",
       "       \"['Bodybuilding', 'Powerlifting', 'Powerbuilding', 'Athletics']\",\n",
       "       \"['Muscle & Sculpting', 'Bodyweight Fitness', 'Athletics', 'Bodybuilding']\",\n",
       "       \"['Powerlifting', 'Olympic Weightlifting', 'Powerbuilding', 'Athletics']\",\n",
       "       \"['Athletics', 'Powerlifting', 'Powerbuilding', 'Muscle & Sculpting', 'Bodyweight Fitness']\",\n",
       "       \"['Muscle & Sculpting', 'Bodyweight Fitness', 'Bodybuilding']\",\n",
       "       \"['Muscle & Sculpting', 'Bodyweight Fitness', 'Bodybuilding', 'Powerlifting']\",\n",
       "       \"['Athletics', 'Powerbuilding', 'Muscle & Sculpting', 'Bodyweight Fitness']\",\n",
       "       \"['Olympic Weightlifting', 'Muscle & Sculpting', 'Bodyweight Fitness', 'Powerbuilding', 'Athletics', 'Bodybuilding', 'Powerlifting']\",\n",
       "       \"['Bodybuilding', 'Olympic Weightlifting', 'Muscle & Sculpting', 'Powerlifting', 'Bodyweight Fitness', 'Powerbuilding']\",\n",
       "       \"['Powerbuilding', 'Bodybuilding', 'Bodyweight Fitness']\",\n",
       "       \"['Athletics', 'Muscle & Sculpting', 'Bodyweight Fitness', 'Bodybuilding']\",\n",
       "       \"['Athletics', 'Bodybuilding', 'Powerlifting', 'Powerbuilding', 'Muscle & Sculpting']\"],\n",
       "      dtype=object)"
      ]
     },
     "execution_count": 5,
     "metadata": {},
     "output_type": "execute_result"
    }
   ],
   "source": [
    "df1.goal.unique()"
   ]
  },
  {
   "cell_type": "code",
   "execution_count": 6,
   "id": "4b3b8a48",
   "metadata": {},
   "outputs": [
    {
     "data": {
      "application/vnd.microsoft.datawrangler.viewer.v0+json": {
       "columns": [
        {
         "name": "index",
         "rawType": "int64",
         "type": "integer"
        },
        {
         "name": "title",
         "rawType": "object",
         "type": "string"
        },
        {
         "name": "description",
         "rawType": "object",
         "type": "string"
        },
        {
         "name": "level",
         "rawType": "object",
         "type": "string"
        },
        {
         "name": "goal",
         "rawType": "object",
         "type": "string"
        },
        {
         "name": "equipment",
         "rawType": "object",
         "type": "string"
        },
        {
         "name": "program_length",
         "rawType": "float64",
         "type": "float"
        },
        {
         "name": "time_per_workout",
         "rawType": "float64",
         "type": "float"
        },
        {
         "name": "total_exercises",
         "rawType": "int64",
         "type": "integer"
        },
        {
         "name": "created",
         "rawType": "object",
         "type": "string"
        },
        {
         "name": "last_edit",
         "rawType": "object",
         "type": "string"
        }
       ],
       "ref": "8467d611-6468-428d-8bed-12fc484080cd",
       "rows": [
        [
         "2593",
         "🎧",
         "Lihaskasvu",
         "['Intermediate', 'Advanced']",
         "['Bodybuilding']",
         "Garage Gym",
         "12.0",
         "90.0",
         "228",
         "2024-10-10 04:20:00",
         "2025-06-18 11:32:00"
        ],
        [
         "2594",
         "👾Reza's Routine👾",
         "This is a beginner friendly routine made for me and my friends to follow and get some top notch gains. 💪",
         "['Beginner', 'Intermediate']",
         "['Muscle & Sculpting']",
         "Dumbbell Only",
         "1.0",
         "60.0",
         "60",
         "2024-09-15 08:45:00",
         "2025-06-18 07:48:00"
        ],
        [
         "2595",
         "🔥 \"Upper Body Dominance: 3-Day Growth System\" 🔥",
         "\"Upper Body Dominance: A science-based 3-day workout plan designed for maximum muscle growth. Featuring supersets, myo-reps, drop sets, and lengthened partials, this program prioritizes upper body hypertrophy while maintaining lower body balance. Perfect for those looking to build strength and size efficiently in just one hour per session.\" 💪🔥",
         "['Intermediate', 'Novice']",
         "['Muscle & Sculpting']",
         "Full Gym",
         "6.0",
         "60.0",
         "96",
         "2025-02-15 08:18:00",
         "2025-06-18 07:48:00"
        ],
        [
         "2596",
         "🙈🙉🙊🐵",
         "Muscle Memory Training",
         "['Intermediate']",
         "['Bodybuilding']",
         "Full Gym",
         "8.0",
         "90.0",
         "211",
         "2024-12-08 01:04:00",
         "2025-06-18 11:35:00"
        ],
        [
         "2597",
         "🥷🥷🥷",
         "To become stronger without becoming “bulky”",
         "['Intermediate', 'Novice']",
         "['Bodybuilding', 'Powerbuilding']",
         "Garage Gym",
         "9.0",
         "100.0",
         "216",
         "2025-05-15 10:44:00",
         "2025-06-18 12:08:00"
        ]
       ],
       "shape": {
        "columns": 10,
        "rows": 5
       }
      },
      "text/html": [
       "<div>\n",
       "<style scoped>\n",
       "    .dataframe tbody tr th:only-of-type {\n",
       "        vertical-align: middle;\n",
       "    }\n",
       "\n",
       "    .dataframe tbody tr th {\n",
       "        vertical-align: top;\n",
       "    }\n",
       "\n",
       "    .dataframe thead th {\n",
       "        text-align: right;\n",
       "    }\n",
       "</style>\n",
       "<table border=\"1\" class=\"dataframe\">\n",
       "  <thead>\n",
       "    <tr style=\"text-align: right;\">\n",
       "      <th></th>\n",
       "      <th>title</th>\n",
       "      <th>description</th>\n",
       "      <th>level</th>\n",
       "      <th>goal</th>\n",
       "      <th>equipment</th>\n",
       "      <th>program_length</th>\n",
       "      <th>time_per_workout</th>\n",
       "      <th>total_exercises</th>\n",
       "      <th>created</th>\n",
       "      <th>last_edit</th>\n",
       "    </tr>\n",
       "  </thead>\n",
       "  <tbody>\n",
       "    <tr>\n",
       "      <th>2593</th>\n",
       "      <td>🎧</td>\n",
       "      <td>Lihaskasvu</td>\n",
       "      <td>['Intermediate', 'Advanced']</td>\n",
       "      <td>['Bodybuilding']</td>\n",
       "      <td>Garage Gym</td>\n",
       "      <td>12.0</td>\n",
       "      <td>90.0</td>\n",
       "      <td>228</td>\n",
       "      <td>2024-10-10 04:20:00</td>\n",
       "      <td>2025-06-18 11:32:00</td>\n",
       "    </tr>\n",
       "    <tr>\n",
       "      <th>2594</th>\n",
       "      <td>👾Reza's Routine👾</td>\n",
       "      <td>This is a beginner friendly routine made for m...</td>\n",
       "      <td>['Beginner', 'Intermediate']</td>\n",
       "      <td>['Muscle &amp; Sculpting']</td>\n",
       "      <td>Dumbbell Only</td>\n",
       "      <td>1.0</td>\n",
       "      <td>60.0</td>\n",
       "      <td>60</td>\n",
       "      <td>2024-09-15 08:45:00</td>\n",
       "      <td>2025-06-18 07:48:00</td>\n",
       "    </tr>\n",
       "    <tr>\n",
       "      <th>2595</th>\n",
       "      <td>🔥 \"Upper Body Dominance: 3-Day Growth System\" 🔥</td>\n",
       "      <td>\"Upper Body Dominance: A science-based 3-day w...</td>\n",
       "      <td>['Intermediate', 'Novice']</td>\n",
       "      <td>['Muscle &amp; Sculpting']</td>\n",
       "      <td>Full Gym</td>\n",
       "      <td>6.0</td>\n",
       "      <td>60.0</td>\n",
       "      <td>96</td>\n",
       "      <td>2025-02-15 08:18:00</td>\n",
       "      <td>2025-06-18 07:48:00</td>\n",
       "    </tr>\n",
       "    <tr>\n",
       "      <th>2596</th>\n",
       "      <td>🙈🙉🙊🐵</td>\n",
       "      <td>Muscle Memory Training</td>\n",
       "      <td>['Intermediate']</td>\n",
       "      <td>['Bodybuilding']</td>\n",
       "      <td>Full Gym</td>\n",
       "      <td>8.0</td>\n",
       "      <td>90.0</td>\n",
       "      <td>211</td>\n",
       "      <td>2024-12-08 01:04:00</td>\n",
       "      <td>2025-06-18 11:35:00</td>\n",
       "    </tr>\n",
       "    <tr>\n",
       "      <th>2597</th>\n",
       "      <td>🥷🥷🥷</td>\n",
       "      <td>To become stronger without becoming “bulky”</td>\n",
       "      <td>['Intermediate', 'Novice']</td>\n",
       "      <td>['Bodybuilding', 'Powerbuilding']</td>\n",
       "      <td>Garage Gym</td>\n",
       "      <td>9.0</td>\n",
       "      <td>100.0</td>\n",
       "      <td>216</td>\n",
       "      <td>2025-05-15 10:44:00</td>\n",
       "      <td>2025-06-18 12:08:00</td>\n",
       "    </tr>\n",
       "  </tbody>\n",
       "</table>\n",
       "</div>"
      ],
      "text/plain": [
       "                                                title  \\\n",
       "2593                                                🎧   \n",
       "2594                                 👾Reza's Routine👾   \n",
       "2595  🔥 \"Upper Body Dominance: 3-Day Growth System\" 🔥   \n",
       "2596                                             🙈🙉🙊🐵   \n",
       "2597                                              🥷🥷🥷   \n",
       "\n",
       "                                            description  \\\n",
       "2593                                         Lihaskasvu   \n",
       "2594  This is a beginner friendly routine made for m...   \n",
       "2595  \"Upper Body Dominance: A science-based 3-day w...   \n",
       "2596                             Muscle Memory Training   \n",
       "2597        To become stronger without becoming “bulky”   \n",
       "\n",
       "                             level                               goal  \\\n",
       "2593  ['Intermediate', 'Advanced']                   ['Bodybuilding']   \n",
       "2594  ['Beginner', 'Intermediate']             ['Muscle & Sculpting']   \n",
       "2595    ['Intermediate', 'Novice']             ['Muscle & Sculpting']   \n",
       "2596              ['Intermediate']                   ['Bodybuilding']   \n",
       "2597    ['Intermediate', 'Novice']  ['Bodybuilding', 'Powerbuilding']   \n",
       "\n",
       "          equipment  program_length  time_per_workout  total_exercises  \\\n",
       "2593     Garage Gym            12.0              90.0              228   \n",
       "2594  Dumbbell Only             1.0              60.0               60   \n",
       "2595       Full Gym             6.0              60.0               96   \n",
       "2596       Full Gym             8.0              90.0              211   \n",
       "2597     Garage Gym             9.0             100.0              216   \n",
       "\n",
       "                  created            last_edit  \n",
       "2593  2024-10-10 04:20:00  2025-06-18 11:32:00  \n",
       "2594  2024-09-15 08:45:00  2025-06-18 07:48:00  \n",
       "2595  2025-02-15 08:18:00  2025-06-18 07:48:00  \n",
       "2596  2024-12-08 01:04:00  2025-06-18 11:35:00  \n",
       "2597  2025-05-15 10:44:00  2025-06-18 12:08:00  "
      ]
     },
     "execution_count": 6,
     "metadata": {},
     "output_type": "execute_result"
    }
   ],
   "source": [
    "df1.tail()"
   ]
  },
  {
   "cell_type": "code",
   "execution_count": 7,
   "id": "5b6324ca",
   "metadata": {},
   "outputs": [
    {
     "data": {
      "application/vnd.microsoft.datawrangler.viewer.v0+json": {
       "columns": [
        {
         "name": "index",
         "rawType": "int64",
         "type": "integer"
        },
        {
         "name": "Gender",
         "rawType": "object",
         "type": "string"
        },
        {
         "name": "Goal",
         "rawType": "object",
         "type": "string"
        },
        {
         "name": "BMI Category",
         "rawType": "object",
         "type": "string"
        },
        {
         "name": "Exercise Schedule",
         "rawType": "object",
         "type": "string"
        },
        {
         "name": "Meal Plan",
         "rawType": "object",
         "type": "string"
        }
       ],
       "ref": "e6c36887-fdc7-4c9b-8e9b-00e4d9100f76",
       "rows": [
        [
         "0",
         "Female",
         "muscle_gain",
         "Normal weight",
         "Moderate cardio, Strength training, and 5000 steps walking",
         "Balanced diet with moderate protein and carbohydrates: Chicken breast, brown rice, spinach, eggs, apple"
        ],
        [
         "1",
         "Male",
         "fat_burn",
         "Underweight",
         "Light weightlifting, Yoga, and 2000 steps walking",
         "High-calorie, protein-rich diet: Whole milk, peanut butter, eggs, salmon, sweet potatoes"
        ],
        [
         "2",
         "Male",
         "muscle_gain",
         "Normal weight",
         "Moderate cardio, Strength training, and 5000 steps walking",
         "Balanced diet with moderate protein and carbohydrates: Chicken breast, brown rice, spinach, eggs, apple"
        ],
        [
         "3",
         "Male",
         "muscle_gain",
         "Overweight",
         "High-intensity interval training (HIIT), Cardio, and 8000 steps walking",
         "Low-carb, high-fiber diet: Avocado, grilled fish, broccoli, almonds, leafy greens"
        ],
        [
         "4",
         "Female",
         "muscle_gain",
         "Normal weight",
         "Moderate cardio, Strength training, and 5000 steps walking",
         "Balanced diet with moderate protein and carbohydrates: Chicken breast, brown rice, spinach, eggs, apple"
        ]
       ],
       "shape": {
        "columns": 5,
        "rows": 5
       }
      },
      "text/html": [
       "<div>\n",
       "<style scoped>\n",
       "    .dataframe tbody tr th:only-of-type {\n",
       "        vertical-align: middle;\n",
       "    }\n",
       "\n",
       "    .dataframe tbody tr th {\n",
       "        vertical-align: top;\n",
       "    }\n",
       "\n",
       "    .dataframe thead th {\n",
       "        text-align: right;\n",
       "    }\n",
       "</style>\n",
       "<table border=\"1\" class=\"dataframe\">\n",
       "  <thead>\n",
       "    <tr style=\"text-align: right;\">\n",
       "      <th></th>\n",
       "      <th>Gender</th>\n",
       "      <th>Goal</th>\n",
       "      <th>BMI Category</th>\n",
       "      <th>Exercise Schedule</th>\n",
       "      <th>Meal Plan</th>\n",
       "    </tr>\n",
       "  </thead>\n",
       "  <tbody>\n",
       "    <tr>\n",
       "      <th>0</th>\n",
       "      <td>Female</td>\n",
       "      <td>muscle_gain</td>\n",
       "      <td>Normal weight</td>\n",
       "      <td>Moderate cardio, Strength training, and 5000 s...</td>\n",
       "      <td>Balanced diet with moderate protein and carboh...</td>\n",
       "    </tr>\n",
       "    <tr>\n",
       "      <th>1</th>\n",
       "      <td>Male</td>\n",
       "      <td>fat_burn</td>\n",
       "      <td>Underweight</td>\n",
       "      <td>Light weightlifting, Yoga, and 2000 steps walking</td>\n",
       "      <td>High-calorie, protein-rich diet: Whole milk, p...</td>\n",
       "    </tr>\n",
       "    <tr>\n",
       "      <th>2</th>\n",
       "      <td>Male</td>\n",
       "      <td>muscle_gain</td>\n",
       "      <td>Normal weight</td>\n",
       "      <td>Moderate cardio, Strength training, and 5000 s...</td>\n",
       "      <td>Balanced diet with moderate protein and carboh...</td>\n",
       "    </tr>\n",
       "    <tr>\n",
       "      <th>3</th>\n",
       "      <td>Male</td>\n",
       "      <td>muscle_gain</td>\n",
       "      <td>Overweight</td>\n",
       "      <td>High-intensity interval training (HIIT), Cardi...</td>\n",
       "      <td>Low-carb, high-fiber diet: Avocado, grilled fi...</td>\n",
       "    </tr>\n",
       "    <tr>\n",
       "      <th>4</th>\n",
       "      <td>Female</td>\n",
       "      <td>muscle_gain</td>\n",
       "      <td>Normal weight</td>\n",
       "      <td>Moderate cardio, Strength training, and 5000 s...</td>\n",
       "      <td>Balanced diet with moderate protein and carboh...</td>\n",
       "    </tr>\n",
       "  </tbody>\n",
       "</table>\n",
       "</div>"
      ],
      "text/plain": [
       "   Gender         Goal   BMI Category  \\\n",
       "0  Female  muscle_gain  Normal weight   \n",
       "1    Male     fat_burn    Underweight   \n",
       "2    Male  muscle_gain  Normal weight   \n",
       "3    Male  muscle_gain     Overweight   \n",
       "4  Female  muscle_gain  Normal weight   \n",
       "\n",
       "                                   Exercise Schedule  \\\n",
       "0  Moderate cardio, Strength training, and 5000 s...   \n",
       "1  Light weightlifting, Yoga, and 2000 steps walking   \n",
       "2  Moderate cardio, Strength training, and 5000 s...   \n",
       "3  High-intensity interval training (HIIT), Cardi...   \n",
       "4  Moderate cardio, Strength training, and 5000 s...   \n",
       "\n",
       "                                           Meal Plan  \n",
       "0  Balanced diet with moderate protein and carboh...  \n",
       "1  High-calorie, protein-rich diet: Whole milk, p...  \n",
       "2  Balanced diet with moderate protein and carboh...  \n",
       "3  Low-carb, high-fiber diet: Avocado, grilled fi...  \n",
       "4  Balanced diet with moderate protein and carboh...  "
      ]
     },
     "execution_count": 7,
     "metadata": {},
     "output_type": "execute_result"
    }
   ],
   "source": [
    "df2.head()"
   ]
  },
  {
   "cell_type": "code",
   "execution_count": 22,
   "id": "5ee30d84",
   "metadata": {},
   "outputs": [
    {
     "data": {
      "application/vnd.microsoft.datawrangler.viewer.v0+json": {
       "columns": [
        {
         "name": "index",
         "rawType": "int64",
         "type": "integer"
        },
        {
         "name": "Age",
         "rawType": "float64",
         "type": "float"
        },
        {
         "name": "Gender",
         "rawType": "object",
         "type": "string"
        },
        {
         "name": "Weight (kg)",
         "rawType": "float64",
         "type": "float"
        },
        {
         "name": "Height (m)",
         "rawType": "float64",
         "type": "float"
        },
        {
         "name": "Max_BPM",
         "rawType": "float64",
         "type": "float"
        },
        {
         "name": "Avg_BPM",
         "rawType": "float64",
         "type": "float"
        },
        {
         "name": "Resting_BPM",
         "rawType": "float64",
         "type": "float"
        },
        {
         "name": "Session_Duration (hours)",
         "rawType": "float64",
         "type": "float"
        },
        {
         "name": "Calories_Burned",
         "rawType": "float64",
         "type": "float"
        },
        {
         "name": "Workout_Type",
         "rawType": "object",
         "type": "string"
        },
        {
         "name": "Fat_Percentage",
         "rawType": "float64",
         "type": "float"
        },
        {
         "name": "Water_Intake (liters)",
         "rawType": "float64",
         "type": "float"
        },
        {
         "name": "Workout_Frequency (days/week)",
         "rawType": "float64",
         "type": "float"
        },
        {
         "name": "Experience_Level",
         "rawType": "float64",
         "type": "float"
        },
        {
         "name": "BMI",
         "rawType": "float64",
         "type": "float"
        },
        {
         "name": "Daily meals frequency",
         "rawType": "float64",
         "type": "float"
        },
        {
         "name": "Physical exercise",
         "rawType": "float64",
         "type": "float"
        },
        {
         "name": "Carbs",
         "rawType": "float64",
         "type": "float"
        },
        {
         "name": "Proteins",
         "rawType": "float64",
         "type": "float"
        },
        {
         "name": "Fats",
         "rawType": "float64",
         "type": "float"
        },
        {
         "name": "Calories",
         "rawType": "float64",
         "type": "float"
        },
        {
         "name": "meal_name",
         "rawType": "object",
         "type": "string"
        },
        {
         "name": "meal_type",
         "rawType": "object",
         "type": "string"
        },
        {
         "name": "diet_type",
         "rawType": "object",
         "type": "string"
        },
        {
         "name": "sugar_g",
         "rawType": "float64",
         "type": "float"
        },
        {
         "name": "sodium_mg",
         "rawType": "float64",
         "type": "float"
        },
        {
         "name": "cholesterol_mg",
         "rawType": "float64",
         "type": "float"
        },
        {
         "name": "serving_size_g",
         "rawType": "float64",
         "type": "float"
        },
        {
         "name": "cooking_method",
         "rawType": "object",
         "type": "string"
        },
        {
         "name": "prep_time_min",
         "rawType": "float64",
         "type": "float"
        },
        {
         "name": "cook_time_min",
         "rawType": "float64",
         "type": "float"
        },
        {
         "name": "rating",
         "rawType": "float64",
         "type": "float"
        },
        {
         "name": "Name of Exercise",
         "rawType": "object",
         "type": "string"
        },
        {
         "name": "Sets",
         "rawType": "float64",
         "type": "float"
        },
        {
         "name": "Reps",
         "rawType": "float64",
         "type": "float"
        },
        {
         "name": "Benefit",
         "rawType": "object",
         "type": "string"
        },
        {
         "name": "Burns Calories (per 30 min)",
         "rawType": "float64",
         "type": "float"
        },
        {
         "name": "Target Muscle Group",
         "rawType": "object",
         "type": "string"
        },
        {
         "name": "Equipment Needed",
         "rawType": "object",
         "type": "string"
        },
        {
         "name": "Difficulty Level",
         "rawType": "object",
         "type": "string"
        },
        {
         "name": "Body Part",
         "rawType": "object",
         "type": "string"
        },
        {
         "name": "Type of Muscle",
         "rawType": "object",
         "type": "string"
        },
        {
         "name": "Workout",
         "rawType": "object",
         "type": "string"
        },
        {
         "name": "BMI_calc",
         "rawType": "float64",
         "type": "float"
        },
        {
         "name": "cal_from_macros",
         "rawType": "float64",
         "type": "float"
        },
        {
         "name": "pct_carbs",
         "rawType": "float64",
         "type": "float"
        },
        {
         "name": "protein_per_kg",
         "rawType": "float64",
         "type": "float"
        },
        {
         "name": "pct_HRR",
         "rawType": "float64",
         "type": "float"
        },
        {
         "name": "pct_maxHR",
         "rawType": "float64",
         "type": "float"
        },
        {
         "name": "cal_balance",
         "rawType": "float64",
         "type": "float"
        },
        {
         "name": "lean_mass_kg",
         "rawType": "float64",
         "type": "float"
        },
        {
         "name": "expected_burn",
         "rawType": "float64",
         "type": "float"
        },
        {
         "name": "Burns Calories (per 30 min)_bc",
         "rawType": "float64",
         "type": "float"
        },
        {
         "name": "Burns_Calories_Bin",
         "rawType": "object",
         "type": "string"
        }
       ],
       "ref": "e1311e40-b28c-4dd6-9282-4f5f0e5e49ad",
       "rows": [
        [
         "0",
         "34.91",
         "Male",
         "65.27",
         "1.62",
         "188.58",
         "157.65",
         "69.05",
         "1.0",
         "1080.9",
         "Strength",
         "26.800377179186803",
         "1.5",
         "3.99",
         "2.01",
         "24.87",
         "2.99",
         "0.01",
         "267.68",
         "106.05",
         "71.63",
         "1806.0",
         "Other",
         "Lunch",
         "Vegan",
         "31.77",
         "1729.94",
         "285.05",
         "120.47",
         "Grilled",
         "16.24",
         "110.79",
         "1.31",
         "Decline Push-ups",
         "4.99",
         "20.91",
         "Improves shoulder health and posture",
         "342.58",
         "Shoulders, Triceps",
         "Cable Machine",
         "Advanced",
         "Legs",
         "Lats",
         "Dumbbell flyes",
         "24.8704465782655",
         "2139.59",
         "0.5004323258194326",
         "1.624789336601808",
         "0.7412365096628462",
         "0.8359847279669106",
         "725.0999999999999",
         "47.77739381514478",
         "685.16",
         "7.260425438142023e+19",
         "Medium"
        ],
        [
         "1",
         "23.37",
         "Female",
         "56.41",
         "1.55",
         "179.43",
         "131.75",
         "73.18",
         "1.37",
         "1809.91",
         "HIIT",
         "27.65502094955822",
         "1.9",
         "4.0",
         "2.01",
         "23.48",
         "3.01",
         "0.97",
         "214.32",
         "85.41",
         "56.97",
         "1577.0",
         "Other",
         "Lunch",
         "Vegetarian",
         "12.34",
         "693.08",
         "300.61",
         "109.15",
         "Fried",
         "16.47",
         "12.01",
         "1.92",
         "Bear Crawls",
         "4.01",
         "16.15",
         "Strengthens lower abs",
         "357.16",
         "Back, Core, Shoulders",
         "Step or Box",
         "Intermediate",
         "Chest",
         "Lats",
         "Lateral raises",
         "23.479708636836623",
         "1711.65",
         "0.5008500569625799",
         "1.5140932458783904",
         "0.5512470588235293",
         "0.7342696316112133",
         "-232.91000000000008",
         "40.8098026823542",
         "978.6184000000002",
         "1.02050570044361e+20",
         "High"
        ],
        [
         "2",
         "33.2",
         "Female",
         "58.98",
         "1.67",
         "175.04",
         "123.95",
         "54.96",
         "0.91",
         "802.26",
         "Cardio",
         "24.32082112410528",
         "1.88",
         "2.99",
         "1.02",
         "21.15",
         "1.99",
         "-0.02",
         "246.04",
         "98.11",
         "65.48",
         "1608.0",
         "Other",
         "Breakfast",
         "Paleo",
         "42.81",
         "2142.48",
         "215.42",
         "399.43",
         "Boiled",
         "54.35",
         "6.09",
         "4.7",
         "Dips",
         "5.0",
         "21.9",
         "Builds chest strength",
         "359.63",
         "Quadriceps, Glutes",
         "Step or Box",
         "Intermediate",
         "Arms",
         "Grip Strength",
         "Standing calf raises",
         "21.148122915844954",
         "1965.92",
         "0.5006104012370798",
         "1.6634452356731095",
         "0.5745336442371753",
         "0.708123857404022",
         "805.74",
         "44.63557970100271",
         "654.5266",
         "1.0796070881410969e+20",
         "High"
        ],
        [
         "3",
         "38.69",
         "Female",
         "93.78",
         "1.7",
         "191.21",
         "155.1",
         "50.07",
         "1.1",
         "1450.79",
         "HIIT",
         "32.81357178608907",
         "2.5",
         "3.99",
         "1.99",
         "32.45",
         "3.0",
         "0.04",
         "203.22",
         "80.84",
         "54.56",
         "2657.0",
         "Other",
         "Lunch",
         "Paleo",
         "9.34",
         "123.2",
         "9.7",
         "314.31",
         "Fried",
         "27.73",
         "103.72",
         "4.85",
         "Mountain Climbers",
         "4.01",
         "16.92",
         "Improves coordination and cardiovascular health",
         "351.65",
         "Biceps, Forearms",
         "Parallel Bars or Chair",
         "Advanced",
         "Shoulders",
         "Upper",
         "Incline dumbbell flyes",
         "32.44982698961938",
         "1627.28",
         "0.499532962981171",
         "0.8620174877372574",
         "0.7441547399744933",
         "0.811150044453742",
         "1206.21",
         "63.00743237900567",
         "773.63",
         "8.987921156899057e+19",
         "High"
        ],
        [
         "4",
         "45.09",
         "Male",
         "52.42",
         "1.88",
         "193.58",
         "152.88",
         "70.84",
         "1.08",
         "1166.4",
         "Strength",
         "17.307318603384633",
         "2.91",
         "4.0",
         "2.0",
         "14.83",
         "3.0",
         "3.0",
         "332.79",
         "133.05",
         "88.43",
         "1470.0",
         "Other",
         "Breakfast",
         "Vegan",
         "23.78",
         "1935.11",
         "116.89",
         "99.22",
         "Baked",
         "34.16",
         "46.55",
         "3.07",
         "Bicep Curls",
         "4.99",
         "15.01",
         "Targets obliques and improves core rotation",
         "329.36",
         "Chest, Triceps",
         "Wall",
         "Advanced",
         "Abs",
         "Wrist Flexors",
         "Military press",
         "14.831371661385244",
         "2659.2300000000005",
         "0.5005809952505048",
         "2.538153376573827",
         "0.6684047580250936",
         "0.7897510073354684",
         "303.5999999999999",
         "43.34750358810577",
         "711.4176000000001",
         "5.264684819918977e+19",
         "Low"
        ]
       ],
       "shape": {
        "columns": 54,
        "rows": 5
       }
      },
      "text/html": [
       "<div>\n",
       "<style scoped>\n",
       "    .dataframe tbody tr th:only-of-type {\n",
       "        vertical-align: middle;\n",
       "    }\n",
       "\n",
       "    .dataframe tbody tr th {\n",
       "        vertical-align: top;\n",
       "    }\n",
       "\n",
       "    .dataframe thead th {\n",
       "        text-align: right;\n",
       "    }\n",
       "</style>\n",
       "<table border=\"1\" class=\"dataframe\">\n",
       "  <thead>\n",
       "    <tr style=\"text-align: right;\">\n",
       "      <th></th>\n",
       "      <th>Age</th>\n",
       "      <th>Gender</th>\n",
       "      <th>Weight (kg)</th>\n",
       "      <th>Height (m)</th>\n",
       "      <th>Max_BPM</th>\n",
       "      <th>Avg_BPM</th>\n",
       "      <th>Resting_BPM</th>\n",
       "      <th>Session_Duration (hours)</th>\n",
       "      <th>Calories_Burned</th>\n",
       "      <th>Workout_Type</th>\n",
       "      <th>...</th>\n",
       "      <th>cal_from_macros</th>\n",
       "      <th>pct_carbs</th>\n",
       "      <th>protein_per_kg</th>\n",
       "      <th>pct_HRR</th>\n",
       "      <th>pct_maxHR</th>\n",
       "      <th>cal_balance</th>\n",
       "      <th>lean_mass_kg</th>\n",
       "      <th>expected_burn</th>\n",
       "      <th>Burns Calories (per 30 min)_bc</th>\n",
       "      <th>Burns_Calories_Bin</th>\n",
       "    </tr>\n",
       "  </thead>\n",
       "  <tbody>\n",
       "    <tr>\n",
       "      <th>0</th>\n",
       "      <td>34.91</td>\n",
       "      <td>Male</td>\n",
       "      <td>65.27</td>\n",
       "      <td>1.62</td>\n",
       "      <td>188.58</td>\n",
       "      <td>157.65</td>\n",
       "      <td>69.05</td>\n",
       "      <td>1.00</td>\n",
       "      <td>1080.90</td>\n",
       "      <td>Strength</td>\n",
       "      <td>...</td>\n",
       "      <td>2139.59</td>\n",
       "      <td>0.500432</td>\n",
       "      <td>1.624789</td>\n",
       "      <td>0.741237</td>\n",
       "      <td>0.835985</td>\n",
       "      <td>725.10</td>\n",
       "      <td>47.777394</td>\n",
       "      <td>685.1600</td>\n",
       "      <td>7.260425e+19</td>\n",
       "      <td>Medium</td>\n",
       "    </tr>\n",
       "    <tr>\n",
       "      <th>1</th>\n",
       "      <td>23.37</td>\n",
       "      <td>Female</td>\n",
       "      <td>56.41</td>\n",
       "      <td>1.55</td>\n",
       "      <td>179.43</td>\n",
       "      <td>131.75</td>\n",
       "      <td>73.18</td>\n",
       "      <td>1.37</td>\n",
       "      <td>1809.91</td>\n",
       "      <td>HIIT</td>\n",
       "      <td>...</td>\n",
       "      <td>1711.65</td>\n",
       "      <td>0.500850</td>\n",
       "      <td>1.514093</td>\n",
       "      <td>0.551247</td>\n",
       "      <td>0.734270</td>\n",
       "      <td>-232.91</td>\n",
       "      <td>40.809803</td>\n",
       "      <td>978.6184</td>\n",
       "      <td>1.020506e+20</td>\n",
       "      <td>High</td>\n",
       "    </tr>\n",
       "    <tr>\n",
       "      <th>2</th>\n",
       "      <td>33.20</td>\n",
       "      <td>Female</td>\n",
       "      <td>58.98</td>\n",
       "      <td>1.67</td>\n",
       "      <td>175.04</td>\n",
       "      <td>123.95</td>\n",
       "      <td>54.96</td>\n",
       "      <td>0.91</td>\n",
       "      <td>802.26</td>\n",
       "      <td>Cardio</td>\n",
       "      <td>...</td>\n",
       "      <td>1965.92</td>\n",
       "      <td>0.500610</td>\n",
       "      <td>1.663445</td>\n",
       "      <td>0.574534</td>\n",
       "      <td>0.708124</td>\n",
       "      <td>805.74</td>\n",
       "      <td>44.635580</td>\n",
       "      <td>654.5266</td>\n",
       "      <td>1.079607e+20</td>\n",
       "      <td>High</td>\n",
       "    </tr>\n",
       "    <tr>\n",
       "      <th>3</th>\n",
       "      <td>38.69</td>\n",
       "      <td>Female</td>\n",
       "      <td>93.78</td>\n",
       "      <td>1.70</td>\n",
       "      <td>191.21</td>\n",
       "      <td>155.10</td>\n",
       "      <td>50.07</td>\n",
       "      <td>1.10</td>\n",
       "      <td>1450.79</td>\n",
       "      <td>HIIT</td>\n",
       "      <td>...</td>\n",
       "      <td>1627.28</td>\n",
       "      <td>0.499533</td>\n",
       "      <td>0.862017</td>\n",
       "      <td>0.744155</td>\n",
       "      <td>0.811150</td>\n",
       "      <td>1206.21</td>\n",
       "      <td>63.007432</td>\n",
       "      <td>773.6300</td>\n",
       "      <td>8.987921e+19</td>\n",
       "      <td>High</td>\n",
       "    </tr>\n",
       "    <tr>\n",
       "      <th>4</th>\n",
       "      <td>45.09</td>\n",
       "      <td>Male</td>\n",
       "      <td>52.42</td>\n",
       "      <td>1.88</td>\n",
       "      <td>193.58</td>\n",
       "      <td>152.88</td>\n",
       "      <td>70.84</td>\n",
       "      <td>1.08</td>\n",
       "      <td>1166.40</td>\n",
       "      <td>Strength</td>\n",
       "      <td>...</td>\n",
       "      <td>2659.23</td>\n",
       "      <td>0.500581</td>\n",
       "      <td>2.538153</td>\n",
       "      <td>0.668405</td>\n",
       "      <td>0.789751</td>\n",
       "      <td>303.60</td>\n",
       "      <td>43.347504</td>\n",
       "      <td>711.4176</td>\n",
       "      <td>5.264685e+19</td>\n",
       "      <td>Low</td>\n",
       "    </tr>\n",
       "  </tbody>\n",
       "</table>\n",
       "<p>5 rows × 54 columns</p>\n",
       "</div>"
      ],
      "text/plain": [
       "     Age  Gender  Weight (kg)  Height (m)  Max_BPM  Avg_BPM  Resting_BPM  \\\n",
       "0  34.91    Male        65.27        1.62   188.58   157.65        69.05   \n",
       "1  23.37  Female        56.41        1.55   179.43   131.75        73.18   \n",
       "2  33.20  Female        58.98        1.67   175.04   123.95        54.96   \n",
       "3  38.69  Female        93.78        1.70   191.21   155.10        50.07   \n",
       "4  45.09    Male        52.42        1.88   193.58   152.88        70.84   \n",
       "\n",
       "   Session_Duration (hours)  Calories_Burned Workout_Type  ...  \\\n",
       "0                      1.00          1080.90     Strength  ...   \n",
       "1                      1.37          1809.91         HIIT  ...   \n",
       "2                      0.91           802.26       Cardio  ...   \n",
       "3                      1.10          1450.79         HIIT  ...   \n",
       "4                      1.08          1166.40     Strength  ...   \n",
       "\n",
       "   cal_from_macros  pct_carbs  protein_per_kg   pct_HRR  pct_maxHR  \\\n",
       "0          2139.59   0.500432        1.624789  0.741237   0.835985   \n",
       "1          1711.65   0.500850        1.514093  0.551247   0.734270   \n",
       "2          1965.92   0.500610        1.663445  0.574534   0.708124   \n",
       "3          1627.28   0.499533        0.862017  0.744155   0.811150   \n",
       "4          2659.23   0.500581        2.538153  0.668405   0.789751   \n",
       "\n",
       "   cal_balance  lean_mass_kg  expected_burn  Burns Calories (per 30 min)_bc  \\\n",
       "0       725.10     47.777394       685.1600                    7.260425e+19   \n",
       "1      -232.91     40.809803       978.6184                    1.020506e+20   \n",
       "2       805.74     44.635580       654.5266                    1.079607e+20   \n",
       "3      1206.21     63.007432       773.6300                    8.987921e+19   \n",
       "4       303.60     43.347504       711.4176                    5.264685e+19   \n",
       "\n",
       "   Burns_Calories_Bin  \n",
       "0              Medium  \n",
       "1                High  \n",
       "2                High  \n",
       "3                High  \n",
       "4                 Low  \n",
       "\n",
       "[5 rows x 54 columns]"
      ]
     },
     "execution_count": 22,
     "metadata": {},
     "output_type": "execute_result"
    }
   ],
   "source": [
    "\n",
    "df3 = pd.read_csv(\"../data/Final_data.csv\")\n",
    "df3.head()"
   ]
  },
  {
   "cell_type": "code",
   "execution_count": 24,
   "id": "80f0e41e",
   "metadata": {},
   "outputs": [
    {
     "data": {
      "text/plain": [
       "Index(['Age', 'Gender', 'Weight (kg)', 'Height (m)', 'Max_BPM', 'Avg_BPM',\n",
       "       'Resting_BPM', 'Session_Duration (hours)', 'Calories_Burned',\n",
       "       'Workout_Type', 'Fat_Percentage', 'Water_Intake (liters)',\n",
       "       'Workout_Frequency (days/week)', 'Experience_Level', 'BMI',\n",
       "       'Daily meals frequency', 'Physical exercise', 'Carbs', 'Proteins',\n",
       "       'Fats', 'Calories', 'meal_name', 'meal_type', 'diet_type', 'sugar_g',\n",
       "       'sodium_mg', 'cholesterol_mg', 'serving_size_g', 'cooking_method',\n",
       "       'prep_time_min', 'cook_time_min', 'rating', 'Name of Exercise', 'Sets',\n",
       "       'Reps', 'Benefit', 'Burns Calories (per 30 min)', 'Target Muscle Group',\n",
       "       'Equipment Needed', 'Difficulty Level', 'Body Part', 'Type of Muscle',\n",
       "       'Workout', 'BMI_calc', 'cal_from_macros', 'pct_carbs', 'protein_per_kg',\n",
       "       'pct_HRR', 'pct_maxHR', 'cal_balance', 'lean_mass_kg', 'expected_burn',\n",
       "       'Burns Calories (per 30 min)_bc', 'Burns_Calories_Bin', 'Gender',\n",
       "       'Goal', 'BMI Category', 'Exercise Schedule', 'Meal Plan'],\n",
       "      dtype='object')"
      ]
     },
     "execution_count": 24,
     "metadata": {},
     "output_type": "execute_result"
    }
   ],
   "source": [
    "df_combined = pd.concat([df3, df2], axis=1)\n",
    "df_combined.columns"
   ]
  },
  {
   "cell_type": "code",
   "execution_count": 25,
   "id": "8ba028d4",
   "metadata": {},
   "outputs": [
    {
     "data": {
      "text/plain": [
       "(80000, 59)"
      ]
     },
     "execution_count": 25,
     "metadata": {},
     "output_type": "execute_result"
    }
   ],
   "source": [
    "df_combined.shape"
   ]
  },
  {
   "cell_type": "code",
   "execution_count": 26,
   "id": "e70070e1",
   "metadata": {},
   "outputs": [
    {
     "data": {
      "application/vnd.microsoft.datawrangler.viewer.v0+json": {
       "columns": [
        {
         "name": "index",
         "rawType": "object",
         "type": "string"
        },
        {
         "name": "0",
         "rawType": "int64",
         "type": "integer"
        }
       ],
       "ref": "361f7217-b6ce-4b9d-a6df-3e8c6da680c3",
       "rows": [
        [
         "Age",
         "60000"
        ],
        [
         "Gender",
         "60000"
        ],
        [
         "Weight (kg)",
         "60000"
        ],
        [
         "Height (m)",
         "60000"
        ],
        [
         "Max_BPM",
         "60000"
        ],
        [
         "Avg_BPM",
         "60000"
        ],
        [
         "Resting_BPM",
         "60000"
        ],
        [
         "Session_Duration (hours)",
         "60000"
        ],
        [
         "Calories_Burned",
         "60000"
        ],
        [
         "Workout_Type",
         "60000"
        ],
        [
         "Fat_Percentage",
         "60000"
        ],
        [
         "Water_Intake (liters)",
         "60000"
        ],
        [
         "Workout_Frequency (days/week)",
         "60000"
        ],
        [
         "Experience_Level",
         "60000"
        ],
        [
         "BMI",
         "60000"
        ],
        [
         "Daily meals frequency",
         "60000"
        ],
        [
         "Physical exercise",
         "60000"
        ],
        [
         "Carbs",
         "60000"
        ],
        [
         "Proteins",
         "60000"
        ],
        [
         "Fats",
         "60000"
        ],
        [
         "Calories",
         "60000"
        ],
        [
         "meal_name",
         "60000"
        ],
        [
         "meal_type",
         "60000"
        ],
        [
         "diet_type",
         "60000"
        ],
        [
         "sugar_g",
         "60000"
        ],
        [
         "sodium_mg",
         "60000"
        ],
        [
         "cholesterol_mg",
         "60000"
        ],
        [
         "serving_size_g",
         "60000"
        ],
        [
         "cooking_method",
         "60000"
        ],
        [
         "prep_time_min",
         "60000"
        ],
        [
         "cook_time_min",
         "60000"
        ],
        [
         "rating",
         "60000"
        ],
        [
         "Name of Exercise",
         "60000"
        ],
        [
         "Sets",
         "60000"
        ],
        [
         "Reps",
         "60000"
        ],
        [
         "Benefit",
         "60000"
        ],
        [
         "Burns Calories (per 30 min)",
         "60000"
        ],
        [
         "Target Muscle Group",
         "60000"
        ],
        [
         "Equipment Needed",
         "60000"
        ],
        [
         "Difficulty Level",
         "60000"
        ],
        [
         "Body Part",
         "60000"
        ],
        [
         "Type of Muscle",
         "60000"
        ],
        [
         "Workout",
         "60000"
        ],
        [
         "BMI_calc",
         "60000"
        ],
        [
         "cal_from_macros",
         "60000"
        ],
        [
         "pct_carbs",
         "60000"
        ],
        [
         "protein_per_kg",
         "60000"
        ],
        [
         "pct_HRR",
         "60000"
        ],
        [
         "pct_maxHR",
         "60000"
        ],
        [
         "cal_balance",
         "60000"
        ]
       ],
       "shape": {
        "columns": 1,
        "rows": 59
       }
      },
      "text/plain": [
       "Age                               60000\n",
       "Gender                            60000\n",
       "Weight (kg)                       60000\n",
       "Height (m)                        60000\n",
       "Max_BPM                           60000\n",
       "Avg_BPM                           60000\n",
       "Resting_BPM                       60000\n",
       "Session_Duration (hours)          60000\n",
       "Calories_Burned                   60000\n",
       "Workout_Type                      60000\n",
       "Fat_Percentage                    60000\n",
       "Water_Intake (liters)             60000\n",
       "Workout_Frequency (days/week)     60000\n",
       "Experience_Level                  60000\n",
       "BMI                               60000\n",
       "Daily meals frequency             60000\n",
       "Physical exercise                 60000\n",
       "Carbs                             60000\n",
       "Proteins                          60000\n",
       "Fats                              60000\n",
       "Calories                          60000\n",
       "meal_name                         60000\n",
       "meal_type                         60000\n",
       "diet_type                         60000\n",
       "sugar_g                           60000\n",
       "sodium_mg                         60000\n",
       "cholesterol_mg                    60000\n",
       "serving_size_g                    60000\n",
       "cooking_method                    60000\n",
       "prep_time_min                     60000\n",
       "cook_time_min                     60000\n",
       "rating                            60000\n",
       "Name of Exercise                  60000\n",
       "Sets                              60000\n",
       "Reps                              60000\n",
       "Benefit                           60000\n",
       "Burns Calories (per 30 min)       60000\n",
       "Target Muscle Group               60000\n",
       "Equipment Needed                  60000\n",
       "Difficulty Level                  60000\n",
       "Body Part                         60000\n",
       "Type of Muscle                    60000\n",
       "Workout                           60000\n",
       "BMI_calc                          60000\n",
       "cal_from_macros                   60000\n",
       "pct_carbs                         60000\n",
       "protein_per_kg                    60000\n",
       "pct_HRR                           60000\n",
       "pct_maxHR                         60000\n",
       "cal_balance                       60000\n",
       "lean_mass_kg                      60000\n",
       "expected_burn                     60000\n",
       "Burns Calories (per 30 min)_bc    60000\n",
       "Burns_Calories_Bin                60000\n",
       "Gender                                0\n",
       "Goal                                  0\n",
       "BMI Category                          0\n",
       "Exercise Schedule                     0\n",
       "Meal Plan                             0\n",
       "dtype: int64"
      ]
     },
     "execution_count": 26,
     "metadata": {},
     "output_type": "execute_result"
    }
   ],
   "source": [
    "df_combined.isnull().sum()"
   ]
  },
  {
   "cell_type": "code",
   "execution_count": 28,
   "id": "2ea02d50",
   "metadata": {},
   "outputs": [
    {
     "name": "stdout",
     "output_type": "stream",
     "text": [
      "Age                               60000\n",
      "Gender                            60000\n",
      "Weight (kg)                       60000\n",
      "Height (m)                        60000\n",
      "Max_BPM                           60000\n",
      "Avg_BPM                           60000\n",
      "Resting_BPM                       60000\n",
      "Session_Duration (hours)          60000\n",
      "Calories_Burned                   60000\n",
      "Workout_Type                      60000\n",
      "Fat_Percentage                    60000\n",
      "Water_Intake (liters)             60000\n",
      "Workout_Frequency (days/week)     60000\n",
      "Experience_Level                  60000\n",
      "BMI                               60000\n",
      "Daily meals frequency             60000\n",
      "Physical exercise                 60000\n",
      "Carbs                             60000\n",
      "Proteins                          60000\n",
      "Fats                              60000\n",
      "Calories                          60000\n",
      "meal_name                         60000\n",
      "meal_type                         60000\n",
      "diet_type                         60000\n",
      "sugar_g                           60000\n",
      "sodium_mg                         60000\n",
      "cholesterol_mg                    60000\n",
      "serving_size_g                    60000\n",
      "cooking_method                    60000\n",
      "prep_time_min                     60000\n",
      "cook_time_min                     60000\n",
      "rating                            60000\n",
      "Name of Exercise                  60000\n",
      "Sets                              60000\n",
      "Reps                              60000\n",
      "Benefit                           60000\n",
      "Burns Calories (per 30 min)       60000\n",
      "Target Muscle Group               60000\n",
      "Equipment Needed                  60000\n",
      "Difficulty Level                  60000\n",
      "Body Part                         60000\n",
      "Type of Muscle                    60000\n",
      "Workout                           60000\n",
      "BMI_calc                          60000\n",
      "cal_from_macros                   60000\n",
      "pct_carbs                         60000\n",
      "protein_per_kg                    60000\n",
      "pct_HRR                           60000\n",
      "pct_maxHR                         60000\n",
      "cal_balance                       60000\n",
      "lean_mass_kg                      60000\n",
      "expected_burn                     60000\n",
      "Burns Calories (per 30 min)_bc    60000\n",
      "Burns_Calories_Bin                60000\n",
      "dtype: int64\n"
     ]
    }
   ],
   "source": [
    "missing = df_combined.isnull().sum()\n",
    "print(missing[missing >= 60000])\n"
   ]
  },
  {
   "cell_type": "code",
   "execution_count": 30,
   "id": "bed84863",
   "metadata": {},
   "outputs": [],
   "source": [
    "df_new = df_combined.drop(columns=missing[missing >= 60000].index)\n"
   ]
  },
  {
   "cell_type": "code",
   "execution_count": 32,
   "id": "4c8f8ed5",
   "metadata": {},
   "outputs": [],
   "source": [
    "df_new.reset_index(drop=True, inplace=True)\n"
   ]
  },
  {
   "cell_type": "code",
   "execution_count": 33,
   "id": "999aca41",
   "metadata": {},
   "outputs": [
    {
     "data": {
      "text/plain": [
       "(79999, 4)"
      ]
     },
     "execution_count": 33,
     "metadata": {},
     "output_type": "execute_result"
    }
   ],
   "source": [
    "df_new.shape"
   ]
  },
  {
   "cell_type": "code",
   "execution_count": 8,
   "id": "7cefdb0a",
   "metadata": {},
   "outputs": [
    {
     "data": {
      "application/vnd.microsoft.datawrangler.viewer.v0+json": {
       "columns": [
        {
         "name": "Goal",
         "rawType": "object",
         "type": "string"
        },
        {
         "name": "count",
         "rawType": "int64",
         "type": "integer"
        }
       ],
       "ref": "e61e6164-8b07-496c-b39f-7287a94b5ec8",
       "rows": [
        [
         "muscle_gain",
         "41020"
        ],
        [
         "fat_burn",
         "38980"
        ]
       ],
       "shape": {
        "columns": 1,
        "rows": 2
       }
      },
      "text/plain": [
       "Goal\n",
       "muscle_gain    41020\n",
       "fat_burn       38980\n",
       "Name: count, dtype: int64"
      ]
     },
     "execution_count": 8,
     "metadata": {},
     "output_type": "execute_result"
    }
   ],
   "source": [
    "df2.Goal.value_counts()"
   ]
  },
  {
   "cell_type": "code",
   "execution_count": 8,
   "id": "979c3458",
   "metadata": {},
   "outputs": [
    {
     "data": {
      "text/plain": [
       "(Index(['title', 'description', 'level', 'goal', 'equipment', 'program_length',\n",
       "        'time_per_workout', 'total_exercises', 'created', 'last_edit'],\n",
       "       dtype='object'),\n",
       " Index(['Gender', 'Goal', 'BMI Category', 'Exercise Schedule', 'Meal Plan'], dtype='object'))"
      ]
     },
     "execution_count": 8,
     "metadata": {},
     "output_type": "execute_result"
    }
   ],
   "source": [
    "df1.columns, df2.columns"
   ]
  },
  {
   "cell_type": "code",
   "execution_count": 9,
   "id": "077033d1",
   "metadata": {},
   "outputs": [
    {
     "name": "stdout",
     "output_type": "stream",
     "text": [
      "<class 'pandas.core.frame.DataFrame'>\n",
      "RangeIndex: 2598 entries, 0 to 2597\n",
      "Data columns (total 10 columns):\n",
      " #   Column            Non-Null Count  Dtype  \n",
      "---  ------            --------------  -----  \n",
      " 0   title             2598 non-null   object \n",
      " 1   description       2594 non-null   object \n",
      " 2   level             2598 non-null   object \n",
      " 3   goal              2598 non-null   object \n",
      " 4   equipment         2597 non-null   object \n",
      " 5   program_length    2597 non-null   float64\n",
      " 6   time_per_workout  2598 non-null   float64\n",
      " 7   total_exercises   2598 non-null   int64  \n",
      " 8   created           2597 non-null   object \n",
      " 9   last_edit         2596 non-null   object \n",
      "dtypes: float64(2), int64(1), object(7)\n",
      "memory usage: 203.1+ KB\n"
     ]
    }
   ],
   "source": [
    "df1.info()"
   ]
  },
  {
   "cell_type": "code",
   "execution_count": 10,
   "id": "8bc4fedf",
   "metadata": {},
   "outputs": [
    {
     "data": {
      "application/vnd.microsoft.datawrangler.viewer.v0+json": {
       "columns": [
        {
         "name": "index",
         "rawType": "object",
         "type": "string"
        },
        {
         "name": "0",
         "rawType": "int64",
         "type": "integer"
        }
       ],
       "ref": "a29c2000-398c-4a9a-8cfd-0559de9c3849",
       "rows": [
        [
         "title",
         "0"
        ],
        [
         "description",
         "4"
        ],
        [
         "level",
         "0"
        ],
        [
         "goal",
         "0"
        ],
        [
         "equipment",
         "1"
        ],
        [
         "program_length",
         "1"
        ],
        [
         "time_per_workout",
         "0"
        ],
        [
         "total_exercises",
         "0"
        ],
        [
         "created",
         "1"
        ],
        [
         "last_edit",
         "2"
        ]
       ],
       "shape": {
        "columns": 1,
        "rows": 10
       }
      },
      "text/plain": [
       "title               0\n",
       "description         4\n",
       "level               0\n",
       "goal                0\n",
       "equipment           1\n",
       "program_length      1\n",
       "time_per_workout    0\n",
       "total_exercises     0\n",
       "created             1\n",
       "last_edit           2\n",
       "dtype: int64"
      ]
     },
     "execution_count": 10,
     "metadata": {},
     "output_type": "execute_result"
    }
   ],
   "source": [
    "df1.isnull().sum()"
   ]
  },
  {
   "cell_type": "code",
   "execution_count": 11,
   "id": "17749018",
   "metadata": {},
   "outputs": [
    {
     "name": "stdout",
     "output_type": "stream",
     "text": [
      "<class 'pandas.core.frame.DataFrame'>\n",
      "RangeIndex: 80000 entries, 0 to 79999\n",
      "Data columns (total 5 columns):\n",
      " #   Column             Non-Null Count  Dtype \n",
      "---  ------             --------------  ----- \n",
      " 0   Gender             80000 non-null  object\n",
      " 1   Goal               80000 non-null  object\n",
      " 2   BMI Category       80000 non-null  object\n",
      " 3   Exercise Schedule  80000 non-null  object\n",
      " 4   Meal Plan          80000 non-null  object\n",
      "dtypes: object(5)\n",
      "memory usage: 3.1+ MB\n"
     ]
    }
   ],
   "source": [
    "df2.info()"
   ]
  },
  {
   "cell_type": "code",
   "execution_count": 12,
   "id": "aa71d43d",
   "metadata": {},
   "outputs": [
    {
     "data": {
      "application/vnd.microsoft.datawrangler.viewer.v0+json": {
       "columns": [
        {
         "name": "index",
         "rawType": "object",
         "type": "string"
        },
        {
         "name": "0",
         "rawType": "int64",
         "type": "integer"
        }
       ],
       "ref": "c261c957-bb11-4598-82a7-a440471f1a52",
       "rows": [
        [
         "Gender",
         "0"
        ],
        [
         "Goal",
         "0"
        ],
        [
         "BMI Category",
         "0"
        ],
        [
         "Exercise Schedule",
         "0"
        ],
        [
         "Meal Plan",
         "0"
        ]
       ],
       "shape": {
        "columns": 1,
        "rows": 5
       }
      },
      "text/plain": [
       "Gender               0\n",
       "Goal                 0\n",
       "BMI Category         0\n",
       "Exercise Schedule    0\n",
       "Meal Plan            0\n",
       "dtype: int64"
      ]
     },
     "execution_count": 12,
     "metadata": {},
     "output_type": "execute_result"
    }
   ],
   "source": [
    "df2.isnull().sum()"
   ]
  },
  {
   "cell_type": "code",
   "execution_count": 13,
   "id": "5fcfc355",
   "metadata": {},
   "outputs": [
    {
     "data": {
      "application/vnd.microsoft.datawrangler.viewer.v0+json": {
       "columns": [
        {
         "name": "index",
         "rawType": "object",
         "type": "string"
        },
        {
         "name": "0",
         "rawType": "object",
         "type": "unknown"
        }
       ],
       "ref": "9d5dbe60-cfbe-47b5-9bcc-a2a823cc678d",
       "rows": [
        [
         "title",
         "object"
        ],
        [
         "description",
         "object"
        ],
        [
         "level",
         "object"
        ],
        [
         "goal",
         "object"
        ],
        [
         "equipment",
         "object"
        ],
        [
         "program_length",
         "float64"
        ],
        [
         "time_per_workout",
         "float64"
        ],
        [
         "total_exercises",
         "int64"
        ],
        [
         "created",
         "object"
        ],
        [
         "last_edit",
         "object"
        ]
       ],
       "shape": {
        "columns": 1,
        "rows": 10
       }
      },
      "text/plain": [
       "title                object\n",
       "description          object\n",
       "level                object\n",
       "goal                 object\n",
       "equipment            object\n",
       "program_length      float64\n",
       "time_per_workout    float64\n",
       "total_exercises       int64\n",
       "created              object\n",
       "last_edit            object\n",
       "dtype: object"
      ]
     },
     "execution_count": 13,
     "metadata": {},
     "output_type": "execute_result"
    }
   ],
   "source": [
    "df1.dtypes"
   ]
  },
  {
   "cell_type": "code",
   "execution_count": 15,
   "id": "f70b58c8",
   "metadata": {},
   "outputs": [
    {
     "data": {
      "application/vnd.microsoft.datawrangler.viewer.v0+json": {
       "columns": [
        {
         "name": "index",
         "rawType": "object",
         "type": "unknown"
        },
        {
         "name": "count",
         "rawType": "int64",
         "type": "integer"
        }
       ],
       "ref": "9caacf8a-b382-4f7d-9f24-6e57710c0925",
       "rows": [
        [
         "object",
         "7"
        ],
        [
         "float64",
         "2"
        ],
        [
         "int64",
         "1"
        ]
       ],
       "shape": {
        "columns": 1,
        "rows": 3
       }
      },
      "text/plain": [
       "object     7\n",
       "float64    2\n",
       "int64      1\n",
       "Name: count, dtype: int64"
      ]
     },
     "execution_count": 15,
     "metadata": {},
     "output_type": "execute_result"
    }
   ],
   "source": [
    "df1.dtypes.value_counts()"
   ]
  },
  {
   "cell_type": "code",
   "execution_count": 9,
   "id": "f31648e8",
   "metadata": {},
   "outputs": [
    {
     "data": {
      "text/plain": [
       "(20000, 54)"
      ]
     },
     "execution_count": 9,
     "metadata": {},
     "output_type": "execute_result"
    }
   ],
   "source": [
    "df3 = pd.read_csv(\"../data/Final_data.csv\")\n",
    "df3.shape"
   ]
  },
  {
   "cell_type": "code",
   "execution_count": 10,
   "id": "349d0daf",
   "metadata": {},
   "outputs": [
    {
     "data": {
      "text/plain": [
       "Index(['Age', 'Gender', 'Weight (kg)', 'Height (m)', 'Max_BPM', 'Avg_BPM',\n",
       "       'Resting_BPM', 'Session_Duration (hours)', 'Calories_Burned',\n",
       "       'Workout_Type', 'Fat_Percentage', 'Water_Intake (liters)',\n",
       "       'Workout_Frequency (days/week)', 'Experience_Level', 'BMI',\n",
       "       'Daily meals frequency', 'Physical exercise', 'Carbs', 'Proteins',\n",
       "       'Fats', 'Calories', 'meal_name', 'meal_type', 'diet_type', 'sugar_g',\n",
       "       'sodium_mg', 'cholesterol_mg', 'serving_size_g', 'cooking_method',\n",
       "       'prep_time_min', 'cook_time_min', 'rating', 'Name of Exercise', 'Sets',\n",
       "       'Reps', 'Benefit', 'Burns Calories (per 30 min)', 'Target Muscle Group',\n",
       "       'Equipment Needed', 'Difficulty Level', 'Body Part', 'Type of Muscle',\n",
       "       'Workout', 'BMI_calc', 'cal_from_macros', 'pct_carbs', 'protein_per_kg',\n",
       "       'pct_HRR', 'pct_maxHR', 'cal_balance', 'lean_mass_kg', 'expected_burn',\n",
       "       'Burns Calories (per 30 min)_bc', 'Burns_Calories_Bin'],\n",
       "      dtype='object')"
      ]
     },
     "execution_count": 10,
     "metadata": {},
     "output_type": "execute_result"
    }
   ],
   "source": [
    "df3.columns"
   ]
  },
  {
   "cell_type": "code",
   "execution_count": 11,
   "id": "3ddee19f",
   "metadata": {},
   "outputs": [
    {
     "data": {
      "text/plain": [
       "(20000, 53)"
      ]
     },
     "execution_count": 11,
     "metadata": {},
     "output_type": "execute_result"
    }
   ],
   "source": [
    "df4 = pd.read_csv(\"../data/Newdata.csv\")\n",
    "df4.shape"
   ]
  },
  {
   "cell_type": "code",
   "execution_count": 12,
   "id": "674fd7f4",
   "metadata": {},
   "outputs": [
    {
     "data": {
      "text/plain": [
       "Index(['Age', 'Gender', 'Weight (kg)', 'Height (m)', 'Max_BPM', 'Avg_BPM',\n",
       "       'Resting_BPM', 'Session_Duration (hours)', 'Calories_Burned',\n",
       "       'Workout_Type', 'Fat_Percentage', 'Water_Intake (liters)',\n",
       "       'Workout_Frequency (days/week)', 'Experience_Level', 'BMI',\n",
       "       'Daily meals frequency', 'Physical exercise', 'Carbs', 'Proteins',\n",
       "       'Fats', 'Calories', 'meal_name', 'meal_type', 'diet_type', 'sugar_g',\n",
       "       'sodium_mg', 'cholesterol_mg', 'serving_size_g', 'cooking_method',\n",
       "       'prep_time_min', 'cook_time_min', 'rating', 'is_healthy',\n",
       "       'Name of Exercise', 'Sets', 'Reps', 'Benefit',\n",
       "       'Burns Calories (per 30 min)', 'Target Muscle Group',\n",
       "       'Equipment Needed', 'Difficulty Level', 'Body Part', 'Type of Muscle',\n",
       "       'Workout', 'BMI_calc', 'cal_from_macros', 'pct_carbs', 'protein_per_kg',\n",
       "       'pct_HRR', 'pct_maxHR', 'cal_balance', 'lean_mass_kg', 'expected_burn'],\n",
       "      dtype='object')"
      ]
     },
     "execution_count": 12,
     "metadata": {},
     "output_type": "execute_result"
    }
   ],
   "source": [
    "df4.columns"
   ]
  },
  {
   "cell_type": "code",
   "execution_count": 13,
   "id": "0433d560",
   "metadata": {},
   "outputs": [
    {
     "data": {
      "application/vnd.microsoft.datawrangler.viewer.v0+json": {
       "columns": [
        {
         "name": "index",
         "rawType": "int64",
         "type": "integer"
        },
        {
         "name": "Age",
         "rawType": "float64",
         "type": "float"
        },
        {
         "name": "Gender",
         "rawType": "object",
         "type": "string"
        },
        {
         "name": "Weight (kg)",
         "rawType": "float64",
         "type": "float"
        },
        {
         "name": "Height (m)",
         "rawType": "float64",
         "type": "float"
        },
        {
         "name": "Max_BPM",
         "rawType": "float64",
         "type": "float"
        },
        {
         "name": "Avg_BPM",
         "rawType": "float64",
         "type": "float"
        },
        {
         "name": "Resting_BPM",
         "rawType": "float64",
         "type": "float"
        },
        {
         "name": "Session_Duration (hours)",
         "rawType": "float64",
         "type": "float"
        },
        {
         "name": "Calories_Burned",
         "rawType": "float64",
         "type": "float"
        },
        {
         "name": "Workout_Type",
         "rawType": "object",
         "type": "string"
        },
        {
         "name": "Fat_Percentage",
         "rawType": "float64",
         "type": "float"
        },
        {
         "name": "Water_Intake (liters)",
         "rawType": "float64",
         "type": "float"
        },
        {
         "name": "Workout_Frequency (days/week)",
         "rawType": "float64",
         "type": "float"
        },
        {
         "name": "Experience_Level",
         "rawType": "float64",
         "type": "float"
        },
        {
         "name": "BMI",
         "rawType": "float64",
         "type": "float"
        },
        {
         "name": "Daily meals frequency",
         "rawType": "float64",
         "type": "float"
        },
        {
         "name": "Physical exercise",
         "rawType": "float64",
         "type": "float"
        },
        {
         "name": "Carbs",
         "rawType": "float64",
         "type": "float"
        },
        {
         "name": "Proteins",
         "rawType": "float64",
         "type": "float"
        },
        {
         "name": "Fats",
         "rawType": "float64",
         "type": "float"
        },
        {
         "name": "Calories",
         "rawType": "float64",
         "type": "float"
        },
        {
         "name": "meal_name",
         "rawType": "object",
         "type": "string"
        },
        {
         "name": "meal_type",
         "rawType": "object",
         "type": "string"
        },
        {
         "name": "diet_type",
         "rawType": "object",
         "type": "string"
        },
        {
         "name": "sugar_g",
         "rawType": "float64",
         "type": "float"
        },
        {
         "name": "sodium_mg",
         "rawType": "float64",
         "type": "float"
        },
        {
         "name": "cholesterol_mg",
         "rawType": "float64",
         "type": "float"
        },
        {
         "name": "serving_size_g",
         "rawType": "float64",
         "type": "float"
        },
        {
         "name": "cooking_method",
         "rawType": "object",
         "type": "string"
        },
        {
         "name": "prep_time_min",
         "rawType": "float64",
         "type": "float"
        },
        {
         "name": "cook_time_min",
         "rawType": "float64",
         "type": "float"
        },
        {
         "name": "rating",
         "rawType": "float64",
         "type": "float"
        },
        {
         "name": "Name of Exercise",
         "rawType": "object",
         "type": "string"
        },
        {
         "name": "Sets",
         "rawType": "float64",
         "type": "float"
        },
        {
         "name": "Reps",
         "rawType": "float64",
         "type": "float"
        },
        {
         "name": "Benefit",
         "rawType": "object",
         "type": "string"
        },
        {
         "name": "Burns Calories (per 30 min)",
         "rawType": "float64",
         "type": "float"
        },
        {
         "name": "Target Muscle Group",
         "rawType": "object",
         "type": "string"
        },
        {
         "name": "Equipment Needed",
         "rawType": "object",
         "type": "string"
        },
        {
         "name": "Difficulty Level",
         "rawType": "object",
         "type": "string"
        },
        {
         "name": "Body Part",
         "rawType": "object",
         "type": "string"
        },
        {
         "name": "Type of Muscle",
         "rawType": "object",
         "type": "string"
        },
        {
         "name": "Workout",
         "rawType": "object",
         "type": "string"
        },
        {
         "name": "BMI_calc",
         "rawType": "float64",
         "type": "float"
        },
        {
         "name": "cal_from_macros",
         "rawType": "float64",
         "type": "float"
        },
        {
         "name": "pct_carbs",
         "rawType": "float64",
         "type": "float"
        },
        {
         "name": "protein_per_kg",
         "rawType": "float64",
         "type": "float"
        },
        {
         "name": "pct_HRR",
         "rawType": "float64",
         "type": "float"
        },
        {
         "name": "pct_maxHR",
         "rawType": "float64",
         "type": "float"
        },
        {
         "name": "cal_balance",
         "rawType": "float64",
         "type": "float"
        },
        {
         "name": "lean_mass_kg",
         "rawType": "float64",
         "type": "float"
        },
        {
         "name": "expected_burn",
         "rawType": "float64",
         "type": "float"
        },
        {
         "name": "Burns Calories (per 30 min)_bc",
         "rawType": "float64",
         "type": "float"
        },
        {
         "name": "Burns_Calories_Bin",
         "rawType": "object",
         "type": "string"
        }
       ],
       "ref": "a167c88e-756a-4367-9825-479a718963ff",
       "rows": [
        [
         "0",
         "34.91",
         "Male",
         "65.27",
         "1.62",
         "188.58",
         "157.65",
         "69.05",
         "1.0",
         "1080.9",
         "Strength",
         "26.800377179186803",
         "1.5",
         "3.99",
         "2.01",
         "24.87",
         "2.99",
         "0.01",
         "267.68",
         "106.05",
         "71.63",
         "1806.0",
         "Other",
         "Lunch",
         "Vegan",
         "31.77",
         "1729.94",
         "285.05",
         "120.47",
         "Grilled",
         "16.24",
         "110.79",
         "1.31",
         "Decline Push-ups",
         "4.99",
         "20.91",
         "Improves shoulder health and posture",
         "342.58",
         "Shoulders, Triceps",
         "Cable Machine",
         "Advanced",
         "Legs",
         "Lats",
         "Dumbbell flyes",
         "24.8704465782655",
         "2139.59",
         "0.5004323258194326",
         "1.624789336601808",
         "0.7412365096628462",
         "0.8359847279669106",
         "725.0999999999999",
         "47.77739381514478",
         "685.16",
         "7.260425438142023e+19",
         "Medium"
        ],
        [
         "1",
         "23.37",
         "Female",
         "56.41",
         "1.55",
         "179.43",
         "131.75",
         "73.18",
         "1.37",
         "1809.91",
         "HIIT",
         "27.65502094955822",
         "1.9",
         "4.0",
         "2.01",
         "23.48",
         "3.01",
         "0.97",
         "214.32",
         "85.41",
         "56.97",
         "1577.0",
         "Other",
         "Lunch",
         "Vegetarian",
         "12.34",
         "693.08",
         "300.61",
         "109.15",
         "Fried",
         "16.47",
         "12.01",
         "1.92",
         "Bear Crawls",
         "4.01",
         "16.15",
         "Strengthens lower abs",
         "357.16",
         "Back, Core, Shoulders",
         "Step or Box",
         "Intermediate",
         "Chest",
         "Lats",
         "Lateral raises",
         "23.479708636836623",
         "1711.65",
         "0.5008500569625799",
         "1.5140932458783904",
         "0.5512470588235293",
         "0.7342696316112133",
         "-232.91000000000008",
         "40.8098026823542",
         "978.6184000000002",
         "1.02050570044361e+20",
         "High"
        ],
        [
         "2",
         "33.2",
         "Female",
         "58.98",
         "1.67",
         "175.04",
         "123.95",
         "54.96",
         "0.91",
         "802.26",
         "Cardio",
         "24.32082112410528",
         "1.88",
         "2.99",
         "1.02",
         "21.15",
         "1.99",
         "-0.02",
         "246.04",
         "98.11",
         "65.48",
         "1608.0",
         "Other",
         "Breakfast",
         "Paleo",
         "42.81",
         "2142.48",
         "215.42",
         "399.43",
         "Boiled",
         "54.35",
         "6.09",
         "4.7",
         "Dips",
         "5.0",
         "21.9",
         "Builds chest strength",
         "359.63",
         "Quadriceps, Glutes",
         "Step or Box",
         "Intermediate",
         "Arms",
         "Grip Strength",
         "Standing calf raises",
         "21.148122915844954",
         "1965.92",
         "0.5006104012370798",
         "1.6634452356731095",
         "0.5745336442371753",
         "0.708123857404022",
         "805.74",
         "44.63557970100271",
         "654.5266",
         "1.0796070881410969e+20",
         "High"
        ],
        [
         "3",
         "38.69",
         "Female",
         "93.78",
         "1.7",
         "191.21",
         "155.1",
         "50.07",
         "1.1",
         "1450.79",
         "HIIT",
         "32.81357178608907",
         "2.5",
         "3.99",
         "1.99",
         "32.45",
         "3.0",
         "0.04",
         "203.22",
         "80.84",
         "54.56",
         "2657.0",
         "Other",
         "Lunch",
         "Paleo",
         "9.34",
         "123.2",
         "9.7",
         "314.31",
         "Fried",
         "27.73",
         "103.72",
         "4.85",
         "Mountain Climbers",
         "4.01",
         "16.92",
         "Improves coordination and cardiovascular health",
         "351.65",
         "Biceps, Forearms",
         "Parallel Bars or Chair",
         "Advanced",
         "Shoulders",
         "Upper",
         "Incline dumbbell flyes",
         "32.44982698961938",
         "1627.28",
         "0.499532962981171",
         "0.8620174877372574",
         "0.7441547399744933",
         "0.811150044453742",
         "1206.21",
         "63.00743237900567",
         "773.63",
         "8.987921156899057e+19",
         "High"
        ],
        [
         "4",
         "45.09",
         "Male",
         "52.42",
         "1.88",
         "193.58",
         "152.88",
         "70.84",
         "1.08",
         "1166.4",
         "Strength",
         "17.307318603384633",
         "2.91",
         "4.0",
         "2.0",
         "14.83",
         "3.0",
         "3.0",
         "332.79",
         "133.05",
         "88.43",
         "1470.0",
         "Other",
         "Breakfast",
         "Vegan",
         "23.78",
         "1935.11",
         "116.89",
         "99.22",
         "Baked",
         "34.16",
         "46.55",
         "3.07",
         "Bicep Curls",
         "4.99",
         "15.01",
         "Targets obliques and improves core rotation",
         "329.36",
         "Chest, Triceps",
         "Wall",
         "Advanced",
         "Abs",
         "Wrist Flexors",
         "Military press",
         "14.831371661385244",
         "2659.2300000000005",
         "0.5005809952505048",
         "2.538153376573827",
         "0.6684047580250936",
         "0.7897510073354684",
         "303.5999999999999",
         "43.34750358810577",
         "711.4176000000001",
         "5.264684819918977e+19",
         "Low"
        ]
       ],
       "shape": {
        "columns": 54,
        "rows": 5
       }
      },
      "text/html": [
       "<div>\n",
       "<style scoped>\n",
       "    .dataframe tbody tr th:only-of-type {\n",
       "        vertical-align: middle;\n",
       "    }\n",
       "\n",
       "    .dataframe tbody tr th {\n",
       "        vertical-align: top;\n",
       "    }\n",
       "\n",
       "    .dataframe thead th {\n",
       "        text-align: right;\n",
       "    }\n",
       "</style>\n",
       "<table border=\"1\" class=\"dataframe\">\n",
       "  <thead>\n",
       "    <tr style=\"text-align: right;\">\n",
       "      <th></th>\n",
       "      <th>Age</th>\n",
       "      <th>Gender</th>\n",
       "      <th>Weight (kg)</th>\n",
       "      <th>Height (m)</th>\n",
       "      <th>Max_BPM</th>\n",
       "      <th>Avg_BPM</th>\n",
       "      <th>Resting_BPM</th>\n",
       "      <th>Session_Duration (hours)</th>\n",
       "      <th>Calories_Burned</th>\n",
       "      <th>Workout_Type</th>\n",
       "      <th>...</th>\n",
       "      <th>cal_from_macros</th>\n",
       "      <th>pct_carbs</th>\n",
       "      <th>protein_per_kg</th>\n",
       "      <th>pct_HRR</th>\n",
       "      <th>pct_maxHR</th>\n",
       "      <th>cal_balance</th>\n",
       "      <th>lean_mass_kg</th>\n",
       "      <th>expected_burn</th>\n",
       "      <th>Burns Calories (per 30 min)_bc</th>\n",
       "      <th>Burns_Calories_Bin</th>\n",
       "    </tr>\n",
       "  </thead>\n",
       "  <tbody>\n",
       "    <tr>\n",
       "      <th>0</th>\n",
       "      <td>34.91</td>\n",
       "      <td>Male</td>\n",
       "      <td>65.27</td>\n",
       "      <td>1.62</td>\n",
       "      <td>188.58</td>\n",
       "      <td>157.65</td>\n",
       "      <td>69.05</td>\n",
       "      <td>1.00</td>\n",
       "      <td>1080.90</td>\n",
       "      <td>Strength</td>\n",
       "      <td>...</td>\n",
       "      <td>2139.59</td>\n",
       "      <td>0.500432</td>\n",
       "      <td>1.624789</td>\n",
       "      <td>0.741237</td>\n",
       "      <td>0.835985</td>\n",
       "      <td>725.10</td>\n",
       "      <td>47.777394</td>\n",
       "      <td>685.1600</td>\n",
       "      <td>7.260425e+19</td>\n",
       "      <td>Medium</td>\n",
       "    </tr>\n",
       "    <tr>\n",
       "      <th>1</th>\n",
       "      <td>23.37</td>\n",
       "      <td>Female</td>\n",
       "      <td>56.41</td>\n",
       "      <td>1.55</td>\n",
       "      <td>179.43</td>\n",
       "      <td>131.75</td>\n",
       "      <td>73.18</td>\n",
       "      <td>1.37</td>\n",
       "      <td>1809.91</td>\n",
       "      <td>HIIT</td>\n",
       "      <td>...</td>\n",
       "      <td>1711.65</td>\n",
       "      <td>0.500850</td>\n",
       "      <td>1.514093</td>\n",
       "      <td>0.551247</td>\n",
       "      <td>0.734270</td>\n",
       "      <td>-232.91</td>\n",
       "      <td>40.809803</td>\n",
       "      <td>978.6184</td>\n",
       "      <td>1.020506e+20</td>\n",
       "      <td>High</td>\n",
       "    </tr>\n",
       "    <tr>\n",
       "      <th>2</th>\n",
       "      <td>33.20</td>\n",
       "      <td>Female</td>\n",
       "      <td>58.98</td>\n",
       "      <td>1.67</td>\n",
       "      <td>175.04</td>\n",
       "      <td>123.95</td>\n",
       "      <td>54.96</td>\n",
       "      <td>0.91</td>\n",
       "      <td>802.26</td>\n",
       "      <td>Cardio</td>\n",
       "      <td>...</td>\n",
       "      <td>1965.92</td>\n",
       "      <td>0.500610</td>\n",
       "      <td>1.663445</td>\n",
       "      <td>0.574534</td>\n",
       "      <td>0.708124</td>\n",
       "      <td>805.74</td>\n",
       "      <td>44.635580</td>\n",
       "      <td>654.5266</td>\n",
       "      <td>1.079607e+20</td>\n",
       "      <td>High</td>\n",
       "    </tr>\n",
       "    <tr>\n",
       "      <th>3</th>\n",
       "      <td>38.69</td>\n",
       "      <td>Female</td>\n",
       "      <td>93.78</td>\n",
       "      <td>1.70</td>\n",
       "      <td>191.21</td>\n",
       "      <td>155.10</td>\n",
       "      <td>50.07</td>\n",
       "      <td>1.10</td>\n",
       "      <td>1450.79</td>\n",
       "      <td>HIIT</td>\n",
       "      <td>...</td>\n",
       "      <td>1627.28</td>\n",
       "      <td>0.499533</td>\n",
       "      <td>0.862017</td>\n",
       "      <td>0.744155</td>\n",
       "      <td>0.811150</td>\n",
       "      <td>1206.21</td>\n",
       "      <td>63.007432</td>\n",
       "      <td>773.6300</td>\n",
       "      <td>8.987921e+19</td>\n",
       "      <td>High</td>\n",
       "    </tr>\n",
       "    <tr>\n",
       "      <th>4</th>\n",
       "      <td>45.09</td>\n",
       "      <td>Male</td>\n",
       "      <td>52.42</td>\n",
       "      <td>1.88</td>\n",
       "      <td>193.58</td>\n",
       "      <td>152.88</td>\n",
       "      <td>70.84</td>\n",
       "      <td>1.08</td>\n",
       "      <td>1166.40</td>\n",
       "      <td>Strength</td>\n",
       "      <td>...</td>\n",
       "      <td>2659.23</td>\n",
       "      <td>0.500581</td>\n",
       "      <td>2.538153</td>\n",
       "      <td>0.668405</td>\n",
       "      <td>0.789751</td>\n",
       "      <td>303.60</td>\n",
       "      <td>43.347504</td>\n",
       "      <td>711.4176</td>\n",
       "      <td>5.264685e+19</td>\n",
       "      <td>Low</td>\n",
       "    </tr>\n",
       "  </tbody>\n",
       "</table>\n",
       "<p>5 rows × 54 columns</p>\n",
       "</div>"
      ],
      "text/plain": [
       "     Age  Gender  Weight (kg)  Height (m)  Max_BPM  Avg_BPM  Resting_BPM  \\\n",
       "0  34.91    Male        65.27        1.62   188.58   157.65        69.05   \n",
       "1  23.37  Female        56.41        1.55   179.43   131.75        73.18   \n",
       "2  33.20  Female        58.98        1.67   175.04   123.95        54.96   \n",
       "3  38.69  Female        93.78        1.70   191.21   155.10        50.07   \n",
       "4  45.09    Male        52.42        1.88   193.58   152.88        70.84   \n",
       "\n",
       "   Session_Duration (hours)  Calories_Burned Workout_Type  ...  \\\n",
       "0                      1.00          1080.90     Strength  ...   \n",
       "1                      1.37          1809.91         HIIT  ...   \n",
       "2                      0.91           802.26       Cardio  ...   \n",
       "3                      1.10          1450.79         HIIT  ...   \n",
       "4                      1.08          1166.40     Strength  ...   \n",
       "\n",
       "   cal_from_macros  pct_carbs  protein_per_kg   pct_HRR  pct_maxHR  \\\n",
       "0          2139.59   0.500432        1.624789  0.741237   0.835985   \n",
       "1          1711.65   0.500850        1.514093  0.551247   0.734270   \n",
       "2          1965.92   0.500610        1.663445  0.574534   0.708124   \n",
       "3          1627.28   0.499533        0.862017  0.744155   0.811150   \n",
       "4          2659.23   0.500581        2.538153  0.668405   0.789751   \n",
       "\n",
       "   cal_balance  lean_mass_kg  expected_burn  Burns Calories (per 30 min)_bc  \\\n",
       "0       725.10     47.777394       685.1600                    7.260425e+19   \n",
       "1      -232.91     40.809803       978.6184                    1.020506e+20   \n",
       "2       805.74     44.635580       654.5266                    1.079607e+20   \n",
       "3      1206.21     63.007432       773.6300                    8.987921e+19   \n",
       "4       303.60     43.347504       711.4176                    5.264685e+19   \n",
       "\n",
       "   Burns_Calories_Bin  \n",
       "0              Medium  \n",
       "1                High  \n",
       "2                High  \n",
       "3                High  \n",
       "4                 Low  \n",
       "\n",
       "[5 rows x 54 columns]"
      ]
     },
     "execution_count": 13,
     "metadata": {},
     "output_type": "execute_result"
    }
   ],
   "source": [
    "df3.head()"
   ]
  },
  {
   "cell_type": "code",
   "execution_count": 14,
   "id": "9ce96b6d",
   "metadata": {},
   "outputs": [
    {
     "data": {
      "application/vnd.microsoft.datawrangler.viewer.v0+json": {
       "columns": [
        {
         "name": "index",
         "rawType": "int64",
         "type": "integer"
        },
        {
         "name": "Age",
         "rawType": "float64",
         "type": "float"
        },
        {
         "name": "Gender",
         "rawType": "object",
         "type": "string"
        },
        {
         "name": "Weight (kg)",
         "rawType": "float64",
         "type": "float"
        },
        {
         "name": "Height (m)",
         "rawType": "float64",
         "type": "float"
        },
        {
         "name": "Max_BPM",
         "rawType": "float64",
         "type": "float"
        },
        {
         "name": "Avg_BPM",
         "rawType": "float64",
         "type": "float"
        },
        {
         "name": "Resting_BPM",
         "rawType": "float64",
         "type": "float"
        },
        {
         "name": "Session_Duration (hours)",
         "rawType": "float64",
         "type": "float"
        },
        {
         "name": "Calories_Burned",
         "rawType": "float64",
         "type": "float"
        },
        {
         "name": "Workout_Type",
         "rawType": "object",
         "type": "string"
        },
        {
         "name": "Fat_Percentage",
         "rawType": "float64",
         "type": "float"
        },
        {
         "name": "Water_Intake (liters)",
         "rawType": "float64",
         "type": "float"
        },
        {
         "name": "Workout_Frequency (days/week)",
         "rawType": "float64",
         "type": "float"
        },
        {
         "name": "Experience_Level",
         "rawType": "float64",
         "type": "float"
        },
        {
         "name": "BMI",
         "rawType": "float64",
         "type": "float"
        },
        {
         "name": "Daily meals frequency",
         "rawType": "float64",
         "type": "float"
        },
        {
         "name": "Physical exercise",
         "rawType": "float64",
         "type": "float"
        },
        {
         "name": "Carbs",
         "rawType": "float64",
         "type": "float"
        },
        {
         "name": "Proteins",
         "rawType": "float64",
         "type": "float"
        },
        {
         "name": "Fats",
         "rawType": "float64",
         "type": "float"
        },
        {
         "name": "Calories",
         "rawType": "float64",
         "type": "float"
        },
        {
         "name": "meal_name",
         "rawType": "object",
         "type": "string"
        },
        {
         "name": "meal_type",
         "rawType": "object",
         "type": "string"
        },
        {
         "name": "diet_type",
         "rawType": "object",
         "type": "string"
        },
        {
         "name": "sugar_g",
         "rawType": "float64",
         "type": "float"
        },
        {
         "name": "sodium_mg",
         "rawType": "float64",
         "type": "float"
        },
        {
         "name": "cholesterol_mg",
         "rawType": "float64",
         "type": "float"
        },
        {
         "name": "serving_size_g",
         "rawType": "float64",
         "type": "float"
        },
        {
         "name": "cooking_method",
         "rawType": "object",
         "type": "string"
        },
        {
         "name": "prep_time_min",
         "rawType": "float64",
         "type": "float"
        },
        {
         "name": "cook_time_min",
         "rawType": "float64",
         "type": "float"
        },
        {
         "name": "rating",
         "rawType": "float64",
         "type": "float"
        },
        {
         "name": "is_healthy",
         "rawType": "float64",
         "type": "float"
        },
        {
         "name": "Name of Exercise",
         "rawType": "object",
         "type": "string"
        },
        {
         "name": "Sets",
         "rawType": "float64",
         "type": "float"
        },
        {
         "name": "Reps",
         "rawType": "float64",
         "type": "float"
        },
        {
         "name": "Benefit",
         "rawType": "object",
         "type": "string"
        },
        {
         "name": "Burns Calories (per 30 min)",
         "rawType": "float64",
         "type": "float"
        },
        {
         "name": "Target Muscle Group",
         "rawType": "object",
         "type": "string"
        },
        {
         "name": "Equipment Needed",
         "rawType": "object",
         "type": "string"
        },
        {
         "name": "Difficulty Level",
         "rawType": "object",
         "type": "string"
        },
        {
         "name": "Body Part",
         "rawType": "object",
         "type": "string"
        },
        {
         "name": "Type of Muscle",
         "rawType": "object",
         "type": "string"
        },
        {
         "name": "Workout",
         "rawType": "object",
         "type": "string"
        },
        {
         "name": "BMI_calc",
         "rawType": "float64",
         "type": "float"
        },
        {
         "name": "cal_from_macros",
         "rawType": "float64",
         "type": "float"
        },
        {
         "name": "pct_carbs",
         "rawType": "float64",
         "type": "float"
        },
        {
         "name": "protein_per_kg",
         "rawType": "float64",
         "type": "float"
        },
        {
         "name": "pct_HRR",
         "rawType": "float64",
         "type": "float"
        },
        {
         "name": "pct_maxHR",
         "rawType": "float64",
         "type": "float"
        },
        {
         "name": "cal_balance",
         "rawType": "float64",
         "type": "float"
        },
        {
         "name": "lean_mass_kg",
         "rawType": "float64",
         "type": "float"
        },
        {
         "name": "expected_burn",
         "rawType": "float64",
         "type": "float"
        }
       ],
       "ref": "05ca6dd8-e007-4012-ae30-6142228aee52",
       "rows": [
        [
         "0",
         "34.91",
         "Male",
         "65.27",
         "1.62",
         "188.58",
         "157.65",
         "69.05",
         "1.0",
         "1080.9",
         "Strength",
         "26.800377179186803",
         "1.5",
         "3.99",
         "2.01",
         "24.87",
         "2.99",
         "0.01",
         "267.68",
         "106.05",
         "71.63",
         "1806.0",
         "Affect Stew",
         "Lunch",
         "Vegan",
         "31.77",
         "1729.94",
         "285.05",
         "120.47",
         "Grilled",
         "16.24",
         "110.79",
         "1.31",
         "-0.0",
         "Decline Push-ups",
         "4.99",
         "20.91",
         "Improves shoulder health and posture",
         "342.58",
         "Shoulders, Triceps",
         "Cable Machine",
         "Advanced",
         "Legs",
         "Lats",
         "Dumbbell flyes",
         "24.8704465782655",
         "2139.59",
         "0.5004323258194326",
         "1.624789336601808",
         "0.7412365096628462",
         "0.8359847279669106",
         "725.0999999999999",
         "47.77739381514478",
         "685.16"
        ],
        [
         "1",
         "23.37",
         "Female",
         "56.41",
         "1.55",
         "179.43",
         "131.75",
         "73.18",
         "1.37",
         "1809.91",
         "HIIT",
         "27.65502094955822",
         "1.9",
         "4.0",
         "2.01",
         "23.48",
         "3.01",
         "0.97",
         "214.32",
         "85.41",
         "56.97",
         "1577.0",
         "Writer Rice",
         "Lunch",
         "Vegetarian",
         "12.34",
         "693.08",
         "300.61",
         "109.15",
         "Fried",
         "16.47",
         "12.01",
         "1.92",
         "0.01",
         "Bear Crawls",
         "4.01",
         "16.15",
         "Strengthens lower abs",
         "357.16",
         "Back, Core, Shoulders",
         "Step or Box",
         "Intermediate",
         "Chest",
         "Lats",
         "Lateral raises",
         "23.479708636836623",
         "1711.65",
         "0.5008500569625799",
         "1.5140932458783904",
         "0.5512470588235293",
         "0.7342696316112133",
         "-232.91000000000008",
         "40.8098026823542",
         "978.6184000000002"
        ],
        [
         "2",
         "33.2",
         "Female",
         "58.98",
         "1.67",
         "175.04",
         "123.95",
         "54.96",
         "0.91",
         "802.26",
         "Cardio",
         "24.32082112410528",
         "1.88",
         "2.99",
         "1.02",
         "21.15",
         "1.99",
         "-0.02",
         "246.04",
         "98.11",
         "65.48",
         "1608.0",
         "Television Stew",
         "Breakfast",
         "Paleo",
         "42.81",
         "2142.48",
         "215.42",
         "399.43",
         "Boiled",
         "54.35",
         "6.09",
         "4.7",
         "0.0",
         "Dips",
         "5.0",
         "21.9",
         "Builds chest strength",
         "359.63",
         "Quadriceps, Glutes",
         "Step or Box",
         "Intermediate",
         "Arms",
         "Grip Strength",
         "Standing calf raises",
         "21.148122915844954",
         "1965.92",
         "0.5006104012370798",
         "1.6634452356731095",
         "0.5745336442371753",
         "0.708123857404022",
         "805.74",
         "44.63557970100271",
         "654.5266"
        ],
        [
         "3",
         "38.69",
         "Female",
         "93.78",
         "1.7",
         "191.21",
         "155.1",
         "50.07",
         "1.1",
         "1450.79",
         "HIIT",
         "32.81357178608907",
         "2.5",
         "3.99",
         "1.99",
         "32.45",
         "3.0",
         "0.04",
         "203.22",
         "80.84",
         "54.56",
         "2657.0",
         "Plant Curry",
         "Lunch",
         "Paleo",
         "9.34",
         "123.2",
         "9.7",
         "314.31",
         "Fried",
         "27.73",
         "103.72",
         "4.85",
         "0.01",
         "Mountain Climbers",
         "4.01",
         "16.92",
         "Improves coordination and cardiovascular health",
         "351.65",
         "Biceps, Forearms",
         "Parallel Bars or Chair",
         "Advanced",
         "Shoulders",
         "Upper",
         "Incline dumbbell flyes",
         "32.44982698961938",
         "1627.28",
         "0.499532962981171",
         "0.8620174877372574",
         "0.7441547399744933",
         "0.811150044453742",
         "1206.21",
         "63.00743237900567",
         "773.63"
        ],
        [
         "4",
         "45.09",
         "Male",
         "52.42",
         "1.88",
         "193.58",
         "152.88",
         "70.84",
         "1.08",
         "1166.4",
         "Strength",
         "17.307318603384633",
         "2.91",
         "4.0",
         "2.0",
         "14.83",
         "3.0",
         "3.0",
         "332.79",
         "133.05",
         "88.43",
         "1470.0",
         "Her Stew",
         "Breakfast",
         "Vegan",
         "23.78",
         "1935.11",
         "116.89",
         "99.22",
         "Baked",
         "34.16",
         "46.55",
         "3.07",
         "0.01",
         "Bicep Curls",
         "4.99",
         "15.01",
         "Targets obliques and improves core rotation",
         "329.36",
         "Chest, Triceps",
         "Wall",
         "Advanced",
         "Abs",
         "Wrist Flexors",
         "Military press",
         "14.831371661385244",
         "2659.2300000000005",
         "0.5005809952505048",
         "2.538153376573827",
         "0.6684047580250936",
         "0.7897510073354684",
         "303.5999999999999",
         "43.34750358810577",
         "711.4176000000001"
        ]
       ],
       "shape": {
        "columns": 53,
        "rows": 5
       }
      },
      "text/html": [
       "<div>\n",
       "<style scoped>\n",
       "    .dataframe tbody tr th:only-of-type {\n",
       "        vertical-align: middle;\n",
       "    }\n",
       "\n",
       "    .dataframe tbody tr th {\n",
       "        vertical-align: top;\n",
       "    }\n",
       "\n",
       "    .dataframe thead th {\n",
       "        text-align: right;\n",
       "    }\n",
       "</style>\n",
       "<table border=\"1\" class=\"dataframe\">\n",
       "  <thead>\n",
       "    <tr style=\"text-align: right;\">\n",
       "      <th></th>\n",
       "      <th>Age</th>\n",
       "      <th>Gender</th>\n",
       "      <th>Weight (kg)</th>\n",
       "      <th>Height (m)</th>\n",
       "      <th>Max_BPM</th>\n",
       "      <th>Avg_BPM</th>\n",
       "      <th>Resting_BPM</th>\n",
       "      <th>Session_Duration (hours)</th>\n",
       "      <th>Calories_Burned</th>\n",
       "      <th>Workout_Type</th>\n",
       "      <th>...</th>\n",
       "      <th>Workout</th>\n",
       "      <th>BMI_calc</th>\n",
       "      <th>cal_from_macros</th>\n",
       "      <th>pct_carbs</th>\n",
       "      <th>protein_per_kg</th>\n",
       "      <th>pct_HRR</th>\n",
       "      <th>pct_maxHR</th>\n",
       "      <th>cal_balance</th>\n",
       "      <th>lean_mass_kg</th>\n",
       "      <th>expected_burn</th>\n",
       "    </tr>\n",
       "  </thead>\n",
       "  <tbody>\n",
       "    <tr>\n",
       "      <th>0</th>\n",
       "      <td>34.91</td>\n",
       "      <td>Male</td>\n",
       "      <td>65.27</td>\n",
       "      <td>1.62</td>\n",
       "      <td>188.58</td>\n",
       "      <td>157.65</td>\n",
       "      <td>69.05</td>\n",
       "      <td>1.00</td>\n",
       "      <td>1080.90</td>\n",
       "      <td>Strength</td>\n",
       "      <td>...</td>\n",
       "      <td>Dumbbell flyes</td>\n",
       "      <td>24.870447</td>\n",
       "      <td>2139.59</td>\n",
       "      <td>0.500432</td>\n",
       "      <td>1.624789</td>\n",
       "      <td>0.741237</td>\n",
       "      <td>0.835985</td>\n",
       "      <td>725.10</td>\n",
       "      <td>47.777394</td>\n",
       "      <td>685.1600</td>\n",
       "    </tr>\n",
       "    <tr>\n",
       "      <th>1</th>\n",
       "      <td>23.37</td>\n",
       "      <td>Female</td>\n",
       "      <td>56.41</td>\n",
       "      <td>1.55</td>\n",
       "      <td>179.43</td>\n",
       "      <td>131.75</td>\n",
       "      <td>73.18</td>\n",
       "      <td>1.37</td>\n",
       "      <td>1809.91</td>\n",
       "      <td>HIIT</td>\n",
       "      <td>...</td>\n",
       "      <td>Lateral raises</td>\n",
       "      <td>23.479709</td>\n",
       "      <td>1711.65</td>\n",
       "      <td>0.500850</td>\n",
       "      <td>1.514093</td>\n",
       "      <td>0.551247</td>\n",
       "      <td>0.734270</td>\n",
       "      <td>-232.91</td>\n",
       "      <td>40.809803</td>\n",
       "      <td>978.6184</td>\n",
       "    </tr>\n",
       "    <tr>\n",
       "      <th>2</th>\n",
       "      <td>33.20</td>\n",
       "      <td>Female</td>\n",
       "      <td>58.98</td>\n",
       "      <td>1.67</td>\n",
       "      <td>175.04</td>\n",
       "      <td>123.95</td>\n",
       "      <td>54.96</td>\n",
       "      <td>0.91</td>\n",
       "      <td>802.26</td>\n",
       "      <td>Cardio</td>\n",
       "      <td>...</td>\n",
       "      <td>Standing calf raises</td>\n",
       "      <td>21.148123</td>\n",
       "      <td>1965.92</td>\n",
       "      <td>0.500610</td>\n",
       "      <td>1.663445</td>\n",
       "      <td>0.574534</td>\n",
       "      <td>0.708124</td>\n",
       "      <td>805.74</td>\n",
       "      <td>44.635580</td>\n",
       "      <td>654.5266</td>\n",
       "    </tr>\n",
       "    <tr>\n",
       "      <th>3</th>\n",
       "      <td>38.69</td>\n",
       "      <td>Female</td>\n",
       "      <td>93.78</td>\n",
       "      <td>1.70</td>\n",
       "      <td>191.21</td>\n",
       "      <td>155.10</td>\n",
       "      <td>50.07</td>\n",
       "      <td>1.10</td>\n",
       "      <td>1450.79</td>\n",
       "      <td>HIIT</td>\n",
       "      <td>...</td>\n",
       "      <td>Incline dumbbell flyes</td>\n",
       "      <td>32.449827</td>\n",
       "      <td>1627.28</td>\n",
       "      <td>0.499533</td>\n",
       "      <td>0.862017</td>\n",
       "      <td>0.744155</td>\n",
       "      <td>0.811150</td>\n",
       "      <td>1206.21</td>\n",
       "      <td>63.007432</td>\n",
       "      <td>773.6300</td>\n",
       "    </tr>\n",
       "    <tr>\n",
       "      <th>4</th>\n",
       "      <td>45.09</td>\n",
       "      <td>Male</td>\n",
       "      <td>52.42</td>\n",
       "      <td>1.88</td>\n",
       "      <td>193.58</td>\n",
       "      <td>152.88</td>\n",
       "      <td>70.84</td>\n",
       "      <td>1.08</td>\n",
       "      <td>1166.40</td>\n",
       "      <td>Strength</td>\n",
       "      <td>...</td>\n",
       "      <td>Military press</td>\n",
       "      <td>14.831372</td>\n",
       "      <td>2659.23</td>\n",
       "      <td>0.500581</td>\n",
       "      <td>2.538153</td>\n",
       "      <td>0.668405</td>\n",
       "      <td>0.789751</td>\n",
       "      <td>303.60</td>\n",
       "      <td>43.347504</td>\n",
       "      <td>711.4176</td>\n",
       "    </tr>\n",
       "  </tbody>\n",
       "</table>\n",
       "<p>5 rows × 53 columns</p>\n",
       "</div>"
      ],
      "text/plain": [
       "     Age  Gender  Weight (kg)  Height (m)  Max_BPM  Avg_BPM  Resting_BPM  \\\n",
       "0  34.91    Male        65.27        1.62   188.58   157.65        69.05   \n",
       "1  23.37  Female        56.41        1.55   179.43   131.75        73.18   \n",
       "2  33.20  Female        58.98        1.67   175.04   123.95        54.96   \n",
       "3  38.69  Female        93.78        1.70   191.21   155.10        50.07   \n",
       "4  45.09    Male        52.42        1.88   193.58   152.88        70.84   \n",
       "\n",
       "   Session_Duration (hours)  Calories_Burned Workout_Type  ...  \\\n",
       "0                      1.00          1080.90     Strength  ...   \n",
       "1                      1.37          1809.91         HIIT  ...   \n",
       "2                      0.91           802.26       Cardio  ...   \n",
       "3                      1.10          1450.79         HIIT  ...   \n",
       "4                      1.08          1166.40     Strength  ...   \n",
       "\n",
       "                  Workout   BMI_calc  cal_from_macros  pct_carbs  \\\n",
       "0          Dumbbell flyes  24.870447          2139.59   0.500432   \n",
       "1          Lateral raises  23.479709          1711.65   0.500850   \n",
       "2    Standing calf raises  21.148123          1965.92   0.500610   \n",
       "3  Incline dumbbell flyes  32.449827          1627.28   0.499533   \n",
       "4          Military press  14.831372          2659.23   0.500581   \n",
       "\n",
       "   protein_per_kg   pct_HRR  pct_maxHR  cal_balance  lean_mass_kg  \\\n",
       "0        1.624789  0.741237   0.835985       725.10     47.777394   \n",
       "1        1.514093  0.551247   0.734270      -232.91     40.809803   \n",
       "2        1.663445  0.574534   0.708124       805.74     44.635580   \n",
       "3        0.862017  0.744155   0.811150      1206.21     63.007432   \n",
       "4        2.538153  0.668405   0.789751       303.60     43.347504   \n",
       "\n",
       "   expected_burn  \n",
       "0       685.1600  \n",
       "1       978.6184  \n",
       "2       654.5266  \n",
       "3       773.6300  \n",
       "4       711.4176  \n",
       "\n",
       "[5 rows x 53 columns]"
      ]
     },
     "execution_count": 14,
     "metadata": {},
     "output_type": "execute_result"
    }
   ],
   "source": [
    "df4.head()"
   ]
  },
  {
   "cell_type": "code",
   "execution_count": 15,
   "id": "06b258ee",
   "metadata": {},
   "outputs": [
    {
     "data": {
      "text/plain": [
       "((20000, 44),\n",
       " Index(['Age', 'Gender', 'Weight (kg)', 'Height (m)', 'Max_BPM', 'Avg_BPM',\n",
       "        'Resting_BPM', 'Session_Duration (hours)', 'Calories_Burned',\n",
       "        'Workout_Type', 'Fat_Percentage', 'Water_Intake (liters)',\n",
       "        'Workout_Frequency (days/week)', 'Experience_Level', 'BMI',\n",
       "        'Daily meals frequency', 'Physical exercise', 'Carbs', 'Proteins',\n",
       "        'Fats', 'Calories', 'meal_name', 'meal_type', 'diet_type', 'sugar_g',\n",
       "        'sodium_mg', 'cholesterol_mg', 'serving_size_g', 'cooking_method',\n",
       "        'prep_time_min', 'cook_time_min', 'rating', 'is_healthy',\n",
       "        'Name of Exercise', 'Sets', 'Reps', 'Benefit',\n",
       "        'Burns Calories (per 30 min)', 'Target Muscle Group',\n",
       "        'Equipment Needed', 'Difficulty Level', 'Body Part', 'Type of Muscle',\n",
       "        'Workout'],\n",
       "       dtype='object'))"
      ]
     },
     "execution_count": 15,
     "metadata": {},
     "output_type": "execute_result"
    }
   ],
   "source": [
    "df5 = pd.read_csv(\"../data/expanded_fitness_data.csv\")\n",
    "df5.shape, df5.columns"
   ]
  },
  {
   "cell_type": "code",
   "execution_count": 17,
   "id": "c53eadac",
   "metadata": {},
   "outputs": [
    {
     "data": {
      "text/plain": [
       "((500, 14),\n",
       " Index(['meal_name', 'num_ingredients', 'calories', 'prep_time', 'protein',\n",
       "        'fat', 'carbs', 'vegan', 'vegetarian', 'keto', 'paleo', 'gluten_free',\n",
       "        'mediterranean', 'is_healthy'],\n",
       "       dtype='object'))"
      ]
     },
     "execution_count": 17,
     "metadata": {},
     "output_type": "execute_result"
    }
   ],
   "source": [
    "meal = pd.read_csv(\"../data/healthy_meal_plans.csv\")\n",
    "meal.shape, meal.columns"
   ]
  },
  {
   "cell_type": "code",
   "execution_count": 18,
   "id": "775812e7",
   "metadata": {},
   "outputs": [
    {
     "data": {
      "application/vnd.microsoft.datawrangler.viewer.v0+json": {
       "columns": [
        {
         "name": "index",
         "rawType": "int64",
         "type": "integer"
        },
        {
         "name": "meal_name",
         "rawType": "object",
         "type": "string"
        },
        {
         "name": "num_ingredients",
         "rawType": "float64",
         "type": "float"
        },
        {
         "name": "calories",
         "rawType": "float64",
         "type": "float"
        },
        {
         "name": "prep_time",
         "rawType": "float64",
         "type": "float"
        },
        {
         "name": "protein",
         "rawType": "float64",
         "type": "float"
        },
        {
         "name": "fat",
         "rawType": "float64",
         "type": "float"
        },
        {
         "name": "carbs",
         "rawType": "float64",
         "type": "float"
        },
        {
         "name": "vegan",
         "rawType": "int64",
         "type": "integer"
        },
        {
         "name": "vegetarian",
         "rawType": "int64",
         "type": "integer"
        },
        {
         "name": "keto",
         "rawType": "int64",
         "type": "integer"
        },
        {
         "name": "paleo",
         "rawType": "int64",
         "type": "integer"
        },
        {
         "name": "gluten_free",
         "rawType": "int64",
         "type": "integer"
        },
        {
         "name": "mediterranean",
         "rawType": "int64",
         "type": "integer"
        },
        {
         "name": "is_healthy",
         "rawType": "int64",
         "type": "integer"
        }
       ],
       "ref": "98d9de81-a2a7-4ceb-b6d4-b2d25bb05e5a",
       "rows": [
        [
         "0",
         "Gluten-Free Pasta",
         "0.2727272727272727",
         "0.4909090909090909",
         "0.84",
         "0.7836791164816183",
         "0.5979073292293274",
         "0.4445718604904733",
         "0",
         "0",
         "0",
         "0",
         "1",
         "0",
         "1"
        ],
        [
         "1",
         "Grilled Salmon",
         "0.9090909090909092",
         "0.1581818181818181",
         "0.7",
         "0.1435880294901841",
         "0.6520815495218811",
         "0.0506091241647837",
         "0",
         "0",
         "1",
         "1",
         "1",
         "1",
         "0"
        ],
        [
         "2",
         "Lentil Soup",
         "0.4545454545454545",
         "0.7",
         "0.4",
         "0.6206374920193753",
         "0.6127475610288435",
         "0.0006883689503828",
         "0",
         "1",
         "0",
         "0",
         "0",
         "0",
         "0"
        ],
        [
         "3",
         "Chickpea Stew",
         "0.9090909090909092",
         "0.1054545454545454",
         "0.82",
         "0.0468933633740663",
         "0.9757605996296852",
         "0.2290256532339217",
         "1",
         "1",
         "0",
         "0",
         "0",
         "0",
         "0"
        ],
        [
         "4",
         "Turkey Lettuce Wraps",
         "0.1818181818181818",
         "0.4418181818181818",
         "0.04",
         "0.8643402019700046",
         "0.6815746035272576",
         "0.4492927819101209",
         "0",
         "0",
         "1",
         "1",
         "1",
         "1",
         "0"
        ]
       ],
       "shape": {
        "columns": 14,
        "rows": 5
       }
      },
      "text/html": [
       "<div>\n",
       "<style scoped>\n",
       "    .dataframe tbody tr th:only-of-type {\n",
       "        vertical-align: middle;\n",
       "    }\n",
       "\n",
       "    .dataframe tbody tr th {\n",
       "        vertical-align: top;\n",
       "    }\n",
       "\n",
       "    .dataframe thead th {\n",
       "        text-align: right;\n",
       "    }\n",
       "</style>\n",
       "<table border=\"1\" class=\"dataframe\">\n",
       "  <thead>\n",
       "    <tr style=\"text-align: right;\">\n",
       "      <th></th>\n",
       "      <th>meal_name</th>\n",
       "      <th>num_ingredients</th>\n",
       "      <th>calories</th>\n",
       "      <th>prep_time</th>\n",
       "      <th>protein</th>\n",
       "      <th>fat</th>\n",
       "      <th>carbs</th>\n",
       "      <th>vegan</th>\n",
       "      <th>vegetarian</th>\n",
       "      <th>keto</th>\n",
       "      <th>paleo</th>\n",
       "      <th>gluten_free</th>\n",
       "      <th>mediterranean</th>\n",
       "      <th>is_healthy</th>\n",
       "    </tr>\n",
       "  </thead>\n",
       "  <tbody>\n",
       "    <tr>\n",
       "      <th>0</th>\n",
       "      <td>Gluten-Free Pasta</td>\n",
       "      <td>0.272727</td>\n",
       "      <td>0.490909</td>\n",
       "      <td>0.84</td>\n",
       "      <td>0.783679</td>\n",
       "      <td>0.597907</td>\n",
       "      <td>0.444572</td>\n",
       "      <td>0</td>\n",
       "      <td>0</td>\n",
       "      <td>0</td>\n",
       "      <td>0</td>\n",
       "      <td>1</td>\n",
       "      <td>0</td>\n",
       "      <td>1</td>\n",
       "    </tr>\n",
       "    <tr>\n",
       "      <th>1</th>\n",
       "      <td>Grilled Salmon</td>\n",
       "      <td>0.909091</td>\n",
       "      <td>0.158182</td>\n",
       "      <td>0.70</td>\n",
       "      <td>0.143588</td>\n",
       "      <td>0.652082</td>\n",
       "      <td>0.050609</td>\n",
       "      <td>0</td>\n",
       "      <td>0</td>\n",
       "      <td>1</td>\n",
       "      <td>1</td>\n",
       "      <td>1</td>\n",
       "      <td>1</td>\n",
       "      <td>0</td>\n",
       "    </tr>\n",
       "    <tr>\n",
       "      <th>2</th>\n",
       "      <td>Lentil Soup</td>\n",
       "      <td>0.454545</td>\n",
       "      <td>0.700000</td>\n",
       "      <td>0.40</td>\n",
       "      <td>0.620637</td>\n",
       "      <td>0.612748</td>\n",
       "      <td>0.000688</td>\n",
       "      <td>0</td>\n",
       "      <td>1</td>\n",
       "      <td>0</td>\n",
       "      <td>0</td>\n",
       "      <td>0</td>\n",
       "      <td>0</td>\n",
       "      <td>0</td>\n",
       "    </tr>\n",
       "    <tr>\n",
       "      <th>3</th>\n",
       "      <td>Chickpea Stew</td>\n",
       "      <td>0.909091</td>\n",
       "      <td>0.105455</td>\n",
       "      <td>0.82</td>\n",
       "      <td>0.046893</td>\n",
       "      <td>0.975761</td>\n",
       "      <td>0.229026</td>\n",
       "      <td>1</td>\n",
       "      <td>1</td>\n",
       "      <td>0</td>\n",
       "      <td>0</td>\n",
       "      <td>0</td>\n",
       "      <td>0</td>\n",
       "      <td>0</td>\n",
       "    </tr>\n",
       "    <tr>\n",
       "      <th>4</th>\n",
       "      <td>Turkey Lettuce Wraps</td>\n",
       "      <td>0.181818</td>\n",
       "      <td>0.441818</td>\n",
       "      <td>0.04</td>\n",
       "      <td>0.864340</td>\n",
       "      <td>0.681575</td>\n",
       "      <td>0.449293</td>\n",
       "      <td>0</td>\n",
       "      <td>0</td>\n",
       "      <td>1</td>\n",
       "      <td>1</td>\n",
       "      <td>1</td>\n",
       "      <td>1</td>\n",
       "      <td>0</td>\n",
       "    </tr>\n",
       "  </tbody>\n",
       "</table>\n",
       "</div>"
      ],
      "text/plain": [
       "              meal_name  num_ingredients  calories  prep_time   protein  \\\n",
       "0     Gluten-Free Pasta         0.272727  0.490909       0.84  0.783679   \n",
       "1        Grilled Salmon         0.909091  0.158182       0.70  0.143588   \n",
       "2           Lentil Soup         0.454545  0.700000       0.40  0.620637   \n",
       "3         Chickpea Stew         0.909091  0.105455       0.82  0.046893   \n",
       "4  Turkey Lettuce Wraps         0.181818  0.441818       0.04  0.864340   \n",
       "\n",
       "        fat     carbs  vegan  vegetarian  keto  paleo  gluten_free  \\\n",
       "0  0.597907  0.444572      0           0     0      0            1   \n",
       "1  0.652082  0.050609      0           0     1      1            1   \n",
       "2  0.612748  0.000688      0           1     0      0            0   \n",
       "3  0.975761  0.229026      1           1     0      0            0   \n",
       "4  0.681575  0.449293      0           0     1      1            1   \n",
       "\n",
       "   mediterranean  is_healthy  \n",
       "0              0           1  \n",
       "1              1           0  \n",
       "2              0           0  \n",
       "3              0           0  \n",
       "4              1           0  "
      ]
     },
     "execution_count": 18,
     "metadata": {},
     "output_type": "execute_result"
    }
   ],
   "source": [
    "meal.head()"
   ]
  },
  {
   "cell_type": "code",
   "execution_count": 19,
   "id": "442233d5",
   "metadata": {},
   "outputs": [
    {
     "data": {
      "text/plain": [
       "array(['Gluten-Free Pasta', 'Grilled Salmon', 'Lentil Soup',\n",
       "       'Chickpea Stew', 'Turkey Lettuce Wraps', 'Cauliflower Rice Bowl',\n",
       "       'Almond Flour Pancakes', 'Vegan Curry', 'Tofu Stir Fry',\n",
       "       'Quinoa Salad', 'Mediterranean Wrap', 'Keto Omelette',\n",
       "       'Vegetarian Pizza', 'Vegan Buddha Bowl', 'Paleo Chicken Bowl',\n",
       "       'Eggplant Parmesan', 'Keto Avocado Salad', 'Shrimp Zoodles',\n",
       "       'Chicken Stir Fry', 'Greek Yogurt Parfait'], dtype=object)"
      ]
     },
     "execution_count": 19,
     "metadata": {},
     "output_type": "execute_result"
    }
   ],
   "source": [
    "meal.meal_name.unique()"
   ]
  },
  {
   "cell_type": "code",
   "execution_count": 20,
   "id": "08469ff6",
   "metadata": {},
   "outputs": [
    {
     "data": {
      "application/vnd.microsoft.datawrangler.viewer.v0+json": {
       "columns": [
        {
         "name": "meal_name",
         "rawType": "object",
         "type": "string"
        },
        {
         "name": "count",
         "rawType": "int64",
         "type": "integer"
        }
       ],
       "ref": "dac0dcab-0954-4178-92bf-5e10b3ea8747",
       "rows": [
        [
         "Cauliflower Rice Bowl",
         "32"
        ],
        [
         "Greek Yogurt Parfait",
         "30"
        ],
        [
         "Tofu Stir Fry",
         "30"
        ],
        [
         "Quinoa Salad",
         "29"
        ],
        [
         "Gluten-Free Pasta",
         "29"
        ],
        [
         "Chickpea Stew",
         "29"
        ],
        [
         "Turkey Lettuce Wraps",
         "27"
        ],
        [
         "Vegan Curry",
         "27"
        ],
        [
         "Lentil Soup",
         "27"
        ],
        [
         "Chicken Stir Fry",
         "27"
        ],
        [
         "Eggplant Parmesan",
         "24"
        ],
        [
         "Keto Avocado Salad",
         "24"
        ],
        [
         "Paleo Chicken Bowl",
         "23"
        ],
        [
         "Keto Omelette",
         "21"
        ],
        [
         "Shrimp Zoodles",
         "21"
        ],
        [
         "Mediterranean Wrap",
         "21"
        ],
        [
         "Almond Flour Pancakes",
         "20"
        ],
        [
         "Grilled Salmon",
         "20"
        ],
        [
         "Vegan Buddha Bowl",
         "20"
        ],
        [
         "Vegetarian Pizza",
         "19"
        ]
       ],
       "shape": {
        "columns": 1,
        "rows": 20
       }
      },
      "text/plain": [
       "meal_name\n",
       "Cauliflower Rice Bowl    32\n",
       "Greek Yogurt Parfait     30\n",
       "Tofu Stir Fry            30\n",
       "Quinoa Salad             29\n",
       "Gluten-Free Pasta        29\n",
       "Chickpea Stew            29\n",
       "Turkey Lettuce Wraps     27\n",
       "Vegan Curry              27\n",
       "Lentil Soup              27\n",
       "Chicken Stir Fry         27\n",
       "Eggplant Parmesan        24\n",
       "Keto Avocado Salad       24\n",
       "Paleo Chicken Bowl       23\n",
       "Keto Omelette            21\n",
       "Shrimp Zoodles           21\n",
       "Mediterranean Wrap       21\n",
       "Almond Flour Pancakes    20\n",
       "Grilled Salmon           20\n",
       "Vegan Buddha Bowl        20\n",
       "Vegetarian Pizza         19\n",
       "Name: count, dtype: int64"
      ]
     },
     "execution_count": 20,
     "metadata": {},
     "output_type": "execute_result"
    }
   ],
   "source": [
    "meal.meal_name.value_counts()"
   ]
  },
  {
   "cell_type": "code",
   "execution_count": null,
   "id": "3d9bae6e",
   "metadata": {},
   "outputs": [],
   "source": [
    "food_name, calories, protein_g, carb_g, fat_g, meal_type, cuisine"
   ]
  },
  {
   "cell_type": "code",
   "execution_count": 2,
   "id": "b586b752",
   "metadata": {},
   "outputs": [
    {
     "data": {
      "text/plain": [
       "((1000, 20),\n",
       " Index(['Patient_ID', 'Age', 'Gender', 'Weight_kg', 'Height_cm', 'BMI',\n",
       "        'Disease_Type', 'Severity', 'Physical_Activity_Level',\n",
       "        'Daily_Caloric_Intake', 'Cholesterol_mg/dL', 'Blood_Pressure_mmHg',\n",
       "        'Glucose_mg/dL', 'Dietary_Restrictions', 'Allergies',\n",
       "        'Preferred_Cuisine', 'Weekly_Exercise_Hours', 'Adherence_to_Diet_Plan',\n",
       "        'Dietary_Nutrient_Imbalance_Score', 'Diet_Recommendation'],\n",
       "       dtype='object'))"
      ]
     },
     "execution_count": 2,
     "metadata": {},
     "output_type": "execute_result"
    }
   ],
   "source": [
    "import pandas as pd\n",
    "diet_meal = pd.read_csv(\"../data/diet_recommendations_dataset.csv\")\n",
    "diet_meal.shape, diet_meal.columns"
   ]
  },
  {
   "cell_type": "code",
   "execution_count": 3,
   "id": "4f9249c4",
   "metadata": {},
   "outputs": [
    {
     "data": {
      "application/vnd.microsoft.datawrangler.viewer.v0+json": {
       "columns": [
        {
         "name": "index",
         "rawType": "int64",
         "type": "integer"
        },
        {
         "name": "Patient_ID",
         "rawType": "object",
         "type": "string"
        },
        {
         "name": "Age",
         "rawType": "int64",
         "type": "integer"
        },
        {
         "name": "Gender",
         "rawType": "object",
         "type": "string"
        },
        {
         "name": "Weight_kg",
         "rawType": "float64",
         "type": "float"
        },
        {
         "name": "Height_cm",
         "rawType": "int64",
         "type": "integer"
        },
        {
         "name": "BMI",
         "rawType": "float64",
         "type": "float"
        },
        {
         "name": "Disease_Type",
         "rawType": "object",
         "type": "unknown"
        },
        {
         "name": "Severity",
         "rawType": "object",
         "type": "string"
        },
        {
         "name": "Physical_Activity_Level",
         "rawType": "object",
         "type": "string"
        },
        {
         "name": "Daily_Caloric_Intake",
         "rawType": "int64",
         "type": "integer"
        },
        {
         "name": "Cholesterol_mg/dL",
         "rawType": "float64",
         "type": "float"
        },
        {
         "name": "Blood_Pressure_mmHg",
         "rawType": "int64",
         "type": "integer"
        },
        {
         "name": "Glucose_mg/dL",
         "rawType": "float64",
         "type": "float"
        },
        {
         "name": "Dietary_Restrictions",
         "rawType": "object",
         "type": "unknown"
        },
        {
         "name": "Allergies",
         "rawType": "object",
         "type": "unknown"
        },
        {
         "name": "Preferred_Cuisine",
         "rawType": "object",
         "type": "string"
        },
        {
         "name": "Weekly_Exercise_Hours",
         "rawType": "float64",
         "type": "float"
        },
        {
         "name": "Adherence_to_Diet_Plan",
         "rawType": "float64",
         "type": "float"
        },
        {
         "name": "Dietary_Nutrient_Imbalance_Score",
         "rawType": "float64",
         "type": "float"
        },
        {
         "name": "Diet_Recommendation",
         "rawType": "object",
         "type": "string"
        }
       ],
       "ref": "651462fc-132a-49cb-b556-503b43b23453",
       "rows": [
        [
         "0",
         "P0001",
         "56",
         "Male",
         "58.4",
         "160",
         "22.8",
         "Obesity",
         "Moderate",
         "Moderate",
         "3079",
         "173.3",
         "133",
         "116.3",
         null,
         "Peanuts",
         "Mexican",
         "3.1",
         "96.6",
         "3.1",
         "Balanced"
        ],
        [
         "1",
         "P0002",
         "69",
         "Male",
         "101.2",
         "169",
         "35.4",
         "Diabetes",
         "Mild",
         "Moderate",
         "3032",
         "199.2",
         "120",
         "137.1",
         null,
         "Peanuts",
         "Chinese",
         "4.5",
         "63.2",
         "0.6",
         "Low_Carb"
        ],
        [
         "2",
         "P0003",
         "46",
         "Female",
         "63.5",
         "173",
         "21.2",
         "Hypertension",
         "Mild",
         "Sedentary",
         "1737",
         "181.0",
         "121",
         "109.6",
         null,
         "Peanuts",
         "Chinese",
         "3.8",
         "57.5",
         "4.6",
         "Low_Sodium"
        ],
        [
         "3",
         "P0004",
         "32",
         "Male",
         "58.1",
         "164",
         "21.6",
         null,
         "Mild",
         "Moderate",
         "2657",
         "168.2",
         "144",
         "159.4",
         null,
         null,
         "Mexican",
         "4.3",
         "54.5",
         "0.4",
         "Balanced"
        ],
        [
         "4",
         "P0005",
         "60",
         "Male",
         "79.5",
         "197",
         "20.5",
         "Diabetes",
         "Moderate",
         "Sedentary",
         "3496",
         "200.4",
         "172",
         "182.3",
         "Low_Sugar",
         null,
         "Italian",
         "9.8",
         "78.2",
         "4.7",
         "Low_Carb"
        ]
       ],
       "shape": {
        "columns": 20,
        "rows": 5
       }
      },
      "text/html": [
       "<div>\n",
       "<style scoped>\n",
       "    .dataframe tbody tr th:only-of-type {\n",
       "        vertical-align: middle;\n",
       "    }\n",
       "\n",
       "    .dataframe tbody tr th {\n",
       "        vertical-align: top;\n",
       "    }\n",
       "\n",
       "    .dataframe thead th {\n",
       "        text-align: right;\n",
       "    }\n",
       "</style>\n",
       "<table border=\"1\" class=\"dataframe\">\n",
       "  <thead>\n",
       "    <tr style=\"text-align: right;\">\n",
       "      <th></th>\n",
       "      <th>Patient_ID</th>\n",
       "      <th>Age</th>\n",
       "      <th>Gender</th>\n",
       "      <th>Weight_kg</th>\n",
       "      <th>Height_cm</th>\n",
       "      <th>BMI</th>\n",
       "      <th>Disease_Type</th>\n",
       "      <th>Severity</th>\n",
       "      <th>Physical_Activity_Level</th>\n",
       "      <th>Daily_Caloric_Intake</th>\n",
       "      <th>Cholesterol_mg/dL</th>\n",
       "      <th>Blood_Pressure_mmHg</th>\n",
       "      <th>Glucose_mg/dL</th>\n",
       "      <th>Dietary_Restrictions</th>\n",
       "      <th>Allergies</th>\n",
       "      <th>Preferred_Cuisine</th>\n",
       "      <th>Weekly_Exercise_Hours</th>\n",
       "      <th>Adherence_to_Diet_Plan</th>\n",
       "      <th>Dietary_Nutrient_Imbalance_Score</th>\n",
       "      <th>Diet_Recommendation</th>\n",
       "    </tr>\n",
       "  </thead>\n",
       "  <tbody>\n",
       "    <tr>\n",
       "      <th>0</th>\n",
       "      <td>P0001</td>\n",
       "      <td>56</td>\n",
       "      <td>Male</td>\n",
       "      <td>58.4</td>\n",
       "      <td>160</td>\n",
       "      <td>22.8</td>\n",
       "      <td>Obesity</td>\n",
       "      <td>Moderate</td>\n",
       "      <td>Moderate</td>\n",
       "      <td>3079</td>\n",
       "      <td>173.3</td>\n",
       "      <td>133</td>\n",
       "      <td>116.3</td>\n",
       "      <td>NaN</td>\n",
       "      <td>Peanuts</td>\n",
       "      <td>Mexican</td>\n",
       "      <td>3.1</td>\n",
       "      <td>96.6</td>\n",
       "      <td>3.1</td>\n",
       "      <td>Balanced</td>\n",
       "    </tr>\n",
       "    <tr>\n",
       "      <th>1</th>\n",
       "      <td>P0002</td>\n",
       "      <td>69</td>\n",
       "      <td>Male</td>\n",
       "      <td>101.2</td>\n",
       "      <td>169</td>\n",
       "      <td>35.4</td>\n",
       "      <td>Diabetes</td>\n",
       "      <td>Mild</td>\n",
       "      <td>Moderate</td>\n",
       "      <td>3032</td>\n",
       "      <td>199.2</td>\n",
       "      <td>120</td>\n",
       "      <td>137.1</td>\n",
       "      <td>NaN</td>\n",
       "      <td>Peanuts</td>\n",
       "      <td>Chinese</td>\n",
       "      <td>4.5</td>\n",
       "      <td>63.2</td>\n",
       "      <td>0.6</td>\n",
       "      <td>Low_Carb</td>\n",
       "    </tr>\n",
       "    <tr>\n",
       "      <th>2</th>\n",
       "      <td>P0003</td>\n",
       "      <td>46</td>\n",
       "      <td>Female</td>\n",
       "      <td>63.5</td>\n",
       "      <td>173</td>\n",
       "      <td>21.2</td>\n",
       "      <td>Hypertension</td>\n",
       "      <td>Mild</td>\n",
       "      <td>Sedentary</td>\n",
       "      <td>1737</td>\n",
       "      <td>181.0</td>\n",
       "      <td>121</td>\n",
       "      <td>109.6</td>\n",
       "      <td>NaN</td>\n",
       "      <td>Peanuts</td>\n",
       "      <td>Chinese</td>\n",
       "      <td>3.8</td>\n",
       "      <td>57.5</td>\n",
       "      <td>4.6</td>\n",
       "      <td>Low_Sodium</td>\n",
       "    </tr>\n",
       "    <tr>\n",
       "      <th>3</th>\n",
       "      <td>P0004</td>\n",
       "      <td>32</td>\n",
       "      <td>Male</td>\n",
       "      <td>58.1</td>\n",
       "      <td>164</td>\n",
       "      <td>21.6</td>\n",
       "      <td>NaN</td>\n",
       "      <td>Mild</td>\n",
       "      <td>Moderate</td>\n",
       "      <td>2657</td>\n",
       "      <td>168.2</td>\n",
       "      <td>144</td>\n",
       "      <td>159.4</td>\n",
       "      <td>NaN</td>\n",
       "      <td>NaN</td>\n",
       "      <td>Mexican</td>\n",
       "      <td>4.3</td>\n",
       "      <td>54.5</td>\n",
       "      <td>0.4</td>\n",
       "      <td>Balanced</td>\n",
       "    </tr>\n",
       "    <tr>\n",
       "      <th>4</th>\n",
       "      <td>P0005</td>\n",
       "      <td>60</td>\n",
       "      <td>Male</td>\n",
       "      <td>79.5</td>\n",
       "      <td>197</td>\n",
       "      <td>20.5</td>\n",
       "      <td>Diabetes</td>\n",
       "      <td>Moderate</td>\n",
       "      <td>Sedentary</td>\n",
       "      <td>3496</td>\n",
       "      <td>200.4</td>\n",
       "      <td>172</td>\n",
       "      <td>182.3</td>\n",
       "      <td>Low_Sugar</td>\n",
       "      <td>NaN</td>\n",
       "      <td>Italian</td>\n",
       "      <td>9.8</td>\n",
       "      <td>78.2</td>\n",
       "      <td>4.7</td>\n",
       "      <td>Low_Carb</td>\n",
       "    </tr>\n",
       "  </tbody>\n",
       "</table>\n",
       "</div>"
      ],
      "text/plain": [
       "  Patient_ID  Age  Gender  Weight_kg  Height_cm   BMI  Disease_Type  Severity  \\\n",
       "0      P0001   56    Male       58.4        160  22.8       Obesity  Moderate   \n",
       "1      P0002   69    Male      101.2        169  35.4      Diabetes      Mild   \n",
       "2      P0003   46  Female       63.5        173  21.2  Hypertension      Mild   \n",
       "3      P0004   32    Male       58.1        164  21.6           NaN      Mild   \n",
       "4      P0005   60    Male       79.5        197  20.5      Diabetes  Moderate   \n",
       "\n",
       "  Physical_Activity_Level  Daily_Caloric_Intake  Cholesterol_mg/dL  \\\n",
       "0                Moderate                  3079              173.3   \n",
       "1                Moderate                  3032              199.2   \n",
       "2               Sedentary                  1737              181.0   \n",
       "3                Moderate                  2657              168.2   \n",
       "4               Sedentary                  3496              200.4   \n",
       "\n",
       "   Blood_Pressure_mmHg  Glucose_mg/dL Dietary_Restrictions Allergies  \\\n",
       "0                  133          116.3                  NaN   Peanuts   \n",
       "1                  120          137.1                  NaN   Peanuts   \n",
       "2                  121          109.6                  NaN   Peanuts   \n",
       "3                  144          159.4                  NaN       NaN   \n",
       "4                  172          182.3            Low_Sugar       NaN   \n",
       "\n",
       "  Preferred_Cuisine  Weekly_Exercise_Hours  Adherence_to_Diet_Plan  \\\n",
       "0           Mexican                    3.1                    96.6   \n",
       "1           Chinese                    4.5                    63.2   \n",
       "2           Chinese                    3.8                    57.5   \n",
       "3           Mexican                    4.3                    54.5   \n",
       "4           Italian                    9.8                    78.2   \n",
       "\n",
       "   Dietary_Nutrient_Imbalance_Score Diet_Recommendation  \n",
       "0                               3.1            Balanced  \n",
       "1                               0.6            Low_Carb  \n",
       "2                               4.6          Low_Sodium  \n",
       "3                               0.4            Balanced  \n",
       "4                               4.7            Low_Carb  "
      ]
     },
     "execution_count": 3,
     "metadata": {},
     "output_type": "execute_result"
    }
   ],
   "source": [
    "diet_meal.head()"
   ]
  },
  {
   "cell_type": "code",
   "execution_count": 5,
   "id": "f0bc35b7",
   "metadata": {},
   "outputs": [
    {
     "data": {
      "application/vnd.microsoft.datawrangler.viewer.v0+json": {
       "columns": [
        {
         "name": "Disease_Type",
         "rawType": "object",
         "type": "string"
        },
        {
         "name": "count",
         "rawType": "int64",
         "type": "integer"
        }
       ],
       "ref": "c25d3b64-e202-429a-8b57-bcf51bbfd7bb",
       "rows": [
        [
         "Hypertension",
         "316"
        ],
        [
         "Diabetes",
         "258"
        ],
        [
         "Obesity",
         "222"
        ]
       ],
       "shape": {
        "columns": 1,
        "rows": 3
       }
      },
      "text/plain": [
       "Disease_Type\n",
       "Hypertension    316\n",
       "Diabetes        258\n",
       "Obesity         222\n",
       "Name: count, dtype: int64"
      ]
     },
     "execution_count": 5,
     "metadata": {},
     "output_type": "execute_result"
    }
   ],
   "source": [
    "diet_meal.Disease_Type.value_counts()"
   ]
  },
  {
   "cell_type": "markdown",
   "id": "1efffe06",
   "metadata": {},
   "source": [
    "# Task - Carry out futher exploratory data analysis (EDA) on the datasetmmm"
   ]
  },
  {
   "cell_type": "markdown",
   "id": "357822d4",
   "metadata": {},
   "source": []
  }
 ],
 "metadata": {
  "kernelspec": {
   "display_name": "homl3",
   "language": "python",
   "name": "python3"
  },
  "language_info": {
   "codemirror_mode": {
    "name": "ipython",
    "version": 3
   },
   "file_extension": ".py",
   "mimetype": "text/x-python",
   "name": "python",
   "nbconvert_exporter": "python",
   "pygments_lexer": "ipython3",
   "version": "3.10.17"
  }
 },
 "nbformat": 4,
 "nbformat_minor": 5
}
